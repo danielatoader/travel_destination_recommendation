{
 "cells": [
  {
   "cell_type": "markdown",
   "metadata": {},
   "source": [
    "# Recommend Cities\n",
    "Using a Nearest Neighbors approach, recommends cities using Euclidean distance."
   ]
  },
  {
   "cell_type": "markdown",
   "metadata": {},
   "source": [
    "## Import Necessary Libraries"
   ]
  },
  {
   "cell_type": "code",
   "execution_count": 18,
   "metadata": {},
   "outputs": [
    {
     "name": "stdout",
     "output_type": "stream",
     "text": [
      "The autoreload extension is already loaded. To reload it, use:\n",
      "  %reload_ext autoreload\n"
     ]
    }
   ],
   "source": [
    "%load_ext autoreload\n",
    "%autoreload 2"
   ]
  },
  {
   "cell_type": "code",
   "execution_count": 19,
   "metadata": {},
   "outputs": [],
   "source": [
    "import pickle\n",
    "import pandas as pd\n",
    "from sklearn.neighbors import NearestNeighbors\n",
    "from travel_destination_recommendation.recommend import make_recommendations, rate_recs"
   ]
  },
  {
   "cell_type": "markdown",
   "metadata": {},
   "source": [
    "## Load Data from Pickle File"
   ]
  },
  {
   "cell_type": "code",
   "execution_count": 20,
   "metadata": {},
   "outputs": [
    {
     "data": {
      "text/html": [
       "<div>\n",
       "<style scoped>\n",
       "    .dataframe tbody tr th:only-of-type {\n",
       "        vertical-align: middle;\n",
       "    }\n",
       "\n",
       "    .dataframe tbody tr th {\n",
       "        vertical-align: top;\n",
       "    }\n",
       "\n",
       "    .dataframe thead th {\n",
       "        text-align: right;\n",
       "    }\n",
       "</style>\n",
       "<table border=\"1\" class=\"dataframe\">\n",
       "  <thead>\n",
       "    <tr style=\"text-align: right;\">\n",
       "      <th></th>\n",
       "      <th>city</th>\n",
       "      <th>city_summary</th>\n",
       "      <th>city_url</th>\n",
       "      <th>country</th>\n",
       "      <th>forest_mountain</th>\n",
       "      <th>palaces</th>\n",
       "      <th>island_water</th>\n",
       "      <th>historical_ww2</th>\n",
       "      <th>urban</th>\n",
       "    </tr>\n",
       "  </thead>\n",
       "  <tbody>\n",
       "    <tr>\n",
       "      <th>0</th>\n",
       "      <td>Danube Valley</td>\n",
       "      <td>The Danube is at its romantic best just west o...</td>\n",
       "      <td>https://www.ricksteves.com/europe/austria/danu...</td>\n",
       "      <td>Austria</td>\n",
       "      <td>0.217851</td>\n",
       "      <td>0.193999</td>\n",
       "      <td>0.196622</td>\n",
       "      <td>0.186767</td>\n",
       "      <td>0.204762</td>\n",
       "    </tr>\n",
       "    <tr>\n",
       "      <th>1</th>\n",
       "      <td>Hallstatt</td>\n",
       "      <td>Lovable Hallstatt is a tiny town bullied onto ...</td>\n",
       "      <td>https://www.ricksteves.com/europe/austria/hall...</td>\n",
       "      <td>Austria</td>\n",
       "      <td>0.215644</td>\n",
       "      <td>0.191211</td>\n",
       "      <td>0.195105</td>\n",
       "      <td>0.207592</td>\n",
       "      <td>0.190449</td>\n",
       "    </tr>\n",
       "    <tr>\n",
       "      <th>2</th>\n",
       "      <td>Salzburg</td>\n",
       "      <td>Thanks to its charmingly preserved old town, s...</td>\n",
       "      <td>https://www.ricksteves.com/europe/austria/salz...</td>\n",
       "      <td>Austria</td>\n",
       "      <td>0.215227</td>\n",
       "      <td>0.192130</td>\n",
       "      <td>0.208308</td>\n",
       "      <td>0.194362</td>\n",
       "      <td>0.189973</td>\n",
       "    </tr>\n",
       "    <tr>\n",
       "      <th>3</th>\n",
       "      <td>Tirol</td>\n",
       "      <td>Mountainous Tirol — in Austria's western panha...</td>\n",
       "      <td>https://www.ricksteves.com/europe/austria/tirol</td>\n",
       "      <td>Austria</td>\n",
       "      <td>0.196819</td>\n",
       "      <td>0.203917</td>\n",
       "      <td>0.212732</td>\n",
       "      <td>0.223861</td>\n",
       "      <td>0.162672</td>\n",
       "    </tr>\n",
       "    <tr>\n",
       "      <th>4</th>\n",
       "      <td>Vienna</td>\n",
       "      <td>Vienna is the capital of Austria, the cradle o...</td>\n",
       "      <td>https://www.ricksteves.com/europe/austria/vienna</td>\n",
       "      <td>Austria</td>\n",
       "      <td>0.200953</td>\n",
       "      <td>0.205604</td>\n",
       "      <td>0.209454</td>\n",
       "      <td>0.225827</td>\n",
       "      <td>0.158162</td>\n",
       "    </tr>\n",
       "    <tr>\n",
       "      <th>5</th>\n",
       "      <td>Antwerp</td>\n",
       "      <td>Antwerp (Antwerpen in Dutch, Anvers in French)...</td>\n",
       "      <td>https://www.ricksteves.com/europe/belgium/antwerp</td>\n",
       "      <td>Belgium</td>\n",
       "      <td>0.222889</td>\n",
       "      <td>0.208160</td>\n",
       "      <td>0.206248</td>\n",
       "      <td>0.199187</td>\n",
       "      <td>0.163516</td>\n",
       "    </tr>\n",
       "    <tr>\n",
       "      <th>6</th>\n",
       "      <td>Bruges</td>\n",
       "      <td>With pointy gilded architecture, stay-a-while ...</td>\n",
       "      <td>https://www.ricksteves.com/europe/belgium/bruges</td>\n",
       "      <td>Belgium</td>\n",
       "      <td>0.186662</td>\n",
       "      <td>0.196401</td>\n",
       "      <td>0.200745</td>\n",
       "      <td>0.223841</td>\n",
       "      <td>0.192350</td>\n",
       "    </tr>\n",
       "    <tr>\n",
       "      <th>7</th>\n",
       "      <td>Brussels</td>\n",
       "      <td>Six hundred years ago, Brussels was just a nic...</td>\n",
       "      <td>https://www.ricksteves.com/europe/belgium/brus...</td>\n",
       "      <td>Belgium</td>\n",
       "      <td>0.200143</td>\n",
       "      <td>0.217760</td>\n",
       "      <td>0.197729</td>\n",
       "      <td>0.211140</td>\n",
       "      <td>0.173228</td>\n",
       "    </tr>\n",
       "    <tr>\n",
       "      <th>8</th>\n",
       "      <td>Ghent</td>\n",
       "      <td>Ghent doesn't ooze with cobbles and charm, lik...</td>\n",
       "      <td>https://www.ricksteves.com/europe/belgium/ghent</td>\n",
       "      <td>Belgium</td>\n",
       "      <td>0.167311</td>\n",
       "      <td>0.258152</td>\n",
       "      <td>0.189665</td>\n",
       "      <td>0.191732</td>\n",
       "      <td>0.193139</td>\n",
       "    </tr>\n",
       "    <tr>\n",
       "      <th>9</th>\n",
       "      <td>Mostar</td>\n",
       "      <td>Despite the scars of war, Mostar is still stun...</td>\n",
       "      <td>https://www.ricksteves.com/europe/bosnia-herze...</td>\n",
       "      <td>Bosnia-Herzegovina</td>\n",
       "      <td>0.170985</td>\n",
       "      <td>0.239295</td>\n",
       "      <td>0.197913</td>\n",
       "      <td>0.193964</td>\n",
       "      <td>0.197843</td>\n",
       "    </tr>\n",
       "  </tbody>\n",
       "</table>\n",
       "</div>"
      ],
      "text/plain": [
       "            city                                       city_summary  \\\n",
       "0  Danube Valley  The Danube is at its romantic best just west o...   \n",
       "1      Hallstatt  Lovable Hallstatt is a tiny town bullied onto ...   \n",
       "2       Salzburg  Thanks to its charmingly preserved old town, s...   \n",
       "3          Tirol  Mountainous Tirol — in Austria's western panha...   \n",
       "4         Vienna  Vienna is the capital of Austria, the cradle o...   \n",
       "5        Antwerp  Antwerp (Antwerpen in Dutch, Anvers in French)...   \n",
       "6         Bruges  With pointy gilded architecture, stay-a-while ...   \n",
       "7       Brussels  Six hundred years ago, Brussels was just a nic...   \n",
       "8          Ghent  Ghent doesn't ooze with cobbles and charm, lik...   \n",
       "9         Mostar  Despite the scars of war, Mostar is still stun...   \n",
       "\n",
       "                                            city_url             country  \\\n",
       "0  https://www.ricksteves.com/europe/austria/danu...             Austria   \n",
       "1  https://www.ricksteves.com/europe/austria/hall...             Austria   \n",
       "2  https://www.ricksteves.com/europe/austria/salz...             Austria   \n",
       "3    https://www.ricksteves.com/europe/austria/tirol             Austria   \n",
       "4   https://www.ricksteves.com/europe/austria/vienna             Austria   \n",
       "5  https://www.ricksteves.com/europe/belgium/antwerp             Belgium   \n",
       "6   https://www.ricksteves.com/europe/belgium/bruges             Belgium   \n",
       "7  https://www.ricksteves.com/europe/belgium/brus...             Belgium   \n",
       "8    https://www.ricksteves.com/europe/belgium/ghent             Belgium   \n",
       "9  https://www.ricksteves.com/europe/bosnia-herze...  Bosnia-Herzegovina   \n",
       "\n",
       "   forest_mountain   palaces  island_water  historical_ww2     urban  \n",
       "0         0.217851  0.193999      0.196622        0.186767  0.204762  \n",
       "1         0.215644  0.191211      0.195105        0.207592  0.190449  \n",
       "2         0.215227  0.192130      0.208308        0.194362  0.189973  \n",
       "3         0.196819  0.203917      0.212732        0.223861  0.162672  \n",
       "4         0.200953  0.205604      0.209454        0.225827  0.158162  \n",
       "5         0.222889  0.208160      0.206248        0.199187  0.163516  \n",
       "6         0.186662  0.196401      0.200745        0.223841  0.192350  \n",
       "7         0.200143  0.217760      0.197729        0.211140  0.173228  \n",
       "8         0.167311  0.258152      0.189665        0.191732  0.193139  \n",
       "9         0.170985  0.239295      0.197913        0.193964  0.197843  "
      ]
     },
     "execution_count": 20,
     "metadata": {},
     "output_type": "execute_result"
    }
   ],
   "source": [
    "cities_with_scores = pickle.load(open('data/cities_with_topic_scores.pkl', 'rb'))\n",
    "cities_with_scores.head(10)"
   ]
  },
  {
   "cell_type": "code",
   "execution_count": 21,
   "metadata": {},
   "outputs": [],
   "source": [
    "topics = cities_with_scores.drop(['city', 'city_summary', 'country', 'city_url'], axis=1)"
   ]
  },
  {
   "cell_type": "markdown",
   "metadata": {},
   "source": [
    "## Train NN-Model on Topic Scores\n",
    "Collect the 50 closest neighbors. I used minkowski, p=2 since users are rating features implying magnitude. With cosine similarity, magnitude is not a factor. If cosine similarity was used, a user rating of all `1s` would give the same recommendations as a user rating of all `9s`."
   ]
  },
  {
   "cell_type": "code",
   "execution_count": 22,
   "metadata": {},
   "outputs": [
    {
     "data": {
      "text/html": [
       "<style>#sk-container-id-3 {color: black;background-color: white;}#sk-container-id-3 pre{padding: 0;}#sk-container-id-3 div.sk-toggleable {background-color: white;}#sk-container-id-3 label.sk-toggleable__label {cursor: pointer;display: block;width: 100%;margin-bottom: 0;padding: 0.3em;box-sizing: border-box;text-align: center;}#sk-container-id-3 label.sk-toggleable__label-arrow:before {content: \"▸\";float: left;margin-right: 0.25em;color: #696969;}#sk-container-id-3 label.sk-toggleable__label-arrow:hover:before {color: black;}#sk-container-id-3 div.sk-estimator:hover label.sk-toggleable__label-arrow:before {color: black;}#sk-container-id-3 div.sk-toggleable__content {max-height: 0;max-width: 0;overflow: hidden;text-align: left;background-color: #f0f8ff;}#sk-container-id-3 div.sk-toggleable__content pre {margin: 0.2em;color: black;border-radius: 0.25em;background-color: #f0f8ff;}#sk-container-id-3 input.sk-toggleable__control:checked~div.sk-toggleable__content {max-height: 200px;max-width: 100%;overflow: auto;}#sk-container-id-3 input.sk-toggleable__control:checked~label.sk-toggleable__label-arrow:before {content: \"▾\";}#sk-container-id-3 div.sk-estimator input.sk-toggleable__control:checked~label.sk-toggleable__label {background-color: #d4ebff;}#sk-container-id-3 div.sk-label input.sk-toggleable__control:checked~label.sk-toggleable__label {background-color: #d4ebff;}#sk-container-id-3 input.sk-hidden--visually {border: 0;clip: rect(1px 1px 1px 1px);clip: rect(1px, 1px, 1px, 1px);height: 1px;margin: -1px;overflow: hidden;padding: 0;position: absolute;width: 1px;}#sk-container-id-3 div.sk-estimator {font-family: monospace;background-color: #f0f8ff;border: 1px dotted black;border-radius: 0.25em;box-sizing: border-box;margin-bottom: 0.5em;}#sk-container-id-3 div.sk-estimator:hover {background-color: #d4ebff;}#sk-container-id-3 div.sk-parallel-item::after {content: \"\";width: 100%;border-bottom: 1px solid gray;flex-grow: 1;}#sk-container-id-3 div.sk-label:hover label.sk-toggleable__label {background-color: #d4ebff;}#sk-container-id-3 div.sk-serial::before {content: \"\";position: absolute;border-left: 1px solid gray;box-sizing: border-box;top: 0;bottom: 0;left: 50%;z-index: 0;}#sk-container-id-3 div.sk-serial {display: flex;flex-direction: column;align-items: center;background-color: white;padding-right: 0.2em;padding-left: 0.2em;position: relative;}#sk-container-id-3 div.sk-item {position: relative;z-index: 1;}#sk-container-id-3 div.sk-parallel {display: flex;align-items: stretch;justify-content: center;background-color: white;position: relative;}#sk-container-id-3 div.sk-item::before, #sk-container-id-3 div.sk-parallel-item::before {content: \"\";position: absolute;border-left: 1px solid gray;box-sizing: border-box;top: 0;bottom: 0;left: 50%;z-index: -1;}#sk-container-id-3 div.sk-parallel-item {display: flex;flex-direction: column;z-index: 1;position: relative;background-color: white;}#sk-container-id-3 div.sk-parallel-item:first-child::after {align-self: flex-end;width: 50%;}#sk-container-id-3 div.sk-parallel-item:last-child::after {align-self: flex-start;width: 50%;}#sk-container-id-3 div.sk-parallel-item:only-child::after {width: 0;}#sk-container-id-3 div.sk-dashed-wrapped {border: 1px dashed gray;margin: 0 0.4em 0.5em 0.4em;box-sizing: border-box;padding-bottom: 0.4em;background-color: white;}#sk-container-id-3 div.sk-label label {font-family: monospace;font-weight: bold;display: inline-block;line-height: 1.2em;}#sk-container-id-3 div.sk-label-container {text-align: center;}#sk-container-id-3 div.sk-container {/* jupyter's `normalize.less` sets `[hidden] { display: none; }` but bootstrap.min.css set `[hidden] { display: none !important; }` so we also need the `!important` here to be able to override the default hidden behavior on the sphinx rendered scikit-learn.org. See: https://github.com/scikit-learn/scikit-learn/issues/21755 */display: inline-block !important;position: relative;}#sk-container-id-3 div.sk-text-repr-fallback {display: none;}</style><div id=\"sk-container-id-3\" class=\"sk-top-container\"><div class=\"sk-text-repr-fallback\"><pre>NearestNeighbors(n_neighbors=50)</pre><b>In a Jupyter environment, please rerun this cell to show the HTML representation or trust the notebook. <br />On GitHub, the HTML representation is unable to render, please try loading this page with nbviewer.org.</b></div><div class=\"sk-container\" hidden><div class=\"sk-item\"><div class=\"sk-estimator sk-toggleable\"><input class=\"sk-toggleable__control sk-hidden--visually\" id=\"sk-estimator-id-3\" type=\"checkbox\" checked><label for=\"sk-estimator-id-3\" class=\"sk-toggleable__label sk-toggleable__label-arrow\">NearestNeighbors</label><div class=\"sk-toggleable__content\"><pre>NearestNeighbors(n_neighbors=50)</pre></div></div></div></div></div>"
      ],
      "text/plain": [
       "NearestNeighbors(n_neighbors=50)"
      ]
     },
     "execution_count": 22,
     "metadata": {},
     "output_type": "execute_result"
    }
   ],
   "source": [
    "nearest_neighbor = NearestNeighbors(n_neighbors=50, metric='minkowski')\n",
    "nearest_neighbor.fit(topics)"
   ]
  },
  {
   "cell_type": "markdown",
   "metadata": {},
   "source": [
    "### For reproducability, load the existing NN-model"
   ]
  },
  {
   "cell_type": "code",
   "execution_count": 23,
   "metadata": {},
   "outputs": [
    {
     "name": "stdout",
     "output_type": "stream",
     "text": [
      "1.1.2\n"
     ]
    },
    {
     "name": "stderr",
     "output_type": "stream",
     "text": [
      "c:\\Users\\danie\\AppData\\Local\\Programs\\Python\\Python39\\lib\\site-packages\\sklearn\\base.py:329: UserWarning: Trying to unpickle estimator NearestNeighbors from version 0.21.1 when using version 1.1.2. This might lead to breaking code or invalid results. Use at your own risk. For more info please refer to:\n",
      "https://scikit-learn.org/stable/model_persistence.html#security-maintainability-limitations\n",
      "  from .metrics import r2_score\n"
     ]
    }
   ],
   "source": [
    "# pickle.dump(nearest_neighbor, open('models/nn_model.pkl', 'wb'))\n",
    "import sklearn\n",
    "\n",
    "\n",
    "nearest_neighbor = pickle.load(open('models/nn_model.pkl', 'rb'))\n",
    "print(sklearn.__version__)\n",
    "# print(pickle.__package__)"
   ]
  },
  {
   "cell_type": "markdown",
   "metadata": {},
   "source": [
    "## Make Recommendations\n",
    "\n",
    "Collects user information to make recommendations."
   ]
  },
  {
   "cell_type": "code",
   "execution_count": 24,
   "metadata": {},
   "outputs": [
    {
     "name": "stdout",
     "output_type": "stream",
     "text": [
      "Rate on a scale of 0-10.\n",
      "    0 is not important and 10 is very important\n"
     ]
    },
    {
     "name": "stderr",
     "output_type": "stream",
     "text": [
      "c:\\Users\\danie\\source\\repos\\travel_destination_recommendation\\travel_destination_recommendation\\recommend.py:54: VisibleDeprecationWarning: Creating an ndarray from ragged nested sequences (which is a list-or-tuple of lists-or-tuples-or ndarrays with different lengths or shapes) is deprecated. If you meant to do this, you must specify 'dtype=object' when creating the ndarray.\n",
      "  return np.random.choice(np.array(closest)[:, 0], 10, replace=False)\n"
     ]
    },
    {
     "name": "stdout",
     "output_type": "stream",
     "text": [
      "\n",
      "\n",
      "For the following locations give:\n",
      "            \t1 if you have visited and liked\n",
      "            \t-1 if you have visited and disliked\n",
      "            \t0 if you have never been\n"
     ]
    }
   ],
   "source": [
    "recommendations = make_recommendations(cities_with_scores, nearest_neighbor)"
   ]
  },
  {
   "cell_type": "markdown",
   "metadata": {},
   "source": [
    "## Determine strength of recommendations\n",
    "Ask the user how they liked their recommendations."
   ]
  },
  {
   "cell_type": "code",
   "execution_count": 25,
   "metadata": {},
   "outputs": [
    {
     "name": "stdout",
     "output_type": "stream",
     "text": [
      "If interested in visiting enter 1, else 0\n"
     ]
    }
   ],
   "source": [
    "rate_recs(recommendations)"
   ]
  },
  {
   "cell_type": "code",
   "execution_count": 26,
   "metadata": {},
   "outputs": [
    {
     "name": "stdout",
     "output_type": "stream",
     "text": [
      "[(('Rhine Valley', 'Germany'), 0.10803072489987252), (('Zagreb', 'Croatia'), 0.11060564838559112), (('Isle of Skye', 'Scotland'), 0.11099850156465726), (('Korčula', 'Croatia'), 0.11447172650112071), (('St Petersburg', 'Russia'), 0.11452370292726524)]\n"
     ]
    }
   ],
   "source": [
    "print(recommendations)"
   ]
  }
 ],
 "metadata": {
  "kernelspec": {
   "display_name": "Python 3.9.7 64-bit",
   "language": "python",
   "name": "python3"
  },
  "language_info": {
   "codemirror_mode": {
    "name": "ipython",
    "version": 3
   },
   "file_extension": ".py",
   "mimetype": "text/x-python",
   "name": "python",
   "nbconvert_exporter": "python",
   "pygments_lexer": "ipython3",
   "version": "3.9.7"
  },
  "vscode": {
   "interpreter": {
    "hash": "a9960baf88259386db57c734c8604c8e4ab789688672644b3cf73fda24b112c6"
   }
  }
 },
 "nbformat": 4,
 "nbformat_minor": 2
}
