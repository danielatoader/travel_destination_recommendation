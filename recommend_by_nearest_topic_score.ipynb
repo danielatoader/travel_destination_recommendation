{
 "cells": [
  {
   "cell_type": "markdown",
   "metadata": {},
   "source": [
    "The goal of this model will be to use a Nearest Neighbors approach. Will recommend the location that has the closest cosine similariy."
   ]
  },
  {
   "cell_type": "markdown",
   "metadata": {},
   "source": [
    "## Import Necessary Libraries"
   ]
  },
  {
   "cell_type": "code",
   "execution_count": 1,
   "metadata": {},
   "outputs": [],
   "source": [
    "%load_ext autoreload\n",
    "%autoreload 2"
   ]
  },
  {
   "cell_type": "code",
   "execution_count": 4,
   "metadata": {},
   "outputs": [],
   "source": [
    "import pickle\n",
    "import pandas as pd\n",
    "from sklearn.neighbors import NearestNeighbors\n",
    "from travel_destination_recommendation.recommend import make_recommendations, rate_recs"
   ]
  },
  {
   "cell_type": "markdown",
   "metadata": {},
   "source": [
    "## Load Data from Pickle File"
   ]
  },
  {
   "cell_type": "code",
   "execution_count": 5,
   "metadata": {},
   "outputs": [
    {
     "data": {
      "text/html": [
       "<div>\n",
       "<style scoped>\n",
       "    .dataframe tbody tr th:only-of-type {\n",
       "        vertical-align: middle;\n",
       "    }\n",
       "\n",
       "    .dataframe tbody tr th {\n",
       "        vertical-align: top;\n",
       "    }\n",
       "\n",
       "    .dataframe thead th {\n",
       "        text-align: right;\n",
       "    }\n",
       "</style>\n",
       "<table border=\"1\" class=\"dataframe\">\n",
       "  <thead>\n",
       "    <tr style=\"text-align: right;\">\n",
       "      <th></th>\n",
       "      <th>city</th>\n",
       "      <th>city_summary</th>\n",
       "      <th>city_url</th>\n",
       "      <th>country</th>\n",
       "      <th>forest_mountain</th>\n",
       "      <th>palaces</th>\n",
       "      <th>island_water</th>\n",
       "      <th>historical_ww2</th>\n",
       "      <th>urban</th>\n",
       "    </tr>\n",
       "  </thead>\n",
       "  <tbody>\n",
       "    <tr>\n",
       "      <th>0</th>\n",
       "      <td>Danube Valley</td>\n",
       "      <td>The Danube is at its romantic best just west o...</td>\n",
       "      <td>https://www.ricksteves.com/europe/austria/danu...</td>\n",
       "      <td>Austria</td>\n",
       "      <td>0.217851</td>\n",
       "      <td>0.193999</td>\n",
       "      <td>0.196622</td>\n",
       "      <td>0.186767</td>\n",
       "      <td>0.204762</td>\n",
       "    </tr>\n",
       "    <tr>\n",
       "      <th>1</th>\n",
       "      <td>Hallstatt</td>\n",
       "      <td>Lovable Hallstatt is a tiny town bullied onto ...</td>\n",
       "      <td>https://www.ricksteves.com/europe/austria/hall...</td>\n",
       "      <td>Austria</td>\n",
       "      <td>0.215644</td>\n",
       "      <td>0.191211</td>\n",
       "      <td>0.195105</td>\n",
       "      <td>0.207592</td>\n",
       "      <td>0.190449</td>\n",
       "    </tr>\n",
       "    <tr>\n",
       "      <th>2</th>\n",
       "      <td>Salzburg</td>\n",
       "      <td>Thanks to its charmingly preserved old town, s...</td>\n",
       "      <td>https://www.ricksteves.com/europe/austria/salz...</td>\n",
       "      <td>Austria</td>\n",
       "      <td>0.215227</td>\n",
       "      <td>0.192130</td>\n",
       "      <td>0.208308</td>\n",
       "      <td>0.194362</td>\n",
       "      <td>0.189973</td>\n",
       "    </tr>\n",
       "    <tr>\n",
       "      <th>3</th>\n",
       "      <td>Tirol</td>\n",
       "      <td>Mountainous Tirol — in Austria's western panha...</td>\n",
       "      <td>https://www.ricksteves.com/europe/austria/tirol</td>\n",
       "      <td>Austria</td>\n",
       "      <td>0.196819</td>\n",
       "      <td>0.203917</td>\n",
       "      <td>0.212732</td>\n",
       "      <td>0.223861</td>\n",
       "      <td>0.162672</td>\n",
       "    </tr>\n",
       "    <tr>\n",
       "      <th>4</th>\n",
       "      <td>Vienna</td>\n",
       "      <td>Vienna is the capital of Austria, the cradle o...</td>\n",
       "      <td>https://www.ricksteves.com/europe/austria/vienna</td>\n",
       "      <td>Austria</td>\n",
       "      <td>0.200953</td>\n",
       "      <td>0.205604</td>\n",
       "      <td>0.209454</td>\n",
       "      <td>0.225827</td>\n",
       "      <td>0.158162</td>\n",
       "    </tr>\n",
       "    <tr>\n",
       "      <th>5</th>\n",
       "      <td>Antwerp</td>\n",
       "      <td>Antwerp (Antwerpen in Dutch, Anvers in French)...</td>\n",
       "      <td>https://www.ricksteves.com/europe/belgium/antwerp</td>\n",
       "      <td>Belgium</td>\n",
       "      <td>0.222889</td>\n",
       "      <td>0.208160</td>\n",
       "      <td>0.206248</td>\n",
       "      <td>0.199187</td>\n",
       "      <td>0.163516</td>\n",
       "    </tr>\n",
       "    <tr>\n",
       "      <th>6</th>\n",
       "      <td>Bruges</td>\n",
       "      <td>With pointy gilded architecture, stay-a-while ...</td>\n",
       "      <td>https://www.ricksteves.com/europe/belgium/bruges</td>\n",
       "      <td>Belgium</td>\n",
       "      <td>0.186662</td>\n",
       "      <td>0.196401</td>\n",
       "      <td>0.200745</td>\n",
       "      <td>0.223841</td>\n",
       "      <td>0.192350</td>\n",
       "    </tr>\n",
       "    <tr>\n",
       "      <th>7</th>\n",
       "      <td>Brussels</td>\n",
       "      <td>Six hundred years ago, Brussels was just a nic...</td>\n",
       "      <td>https://www.ricksteves.com/europe/belgium/brus...</td>\n",
       "      <td>Belgium</td>\n",
       "      <td>0.200143</td>\n",
       "      <td>0.217760</td>\n",
       "      <td>0.197729</td>\n",
       "      <td>0.211140</td>\n",
       "      <td>0.173228</td>\n",
       "    </tr>\n",
       "    <tr>\n",
       "      <th>8</th>\n",
       "      <td>Ghent</td>\n",
       "      <td>Ghent doesn't ooze with cobbles and charm, lik...</td>\n",
       "      <td>https://www.ricksteves.com/europe/belgium/ghent</td>\n",
       "      <td>Belgium</td>\n",
       "      <td>0.167311</td>\n",
       "      <td>0.258152</td>\n",
       "      <td>0.189665</td>\n",
       "      <td>0.191732</td>\n",
       "      <td>0.193139</td>\n",
       "    </tr>\n",
       "    <tr>\n",
       "      <th>9</th>\n",
       "      <td>Mostar</td>\n",
       "      <td>Despite the scars of war, Mostar is still stun...</td>\n",
       "      <td>https://www.ricksteves.com/europe/bosnia-herze...</td>\n",
       "      <td>Bosnia-Herzegovina</td>\n",
       "      <td>0.170985</td>\n",
       "      <td>0.239295</td>\n",
       "      <td>0.197913</td>\n",
       "      <td>0.193964</td>\n",
       "      <td>0.197843</td>\n",
       "    </tr>\n",
       "  </tbody>\n",
       "</table>\n",
       "</div>"
      ],
      "text/plain": [
       "            city                                       city_summary  \\\n",
       "0  Danube Valley  The Danube is at its romantic best just west o...   \n",
       "1      Hallstatt  Lovable Hallstatt is a tiny town bullied onto ...   \n",
       "2       Salzburg  Thanks to its charmingly preserved old town, s...   \n",
       "3          Tirol  Mountainous Tirol — in Austria's western panha...   \n",
       "4         Vienna  Vienna is the capital of Austria, the cradle o...   \n",
       "5        Antwerp  Antwerp (Antwerpen in Dutch, Anvers in French)...   \n",
       "6         Bruges  With pointy gilded architecture, stay-a-while ...   \n",
       "7       Brussels  Six hundred years ago, Brussels was just a nic...   \n",
       "8          Ghent  Ghent doesn't ooze with cobbles and charm, lik...   \n",
       "9         Mostar  Despite the scars of war, Mostar is still stun...   \n",
       "\n",
       "                                            city_url             country  \\\n",
       "0  https://www.ricksteves.com/europe/austria/danu...             Austria   \n",
       "1  https://www.ricksteves.com/europe/austria/hall...             Austria   \n",
       "2  https://www.ricksteves.com/europe/austria/salz...             Austria   \n",
       "3    https://www.ricksteves.com/europe/austria/tirol             Austria   \n",
       "4   https://www.ricksteves.com/europe/austria/vienna             Austria   \n",
       "5  https://www.ricksteves.com/europe/belgium/antwerp             Belgium   \n",
       "6   https://www.ricksteves.com/europe/belgium/bruges             Belgium   \n",
       "7  https://www.ricksteves.com/europe/belgium/brus...             Belgium   \n",
       "8    https://www.ricksteves.com/europe/belgium/ghent             Belgium   \n",
       "9  https://www.ricksteves.com/europe/bosnia-herze...  Bosnia-Herzegovina   \n",
       "\n",
       "   forest_mountain   palaces  island_water  historical_ww2     urban  \n",
       "0         0.217851  0.193999      0.196622        0.186767  0.204762  \n",
       "1         0.215644  0.191211      0.195105        0.207592  0.190449  \n",
       "2         0.215227  0.192130      0.208308        0.194362  0.189973  \n",
       "3         0.196819  0.203917      0.212732        0.223861  0.162672  \n",
       "4         0.200953  0.205604      0.209454        0.225827  0.158162  \n",
       "5         0.222889  0.208160      0.206248        0.199187  0.163516  \n",
       "6         0.186662  0.196401      0.200745        0.223841  0.192350  \n",
       "7         0.200143  0.217760      0.197729        0.211140  0.173228  \n",
       "8         0.167311  0.258152      0.189665        0.191732  0.193139  \n",
       "9         0.170985  0.239295      0.197913        0.193964  0.197843  "
      ]
     },
     "execution_count": 5,
     "metadata": {},
     "output_type": "execute_result"
    }
   ],
   "source": [
    "cities_with_scores = pickle.load(open('data/cities_with_topic_scores.pkl', 'rb'))\n",
    "cities_with_scores.head(10)"
   ]
  },
  {
   "cell_type": "code",
   "execution_count": 8,
   "metadata": {},
   "outputs": [],
   "source": [
    "topics = cities_with_scores.drop(['city', 'city_summary', 'country', 'city_url'], axis=1)"
   ]
  },
  {
   "cell_type": "markdown",
   "metadata": {},
   "source": [
    "## Train NN-Model on Topic Scores"
   ]
  },
  {
   "cell_type": "code",
   "execution_count": 9,
   "metadata": {},
   "outputs": [
    {
     "data": {
      "text/plain": [
       "NearestNeighbors(algorithm='auto', leaf_size=30, metric='minkowski',\n",
       "                 metric_params=None, n_jobs=None, n_neighbors=50, p=2,\n",
       "                 radius=1.0)"
      ]
     },
     "execution_count": 9,
     "metadata": {},
     "output_type": "execute_result"
    }
   ],
   "source": [
    "nearest_neighbor = NearestNeighbors(n_neighbors=50, metric='minkowski')\n",
    "nearest_neighbor.fit(topics)"
   ]
  },
  {
   "cell_type": "markdown",
   "metadata": {},
   "source": [
    "### For reproducability, load the existing NN-model"
   ]
  },
  {
   "cell_type": "code",
   "execution_count": 10,
   "metadata": {},
   "outputs": [],
   "source": [
    "# pickle.dump(nearest_neighbor, open('models/nn_model.pkl', 'wb'))\n",
    "nearest_neighbor = pickle.load(open('models/nn_model.pkl', 'rb'))"
   ]
  },
  {
   "cell_type": "markdown",
   "metadata": {},
   "source": [
    "## Make Recommendations"
   ]
  },
  {
   "cell_type": "code",
   "execution_count": 11,
   "metadata": {},
   "outputs": [
    {
     "name": "stdout",
     "output_type": "stream",
     "text": [
      "Rate on a scale of 0-10.\n",
      "    0 is not important and 10 is very important\n",
      "How important is a forest/mountain setting: 8\n",
      "How important is visiting palaces/castles: 7\n",
      "How important is a coastal/water setting: 2\n",
      "How important is historical sites: 9\n",
      "How important is an urban setting: 1\n",
      "\n",
      "\n",
      "For the following locations give:\n",
      "            \t1 if you have visited and liked\n",
      "            \t-1 if you have visited and disliked\n",
      "            \t0 if you have never been\n",
      "Rate ('Óbidos', 'Portugal'): 0\n",
      "Rate ('Munich', 'Germany'): 0\n",
      "Rate ('Pisa', 'Italy'): 0\n",
      "Rate ('Isle of Skye', 'Scotland'): 0\n",
      "Rate ('Sarlat-la-Canéda', 'France'): 0\n",
      "Rate ('Rouen', 'France'): 0\n",
      "Rate ('Sorrento', 'Italy'): 0\n",
      "Rate ('Porto', 'Portugal'): 0\n",
      "Rate ('Colmar', 'France'): 0\n",
      "Rate ('Tallinn', 'Estonia'): 0\n"
     ]
    }
   ],
   "source": [
    "recommendations = make_recommendations(cities_with_scores, nearest_neighbor)"
   ]
  },
  {
   "cell_type": "markdown",
   "metadata": {},
   "source": [
    "## Determine strength of recommendations"
   ]
  },
  {
   "cell_type": "code",
   "execution_count": 12,
   "metadata": {},
   "outputs": [
    {
     "name": "stdout",
     "output_type": "stream",
     "text": [
      "If interested in visiting enter 1, else 0\n",
      "('Honfleur', 'France'): 0\n",
      "('Cotswolds', 'England'): 0\n",
      "('Albi', 'France'): 0\n",
      "('Tallinn', 'Estonia'): 0\n",
      "('Sintra', 'Portugal'): 0\n"
     ]
    }
   ],
   "source": [
    "rate_recs(recommendations)"
   ]
  },
  {
   "cell_type": "code",
   "execution_count": null,
   "metadata": {},
   "outputs": [],
   "source": []
  }
 ],
 "metadata": {
  "kernelspec": {
   "display_name": "learn-env",
   "language": "python",
   "name": "learn-env"
  },
  "language_info": {
   "codemirror_mode": {
    "name": "ipython",
    "version": 3
   },
   "file_extension": ".py",
   "mimetype": "text/x-python",
   "name": "python",
   "nbconvert_exporter": "python",
   "pygments_lexer": "ipython3",
   "version": "3.6.6"
  }
 },
 "nbformat": 4,
 "nbformat_minor": 2
}
