{
 "cells": [
  {
   "cell_type": "markdown",
   "metadata": {},
   "source": [
    "The goal of this model will be to use a Nearest Neighbors approach. Will recommend the location that has the closest cosine similariy."
   ]
  },
  {
   "cell_type": "markdown",
   "metadata": {},
   "source": [
    "## Import Necessary Libraries"
   ]
  },
  {
   "cell_type": "code",
   "execution_count": 1,
   "metadata": {},
   "outputs": [],
   "source": [
    "from sklearn.neighbors import NearestNeighbors\n",
    "import pickle\n",
    "import pandas as pd\n",
    "import numpy as np\n",
    "from recommend import make_recommendations\n",
    "import pymongo"
   ]
  },
  {
   "cell_type": "code",
   "execution_count": 2,
   "metadata": {
    "scrolled": true
   },
   "outputs": [
    {
     "data": {
      "text/html": [
       "<div>\n",
       "<style scoped>\n",
       "    .dataframe tbody tr th:only-of-type {\n",
       "        vertical-align: middle;\n",
       "    }\n",
       "\n",
       "    .dataframe tbody tr th {\n",
       "        vertical-align: top;\n",
       "    }\n",
       "\n",
       "    .dataframe thead th {\n",
       "        text-align: right;\n",
       "    }\n",
       "</style>\n",
       "<table border=\"1\" class=\"dataframe\">\n",
       "  <thead>\n",
       "    <tr style=\"text-align: right;\">\n",
       "      <th></th>\n",
       "      <th>city</th>\n",
       "      <th>city_summary</th>\n",
       "      <th>country</th>\n",
       "      <th>forest_mountain</th>\n",
       "      <th>palaces</th>\n",
       "      <th>island_water</th>\n",
       "      <th>historical_ww2</th>\n",
       "      <th>urban</th>\n",
       "    </tr>\n",
       "  </thead>\n",
       "  <tbody>\n",
       "    <tr>\n",
       "      <th>0</th>\n",
       "      <td>Danube Valley</td>\n",
       "      <td>The Danube is at its romantic best just west o...</td>\n",
       "      <td>Austria</td>\n",
       "      <td>0.243388</td>\n",
       "      <td>0.225067</td>\n",
       "      <td>0.167113</td>\n",
       "      <td>0.184760</td>\n",
       "      <td>0.179672</td>\n",
       "    </tr>\n",
       "    <tr>\n",
       "      <th>1</th>\n",
       "      <td>Hallstatt</td>\n",
       "      <td>Lovable Hallstatt is a tiny town bullied onto ...</td>\n",
       "      <td>Austria</td>\n",
       "      <td>0.332950</td>\n",
       "      <td>0.152195</td>\n",
       "      <td>0.193701</td>\n",
       "      <td>0.170388</td>\n",
       "      <td>0.150766</td>\n",
       "    </tr>\n",
       "    <tr>\n",
       "      <th>2</th>\n",
       "      <td>Salzburg</td>\n",
       "      <td>Thanks to its charmingly preserved old town, s...</td>\n",
       "      <td>Austria</td>\n",
       "      <td>0.146828</td>\n",
       "      <td>0.303525</td>\n",
       "      <td>0.160909</td>\n",
       "      <td>0.225981</td>\n",
       "      <td>0.162757</td>\n",
       "    </tr>\n",
       "    <tr>\n",
       "      <th>3</th>\n",
       "      <td>Tirol</td>\n",
       "      <td>Mountainous Tirol — in Austria's western panha...</td>\n",
       "      <td>Austria</td>\n",
       "      <td>0.162069</td>\n",
       "      <td>0.202706</td>\n",
       "      <td>0.262230</td>\n",
       "      <td>0.224608</td>\n",
       "      <td>0.148387</td>\n",
       "    </tr>\n",
       "    <tr>\n",
       "      <th>4</th>\n",
       "      <td>Vienna</td>\n",
       "      <td>Vienna is the capital of Austria, the cradle o...</td>\n",
       "      <td>Austria</td>\n",
       "      <td>0.122002</td>\n",
       "      <td>0.493214</td>\n",
       "      <td>0.108737</td>\n",
       "      <td>0.138116</td>\n",
       "      <td>0.137931</td>\n",
       "    </tr>\n",
       "    <tr>\n",
       "      <th>5</th>\n",
       "      <td>Antwerp</td>\n",
       "      <td>Antwerp (Antwerpen in Dutch, Anvers in French)...</td>\n",
       "      <td>Belgium</td>\n",
       "      <td>0.133085</td>\n",
       "      <td>0.187120</td>\n",
       "      <td>0.138653</td>\n",
       "      <td>0.196728</td>\n",
       "      <td>0.344415</td>\n",
       "    </tr>\n",
       "    <tr>\n",
       "      <th>12</th>\n",
       "      <td>Bruges</td>\n",
       "      <td>With pointy gilded architecture, stay-a-while ...</td>\n",
       "      <td>Belgium</td>\n",
       "      <td>0.135723</td>\n",
       "      <td>0.157850</td>\n",
       "      <td>0.186628</td>\n",
       "      <td>0.381943</td>\n",
       "      <td>0.137857</td>\n",
       "    </tr>\n",
       "    <tr>\n",
       "      <th>13</th>\n",
       "      <td>Brussels</td>\n",
       "      <td>Six hundred years ago, Brussels was just a nic...</td>\n",
       "      <td>Belgium</td>\n",
       "      <td>0.153481</td>\n",
       "      <td>0.120696</td>\n",
       "      <td>0.428276</td>\n",
       "      <td>0.167221</td>\n",
       "      <td>0.130325</td>\n",
       "    </tr>\n",
       "    <tr>\n",
       "      <th>27</th>\n",
       "      <td>Ghent</td>\n",
       "      <td>Ghent doesn't ooze with cobbles and charm, lik...</td>\n",
       "      <td>Belgium</td>\n",
       "      <td>0.336214</td>\n",
       "      <td>0.121957</td>\n",
       "      <td>0.168518</td>\n",
       "      <td>0.119888</td>\n",
       "      <td>0.253423</td>\n",
       "    </tr>\n",
       "    <tr>\n",
       "      <th>28</th>\n",
       "      <td>Mostar</td>\n",
       "      <td>Despite the scars of war, Mostar is still stun...</td>\n",
       "      <td>Bosnia-Herzegovina</td>\n",
       "      <td>0.139975</td>\n",
       "      <td>0.120362</td>\n",
       "      <td>0.133674</td>\n",
       "      <td>0.144842</td>\n",
       "      <td>0.461146</td>\n",
       "    </tr>\n",
       "  </tbody>\n",
       "</table>\n",
       "</div>"
      ],
      "text/plain": [
       "             city                                       city_summary  \\\n",
       "0   Danube Valley  The Danube is at its romantic best just west o...   \n",
       "1       Hallstatt  Lovable Hallstatt is a tiny town bullied onto ...   \n",
       "2        Salzburg  Thanks to its charmingly preserved old town, s...   \n",
       "3           Tirol  Mountainous Tirol — in Austria's western panha...   \n",
       "4          Vienna  Vienna is the capital of Austria, the cradle o...   \n",
       "5         Antwerp  Antwerp (Antwerpen in Dutch, Anvers in French)...   \n",
       "12         Bruges  With pointy gilded architecture, stay-a-while ...   \n",
       "13       Brussels  Six hundred years ago, Brussels was just a nic...   \n",
       "27          Ghent  Ghent doesn't ooze with cobbles and charm, lik...   \n",
       "28         Mostar  Despite the scars of war, Mostar is still stun...   \n",
       "\n",
       "               country  forest_mountain   palaces  island_water  \\\n",
       "0              Austria         0.243388  0.225067      0.167113   \n",
       "1              Austria         0.332950  0.152195      0.193701   \n",
       "2              Austria         0.146828  0.303525      0.160909   \n",
       "3              Austria         0.162069  0.202706      0.262230   \n",
       "4              Austria         0.122002  0.493214      0.108737   \n",
       "5              Belgium         0.133085  0.187120      0.138653   \n",
       "12             Belgium         0.135723  0.157850      0.186628   \n",
       "13             Belgium         0.153481  0.120696      0.428276   \n",
       "27             Belgium         0.336214  0.121957      0.168518   \n",
       "28  Bosnia-Herzegovina         0.139975  0.120362      0.133674   \n",
       "\n",
       "    historical_ww2     urban  \n",
       "0         0.184760  0.179672  \n",
       "1         0.170388  0.150766  \n",
       "2         0.225981  0.162757  \n",
       "3         0.224608  0.148387  \n",
       "4         0.138116  0.137931  \n",
       "5         0.196728  0.344415  \n",
       "12        0.381943  0.137857  \n",
       "13        0.167221  0.130325  \n",
       "27        0.119888  0.253423  \n",
       "28        0.144842  0.461146  "
      ]
     },
     "execution_count": 2,
     "metadata": {},
     "output_type": "execute_result"
    }
   ],
   "source": [
    "cities_with_scores = pickle.load(open('data/cities_with_topic_scores.pkl', 'rb'))\n",
    "cities_with_scores.head(10)"
   ]
  },
  {
   "cell_type": "code",
   "execution_count": 3,
   "metadata": {},
   "outputs": [],
   "source": [
    "topics = cities_with_scores.drop(['city', 'city_summary', 'country'], axis=1)"
   ]
  },
  {
   "cell_type": "code",
   "execution_count": 4,
   "metadata": {},
   "outputs": [
    {
     "data": {
      "text/plain": [
       "NearestNeighbors(algorithm='auto', leaf_size=30, metric='cosine',\n",
       "                 metric_params=None, n_jobs=None, n_neighbors=50, p=2,\n",
       "                 radius=1.0)"
      ]
     },
     "execution_count": 4,
     "metadata": {},
     "output_type": "execute_result"
    }
   ],
   "source": [
    "nearest_neighbor = NearestNeighbors(n_neighbors=50, metric='cosine')\n",
    "nearest_neighbor.fit(topics)"
   ]
  },
  {
   "cell_type": "code",
   "execution_count": 5,
   "metadata": {},
   "outputs": [],
   "source": [
    "#pickle.dump(nearest_neighbor, open('models/nn_model.pkl', 'wb'))\n",
    "nearest_neighbor = pickle.load(open('models/nn_model.pkl', 'rb'))"
   ]
  },
  {
   "cell_type": "code",
   "execution_count": 6,
   "metadata": {},
   "outputs": [
    {
     "name": "stdout",
     "output_type": "stream",
     "text": [
      "Rate on a scale of 0-10. 0 meaning not important and 10 meaning very important\n",
      "How important is a forest/mountain setting: 2\n",
      "How important is visiting palaces/castles: 7\n",
      "How important is a costal/water setting: 8\n",
      "How important is historical sites: 8\n",
      "How important is an urban setting: 4\n",
      "\n",
      "\n",
      "Rate ('Portsmouth', 'England'): 0\n",
      "Rate ('Salzburg', 'Austria'): 0\n",
      "Rate ('Chamonix', 'France'): 0\n",
      "Rate ('D-Day Beaches', 'France'): 0\n",
      "Rate ('Honfleur', 'France'): 0\n",
      "Rate ('Provence', 'France'): 0\n",
      "Rate ('Derry', 'Ireland'): 0\n",
      "Rate ('Dover', 'England'): 0\n",
      "Rate ('Kinsale & Cobh', 'Ireland'): 0\n",
      "Rate ('Paris', 'France'): 0\n",
      "\n",
      "\n"
     ]
    },
    {
     "data": {
      "text/plain": [
       "[(('Tirol', 'Austria'), 0.027917798415638795),\n",
       " (('Burgundy', 'France'), 0.034020516398333256),\n",
       " (('Cinque Terre', 'Italy'), 0.03614211950473756),\n",
       " (('Oxford', 'England'), 0.03786095105352538),\n",
       " (('Antibes', 'France'), 0.042506855616720296)]"
      ]
     },
     "execution_count": 6,
     "metadata": {},
     "output_type": "execute_result"
    }
   ],
   "source": [
    "make_recommendations(cities_with_scores, nearest_neighbor)"
   ]
  },
  {
   "cell_type": "code",
   "execution_count": 7,
   "metadata": {},
   "outputs": [],
   "source": [
    "# mc = pymongo.MongoClient()\n",
    "# city_db = mc['city_database']\n",
    "# user_coll = city_db['user_collection']"
   ]
  },
  {
   "cell_type": "code",
   "execution_count": 8,
   "metadata": {},
   "outputs": [
    {
     "data": {
      "text/plain": [
       "{'_id': ObjectId('5d14074cecc3e337d540323f'),\n",
       " \"('Tuscan Hill Towns', 'Italy')\": 0,\n",
       " \"('Hallstatt', 'Austria')\": 0,\n",
       " \"('Villefranche-sur-Mer', 'France')\": 0,\n",
       " \"('Danube Valley', 'Austria')\": 0,\n",
       " \"('Aran Islands', 'Ireland')\": 0,\n",
       " \"('Lake District', 'England')\": 0,\n",
       " \"('Kilkenny & the Rock of Cashel', 'Ireland')\": 0,\n",
       " \"('Bruges', 'Belgium')\": 0,\n",
       " \"('Trier', 'Germany')\": 0,\n",
       " \"('Munich', 'Germany')\": 0}"
      ]
     },
     "execution_count": 8,
     "metadata": {},
     "output_type": "execute_result"
    }
   ],
   "source": [
    "#user_coll.find_one()"
   ]
  },
  {
   "cell_type": "code",
   "execution_count": 14,
   "metadata": {},
   "outputs": [
    {
     "data": {
      "text/plain": [
       "<pymongo.results.DeleteResult at 0x1a163e1708>"
      ]
     },
     "execution_count": 14,
     "metadata": {},
     "output_type": "execute_result"
    }
   ],
   "source": [
    "# to delete from the collection while I am testing functionality\n",
    "# user_coll.delete_one(user_coll.find_one())"
   ]
  },
  {
   "cell_type": "code",
   "execution_count": 15,
   "metadata": {},
   "outputs": [],
   "source": [
    "# df = pd.DataFrame(list(user_coll.find())).fillna(0)\n",
    "# df"
   ]
  },
  {
   "cell_type": "code",
   "execution_count": null,
   "metadata": {},
   "outputs": [],
   "source": []
  }
 ],
 "metadata": {
  "kernelspec": {
   "display_name": "learn-env",
   "language": "python",
   "name": "learn-env"
  },
  "language_info": {
   "codemirror_mode": {
    "name": "ipython",
    "version": 3
   },
   "file_extension": ".py",
   "mimetype": "text/x-python",
   "name": "python",
   "nbconvert_exporter": "python",
   "pygments_lexer": "ipython3",
   "version": "3.6.6"
  }
 },
 "nbformat": 4,
 "nbformat_minor": 2
}
