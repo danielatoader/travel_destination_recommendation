{
 "cells": [
  {
   "cell_type": "markdown",
   "metadata": {},
   "source": [
    "The goal of this model will be to use a Nearest Neighbors approach. Will recommend the location that has the closest cosine similariy."
   ]
  },
  {
   "cell_type": "markdown",
   "metadata": {},
   "source": [
    "## Import Necessary Libraries"
   ]
  },
  {
   "cell_type": "code",
   "execution_count": 18,
   "metadata": {},
   "outputs": [
    {
     "name": "stdout",
     "output_type": "stream",
     "text": [
      "The autoreload extension is already loaded. To reload it, use:\n",
      "  %reload_ext autoreload\n"
     ]
    }
   ],
   "source": [
    "%load_ext autoreload\n",
    "%autoreload 2"
   ]
  },
  {
   "cell_type": "code",
   "execution_count": 19,
   "metadata": {},
   "outputs": [],
   "source": [
    "import pickle\n",
    "import pandas as pd\n",
    "from sklearn.neighbors import NearestNeighbors\n",
    "from recommend import make_recommendations, rate_recs"
   ]
  },
  {
   "cell_type": "markdown",
   "metadata": {},
   "source": [
    "## Load Data from Pickle File"
   ]
  },
  {
   "cell_type": "code",
   "execution_count": null,
   "metadata": {},
   "outputs": [],
   "source": [
    "cities_with_scores = pickle.load(open('data/cities_with_topic_scores.pkl', 'rb'))\n",
    "cities_with_scores.head(10)"
   ]
  },
  {
   "cell_type": "code",
   "execution_count": 22,
   "metadata": {},
   "outputs": [],
   "source": [
    "topics = cities_with_scores.drop(['city', 'city_summary', 'country'], axis=1)"
   ]
  },
  {
   "cell_type": "markdown",
   "metadata": {},
   "source": [
    "## Train NN-Model on Topic Scores"
   ]
  },
  {
   "cell_type": "code",
   "execution_count": 23,
   "metadata": {},
   "outputs": [
    {
     "data": {
      "text/plain": [
       "NearestNeighbors(algorithm='auto', leaf_size=30, metric='cosine',\n",
       "                 metric_params=None, n_jobs=None, n_neighbors=50, p=2,\n",
       "                 radius=1.0)"
      ]
     },
     "execution_count": 23,
     "metadata": {},
     "output_type": "execute_result"
    }
   ],
   "source": [
    "nearest_neighbor = NearestNeighbors(n_neighbors=50, metric='cosine')\n",
    "nearest_neighbor.fit(topics)"
   ]
  },
  {
   "cell_type": "markdown",
   "metadata": {},
   "source": [
    "### For reproducability, load the existing NN-model"
   ]
  },
  {
   "cell_type": "code",
   "execution_count": 24,
   "metadata": {},
   "outputs": [],
   "source": [
    "# pickle.dump(nearest_neighbor, open('models/nn_model.pkl', 'wb'))\n",
    "nearest_neighbor = pickle.load(open('models/nn_model.pkl', 'rb'))"
   ]
  },
  {
   "cell_type": "markdown",
   "metadata": {},
   "source": [
    "## Make Recommendations"
   ]
  },
  {
   "cell_type": "code",
   "execution_count": 10,
   "metadata": {},
   "outputs": [
    {
     "name": "stdout",
     "output_type": "stream",
     "text": [
      "Rate on a scale of 0-10.\n",
      "    0 is not important and 10 is very important\n",
      "How important is a forest/mountain setting: 2\n",
      "How important is visiting palaces/castles: 7\n",
      "How important is a coastal/water setting: 10\n",
      "How important is historical sites: 8\n",
      "How important is an urban setting: 1\n",
      "\n",
      "\n",
      "For the following locations give:\n",
      "            \t1 if you have visited and liked\n",
      "            \t-1 if you have visited and disliked\n",
      "            \t0 if you have never been\n",
      "Rate ('Tirol', 'Austria'): 0\n",
      "Rate ('Alsace', 'France'): 0\n",
      "Rate ('Black Forest', 'Germany'): 0\n",
      "Rate ('Nürnberg', 'Germany'): 0\n",
      "Rate ('Cinque Terre', 'Italy'): 0\n",
      "Rate ('Camino de Santiago', 'Spain'): 0\n",
      "Rate ('Warwick & Coventry', 'England'): 0\n",
      "Rate ('Chamonix', 'France'): 0\n",
      "Rate ('Stonehenge & Avebury', 'England'): 0\n",
      "Rate ('York', 'England'): 0\n"
     ]
    }
   ],
   "source": [
    "recommendations = make_recommendations(cities_with_scores, nearest_neighbor)"
   ]
  },
  {
   "cell_type": "markdown",
   "metadata": {},
   "source": [
    "## Determine strength of recommendations"
   ]
  },
  {
   "cell_type": "code",
   "execution_count": 11,
   "metadata": {},
   "outputs": [
    {
     "name": "stdout",
     "output_type": "stream",
     "text": [
      "If interested in visiting enter 1, else 0\n",
      "('Orvieto', 'Italy'): 1\n",
      "('Portrush & the Antrim Coast', 'Ireland'): 1\n",
      "('Northern Ireland', 'Ireland'): 0\n",
      "('Kenmare & the Ring of Kerry', 'Ireland'): 0\n",
      "('Frankfurt', 'Germany'): 1\n"
     ]
    }
   ],
   "source": [
    "rate_recs(recommendations)"
   ]
  },
  {
   "cell_type": "code",
   "execution_count": null,
   "metadata": {},
   "outputs": [],
   "source": []
  }
 ],
 "metadata": {
  "kernelspec": {
   "display_name": "learn-env",
   "language": "python",
   "name": "learn-env"
  },
  "language_info": {
   "codemirror_mode": {
    "name": "ipython",
    "version": 3
   },
   "file_extension": ".py",
   "mimetype": "text/x-python",
   "name": "python",
   "nbconvert_exporter": "python",
   "pygments_lexer": "ipython3",
   "version": "3.6.6"
  }
 },
 "nbformat": 4,
 "nbformat_minor": 2
}
