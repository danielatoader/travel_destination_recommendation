{
 "cells": [
  {
   "cell_type": "markdown",
   "metadata": {},
   "source": [
    "# Recommend Cities\n",
    "Using a Nearest Neighbors approach, recommends cities using Euclidean distance."
   ]
  },
  {
   "cell_type": "markdown",
   "metadata": {},
   "source": [
    "## Import Necessary Libraries"
   ]
  },
  {
   "cell_type": "code",
   "execution_count": 1,
   "metadata": {},
   "outputs": [],
   "source": [
    "%load_ext autoreload\n",
    "%autoreload 2"
   ]
  },
  {
   "cell_type": "code",
   "execution_count": 2,
   "metadata": {},
   "outputs": [
    {
     "ename": "TypeError",
     "evalue": "an integer is required (got type bytes)",
     "output_type": "error",
     "traceback": [
      "\u001b[1;31m---------------------------------------------------------------------------\u001b[0m",
      "\u001b[1;31mTypeError\u001b[0m                                 Traceback (most recent call last)",
      "Cell \u001b[1;32mIn [2], line 3\u001b[0m\n\u001b[0;32m      1\u001b[0m \u001b[39mimport\u001b[39;00m \u001b[39mpickle\u001b[39;00m\n\u001b[0;32m      2\u001b[0m \u001b[39mimport\u001b[39;00m \u001b[39mpandas\u001b[39;00m \u001b[39mas\u001b[39;00m \u001b[39mpd\u001b[39;00m\n\u001b[1;32m----> 3\u001b[0m \u001b[39mfrom\u001b[39;00m \u001b[39msklearn\u001b[39;00m\u001b[39m.\u001b[39;00m\u001b[39mneighbors\u001b[39;00m \u001b[39mimport\u001b[39;00m NearestNeighbors\n\u001b[0;32m      4\u001b[0m \u001b[39mfrom\u001b[39;00m \u001b[39mtravel_destination_recommendation\u001b[39;00m\u001b[39m.\u001b[39;00m\u001b[39mrecommend\u001b[39;00m \u001b[39mimport\u001b[39;00m make_recommendations, rate_recs\n",
      "File \u001b[1;32mc:\\Users\\danie\\AppData\\Local\\Programs\\Python\\Python39\\lib\\site-packages\\sklearn\\__init__.py:64\u001b[0m\n\u001b[0;32m     60\u001b[0m     \u001b[39m# We are not importing the rest of scikit-learn during the build\u001b[39;00m\n\u001b[0;32m     61\u001b[0m     \u001b[39m# process, as it may not be compiled yet\u001b[39;00m\n\u001b[0;32m     62\u001b[0m \u001b[39melse\u001b[39;00m:\n\u001b[0;32m     63\u001b[0m     \u001b[39mfrom\u001b[39;00m \u001b[39m.\u001b[39;00m \u001b[39mimport\u001b[39;00m __check_build\n\u001b[1;32m---> 64\u001b[0m     \u001b[39mfrom\u001b[39;00m \u001b[39m.\u001b[39;00m\u001b[39mbase\u001b[39;00m \u001b[39mimport\u001b[39;00m clone\n\u001b[0;32m     65\u001b[0m     \u001b[39mfrom\u001b[39;00m \u001b[39m.\u001b[39;00m\u001b[39mutils\u001b[39;00m\u001b[39m.\u001b[39;00m\u001b[39m_show_versions\u001b[39;00m \u001b[39mimport\u001b[39;00m show_versions\n\u001b[0;32m     67\u001b[0m     __check_build  \u001b[39m# avoid flakes unused variable error\u001b[39;00m\n",
      "File \u001b[1;32mc:\\Users\\danie\\AppData\\Local\\Programs\\Python\\Python39\\lib\\site-packages\\sklearn\\base.py:14\u001b[0m\n\u001b[0;32m     12\u001b[0m \u001b[39mfrom\u001b[39;00m \u001b[39mscipy\u001b[39;00m \u001b[39mimport\u001b[39;00m sparse\n\u001b[0;32m     13\u001b[0m \u001b[39mfrom\u001b[39;00m \u001b[39m.\u001b[39;00m\u001b[39mexternals\u001b[39;00m \u001b[39mimport\u001b[39;00m six\n\u001b[1;32m---> 14\u001b[0m \u001b[39mfrom\u001b[39;00m \u001b[39m.\u001b[39;00m\u001b[39mutils\u001b[39;00m\u001b[39m.\u001b[39;00m\u001b[39mfixes\u001b[39;00m \u001b[39mimport\u001b[39;00m signature\n\u001b[0;32m     15\u001b[0m \u001b[39mfrom\u001b[39;00m \u001b[39m.\u001b[39;00m\u001b[39mutils\u001b[39;00m \u001b[39mimport\u001b[39;00m _IS_32BIT\n\u001b[0;32m     16\u001b[0m \u001b[39mfrom\u001b[39;00m \u001b[39m.\u001b[39;00m \u001b[39mimport\u001b[39;00m __version__\n",
      "File \u001b[1;32mc:\\Users\\danie\\AppData\\Local\\Programs\\Python\\Python39\\lib\\site-packages\\sklearn\\utils\\__init__.py:14\u001b[0m\n\u001b[0;32m     12\u001b[0m \u001b[39mfrom\u001b[39;00m \u001b[39m.\u001b[39;00m\u001b[39mmurmurhash\u001b[39;00m \u001b[39mimport\u001b[39;00m murmurhash3_32\n\u001b[0;32m     13\u001b[0m \u001b[39mfrom\u001b[39;00m \u001b[39m.\u001b[39;00m\u001b[39mclass_weight\u001b[39;00m \u001b[39mimport\u001b[39;00m compute_class_weight, compute_sample_weight\n\u001b[1;32m---> 14\u001b[0m \u001b[39mfrom\u001b[39;00m \u001b[39m.\u001b[39;00m \u001b[39mimport\u001b[39;00m _joblib\n\u001b[0;32m     15\u001b[0m \u001b[39mfrom\u001b[39;00m \u001b[39m.\u001b[39;00m\u001b[39m.\u001b[39;00m\u001b[39mexceptions\u001b[39;00m \u001b[39mimport\u001b[39;00m DataConversionWarning\n\u001b[0;32m     16\u001b[0m \u001b[39mfrom\u001b[39;00m \u001b[39m.\u001b[39;00m\u001b[39mfixes\u001b[39;00m \u001b[39mimport\u001b[39;00m _Sequence \u001b[39mas\u001b[39;00m Sequence\n",
      "File \u001b[1;32mc:\\Users\\danie\\AppData\\Local\\Programs\\Python\\Python39\\lib\\site-packages\\sklearn\\utils\\_joblib.py:22\u001b[0m\n\u001b[0;32m     20\u001b[0m         \u001b[39mfrom\u001b[39;00m \u001b[39mjoblib\u001b[39;00m \u001b[39mimport\u001b[39;00m parallel_backend, register_parallel_backend\n\u001b[0;32m     21\u001b[0m \u001b[39melse\u001b[39;00m:\n\u001b[1;32m---> 22\u001b[0m     \u001b[39mfrom\u001b[39;00m \u001b[39m.\u001b[39;00m\u001b[39m.\u001b[39;00m\u001b[39mexternals\u001b[39;00m \u001b[39mimport\u001b[39;00m joblib\n\u001b[0;32m     23\u001b[0m     \u001b[39mfrom\u001b[39;00m \u001b[39m.\u001b[39;00m\u001b[39m.\u001b[39;00m\u001b[39mexternals\u001b[39;00m\u001b[39m.\u001b[39;00m\u001b[39mjoblib\u001b[39;00m \u001b[39mimport\u001b[39;00m logger\n\u001b[0;32m     24\u001b[0m     \u001b[39mfrom\u001b[39;00m \u001b[39m.\u001b[39;00m\u001b[39m.\u001b[39;00m\u001b[39mexternals\u001b[39;00m\u001b[39m.\u001b[39;00m\u001b[39mjoblib\u001b[39;00m \u001b[39mimport\u001b[39;00m dump, load\n",
      "File \u001b[1;32mc:\\Users\\danie\\AppData\\Local\\Programs\\Python\\Python39\\lib\\site-packages\\sklearn\\externals\\joblib\\__init__.py:119\u001b[0m\n\u001b[0;32m    117\u001b[0m \u001b[39mfrom\u001b[39;00m \u001b[39m.\u001b[39;00m\u001b[39mnumpy_pickle\u001b[39;00m \u001b[39mimport\u001b[39;00m load\n\u001b[0;32m    118\u001b[0m \u001b[39mfrom\u001b[39;00m \u001b[39m.\u001b[39;00m\u001b[39mcompressor\u001b[39;00m \u001b[39mimport\u001b[39;00m register_compressor\n\u001b[1;32m--> 119\u001b[0m \u001b[39mfrom\u001b[39;00m \u001b[39m.\u001b[39;00m\u001b[39mparallel\u001b[39;00m \u001b[39mimport\u001b[39;00m Parallel\n\u001b[0;32m    120\u001b[0m \u001b[39mfrom\u001b[39;00m \u001b[39m.\u001b[39;00m\u001b[39mparallel\u001b[39;00m \u001b[39mimport\u001b[39;00m delayed\n\u001b[0;32m    121\u001b[0m \u001b[39mfrom\u001b[39;00m \u001b[39m.\u001b[39;00m\u001b[39mparallel\u001b[39;00m \u001b[39mimport\u001b[39;00m cpu_count\n",
      "File \u001b[1;32mc:\\Users\\danie\\AppData\\Local\\Programs\\Python\\Python39\\lib\\site-packages\\sklearn\\externals\\joblib\\parallel.py:28\u001b[0m\n\u001b[0;32m     26\u001b[0m \u001b[39mfrom\u001b[39;00m \u001b[39m.\u001b[39;00m\u001b[39mmy_exceptions\u001b[39;00m \u001b[39mimport\u001b[39;00m TransportableException\n\u001b[0;32m     27\u001b[0m \u001b[39mfrom\u001b[39;00m \u001b[39m.\u001b[39;00m\u001b[39mdisk\u001b[39;00m \u001b[39mimport\u001b[39;00m memstr_to_bytes\n\u001b[1;32m---> 28\u001b[0m \u001b[39mfrom\u001b[39;00m \u001b[39m.\u001b[39;00m\u001b[39m_parallel_backends\u001b[39;00m \u001b[39mimport\u001b[39;00m (FallbackToBackend, MultiprocessingBackend,\n\u001b[0;32m     29\u001b[0m                                  ThreadingBackend, SequentialBackend,\n\u001b[0;32m     30\u001b[0m                                  LokyBackend)\n\u001b[0;32m     31\u001b[0m \u001b[39mfrom\u001b[39;00m \u001b[39m.\u001b[39;00m\u001b[39m_compat\u001b[39;00m \u001b[39mimport\u001b[39;00m _basestring\n\u001b[0;32m     32\u001b[0m \u001b[39mfrom\u001b[39;00m \u001b[39m.\u001b[39;00m\u001b[39mexternals\u001b[39;00m\u001b[39m.\u001b[39;00m\u001b[39mcloudpickle\u001b[39;00m \u001b[39mimport\u001b[39;00m dumps, loads\n",
      "File \u001b[1;32mc:\\Users\\danie\\AppData\\Local\\Programs\\Python\\Python39\\lib\\site-packages\\sklearn\\externals\\joblib\\_parallel_backends.py:22\u001b[0m\n\u001b[0;32m     20\u001b[0m \u001b[39mfrom\u001b[39;00m \u001b[39m.\u001b[39;00m\u001b[39mpool\u001b[39;00m \u001b[39mimport\u001b[39;00m MemmappingPool\n\u001b[0;32m     21\u001b[0m \u001b[39mfrom\u001b[39;00m \u001b[39mmultiprocessing\u001b[39;00m\u001b[39m.\u001b[39;00m\u001b[39mpool\u001b[39;00m \u001b[39mimport\u001b[39;00m ThreadPool\n\u001b[1;32m---> 22\u001b[0m \u001b[39mfrom\u001b[39;00m \u001b[39m.\u001b[39;00m\u001b[39mexecutor\u001b[39;00m \u001b[39mimport\u001b[39;00m get_memmapping_executor\n\u001b[0;32m     24\u001b[0m \u001b[39m# Compat between concurrent.futures and multiprocessing TimeoutError\u001b[39;00m\n\u001b[0;32m     25\u001b[0m \u001b[39mfrom\u001b[39;00m \u001b[39mmultiprocessing\u001b[39;00m \u001b[39mimport\u001b[39;00m \u001b[39mTimeoutError\u001b[39;00m\n",
      "File \u001b[1;32mc:\\Users\\danie\\AppData\\Local\\Programs\\Python\\Python39\\lib\\site-packages\\sklearn\\externals\\joblib\\executor.py:14\u001b[0m\n\u001b[0;32m     12\u001b[0m \u001b[39mfrom\u001b[39;00m \u001b[39m.\u001b[39;00m\u001b[39mdisk\u001b[39;00m \u001b[39mimport\u001b[39;00m delete_folder\n\u001b[0;32m     13\u001b[0m \u001b[39mfrom\u001b[39;00m \u001b[39m.\u001b[39;00m\u001b[39m_memmapping_reducer\u001b[39;00m \u001b[39mimport\u001b[39;00m get_memmapping_reducers\n\u001b[1;32m---> 14\u001b[0m \u001b[39mfrom\u001b[39;00m \u001b[39m.\u001b[39;00m\u001b[39mexternals\u001b[39;00m\u001b[39m.\u001b[39;00m\u001b[39mloky\u001b[39;00m\u001b[39m.\u001b[39;00m\u001b[39mreusable_executor\u001b[39;00m \u001b[39mimport\u001b[39;00m get_reusable_executor\n\u001b[0;32m     17\u001b[0m _backend_args \u001b[39m=\u001b[39m \u001b[39mNone\u001b[39;00m\n\u001b[0;32m     20\u001b[0m \u001b[39mdef\u001b[39;00m \u001b[39mget_memmapping_executor\u001b[39m(n_jobs, timeout\u001b[39m=\u001b[39m\u001b[39m300\u001b[39m, initializer\u001b[39m=\u001b[39m\u001b[39mNone\u001b[39;00m, initargs\u001b[39m=\u001b[39m(),\n\u001b[0;32m     21\u001b[0m                             \u001b[39m*\u001b[39m\u001b[39m*\u001b[39mbackend_args):\n",
      "File \u001b[1;32mc:\\Users\\danie\\AppData\\Local\\Programs\\Python\\Python39\\lib\\site-packages\\sklearn\\externals\\joblib\\externals\\loky\\__init__.py:12\u001b[0m\n\u001b[0;32m      9\u001b[0m \u001b[39mfrom\u001b[39;00m \u001b[39m.\u001b[39;00m\u001b[39m_base\u001b[39;00m \u001b[39mimport\u001b[39;00m ALL_COMPLETED, FIRST_COMPLETED, FIRST_EXCEPTION\n\u001b[0;32m     11\u001b[0m \u001b[39mfrom\u001b[39;00m \u001b[39m.\u001b[39;00m\u001b[39mbackend\u001b[39;00m\u001b[39m.\u001b[39;00m\u001b[39mcontext\u001b[39;00m \u001b[39mimport\u001b[39;00m cpu_count\n\u001b[1;32m---> 12\u001b[0m \u001b[39mfrom\u001b[39;00m \u001b[39m.\u001b[39;00m\u001b[39mbackend\u001b[39;00m\u001b[39m.\u001b[39;00m\u001b[39mreduction\u001b[39;00m \u001b[39mimport\u001b[39;00m set_loky_pickler\n\u001b[0;32m     13\u001b[0m \u001b[39mfrom\u001b[39;00m \u001b[39m.\u001b[39;00m\u001b[39mreusable_executor\u001b[39;00m \u001b[39mimport\u001b[39;00m get_reusable_executor\n\u001b[0;32m     14\u001b[0m \u001b[39mfrom\u001b[39;00m \u001b[39m.\u001b[39;00m\u001b[39mcloudpickle_wrapper\u001b[39;00m \u001b[39mimport\u001b[39;00m wrap_non_picklable_objects\n",
      "File \u001b[1;32mc:\\Users\\danie\\AppData\\Local\\Programs\\Python\\Python39\\lib\\site-packages\\sklearn\\externals\\joblib\\externals\\loky\\backend\\reduction.py:125\u001b[0m\n\u001b[0;32m    123\u001b[0m \u001b[39m# global variable to change the pickler behavior\u001b[39;00m\n\u001b[0;32m    124\u001b[0m \u001b[39mtry\u001b[39;00m:\n\u001b[1;32m--> 125\u001b[0m     \u001b[39mfrom\u001b[39;00m \u001b[39msklearn\u001b[39;00m\u001b[39m.\u001b[39;00m\u001b[39mexternals\u001b[39;00m\u001b[39m.\u001b[39;00m\u001b[39mjoblib\u001b[39;00m\u001b[39m.\u001b[39;00m\u001b[39mexternals\u001b[39;00m \u001b[39mimport\u001b[39;00m cloudpickle  \u001b[39m# noqa: F401\u001b[39;00m\n\u001b[0;32m    126\u001b[0m     DEFAULT_ENV \u001b[39m=\u001b[39m \u001b[39m\"\u001b[39m\u001b[39mcloudpickle\u001b[39m\u001b[39m\"\u001b[39m\n\u001b[0;32m    127\u001b[0m \u001b[39mexcept\u001b[39;00m \u001b[39mImportError\u001b[39;00m:\n\u001b[0;32m    128\u001b[0m     \u001b[39m# If cloudpickle is not present, fallback to pickle\u001b[39;00m\n",
      "File \u001b[1;32mc:\\Users\\danie\\AppData\\Local\\Programs\\Python\\Python39\\lib\\site-packages\\sklearn\\externals\\joblib\\externals\\cloudpickle\\__init__.py:3\u001b[0m\n\u001b[0;32m      1\u001b[0m \u001b[39mfrom\u001b[39;00m \u001b[39m__future__\u001b[39;00m \u001b[39mimport\u001b[39;00m absolute_import\n\u001b[1;32m----> 3\u001b[0m \u001b[39mfrom\u001b[39;00m \u001b[39m.\u001b[39;00m\u001b[39mcloudpickle\u001b[39;00m \u001b[39mimport\u001b[39;00m \u001b[39m*\u001b[39m\n\u001b[0;32m      5\u001b[0m __version__ \u001b[39m=\u001b[39m \u001b[39m'\u001b[39m\u001b[39m0.8.0\u001b[39m\u001b[39m'\u001b[39m\n",
      "File \u001b[1;32mc:\\Users\\danie\\AppData\\Local\\Programs\\Python\\Python39\\lib\\site-packages\\sklearn\\externals\\joblib\\externals\\cloudpickle\\cloudpickle.py:152\u001b[0m\n\u001b[0;32m    132\u001b[0m     \u001b[39melse\u001b[39;00m:\n\u001b[0;32m    133\u001b[0m         \u001b[39mreturn\u001b[39;00m types\u001b[39m.\u001b[39mCodeType(\n\u001b[0;32m    134\u001b[0m             co\u001b[39m.\u001b[39mco_argcount,\n\u001b[0;32m    135\u001b[0m             co\u001b[39m.\u001b[39mco_kwonlyargcount,\n\u001b[1;32m   (...)\u001b[0m\n\u001b[0;32m    148\u001b[0m             (),\n\u001b[0;32m    149\u001b[0m         )\n\u001b[1;32m--> 152\u001b[0m _cell_set_template_code \u001b[39m=\u001b[39m _make_cell_set_template_code()\n\u001b[0;32m    155\u001b[0m \u001b[39mdef\u001b[39;00m \u001b[39mcell_set\u001b[39m(cell, value):\n\u001b[0;32m    156\u001b[0m     \u001b[39m\"\"\"Set the value of a closure cell.\u001b[39;00m\n\u001b[0;32m    157\u001b[0m \u001b[39m    \"\"\"\u001b[39;00m\n",
      "File \u001b[1;32mc:\\Users\\danie\\AppData\\Local\\Programs\\Python\\Python39\\lib\\site-packages\\sklearn\\externals\\joblib\\externals\\cloudpickle\\cloudpickle.py:133\u001b[0m, in \u001b[0;36m_make_cell_set_template_code\u001b[1;34m()\u001b[0m\n\u001b[0;32m    116\u001b[0m     \u001b[39mreturn\u001b[39;00m types\u001b[39m.\u001b[39mCodeType(\n\u001b[0;32m    117\u001b[0m         co\u001b[39m.\u001b[39mco_argcount,\n\u001b[0;32m    118\u001b[0m         co\u001b[39m.\u001b[39mco_nlocals,\n\u001b[1;32m   (...)\u001b[0m\n\u001b[0;32m    130\u001b[0m         (),\n\u001b[0;32m    131\u001b[0m     )\n\u001b[0;32m    132\u001b[0m \u001b[39melse\u001b[39;00m:\n\u001b[1;32m--> 133\u001b[0m     \u001b[39mreturn\u001b[39;00m types\u001b[39m.\u001b[39;49mCodeType(\n\u001b[0;32m    134\u001b[0m         co\u001b[39m.\u001b[39;49mco_argcount,\n\u001b[0;32m    135\u001b[0m         co\u001b[39m.\u001b[39;49mco_kwonlyargcount,\n\u001b[0;32m    136\u001b[0m         co\u001b[39m.\u001b[39;49mco_nlocals,\n\u001b[0;32m    137\u001b[0m         co\u001b[39m.\u001b[39;49mco_stacksize,\n\u001b[0;32m    138\u001b[0m         co\u001b[39m.\u001b[39;49mco_flags,\n\u001b[0;32m    139\u001b[0m         co\u001b[39m.\u001b[39;49mco_code,\n\u001b[0;32m    140\u001b[0m         co\u001b[39m.\u001b[39;49mco_consts,\n\u001b[0;32m    141\u001b[0m         co\u001b[39m.\u001b[39;49mco_names,\n\u001b[0;32m    142\u001b[0m         co\u001b[39m.\u001b[39;49mco_varnames,\n\u001b[0;32m    143\u001b[0m         co\u001b[39m.\u001b[39;49mco_filename,\n\u001b[0;32m    144\u001b[0m         co\u001b[39m.\u001b[39;49mco_name,\n\u001b[0;32m    145\u001b[0m         co\u001b[39m.\u001b[39;49mco_firstlineno,\n\u001b[0;32m    146\u001b[0m         co\u001b[39m.\u001b[39;49mco_lnotab,\n\u001b[0;32m    147\u001b[0m         co\u001b[39m.\u001b[39;49mco_cellvars,  \u001b[39m# this is the trickery\u001b[39;49;00m\n\u001b[0;32m    148\u001b[0m         (),\n\u001b[0;32m    149\u001b[0m     )\n",
      "\u001b[1;31mTypeError\u001b[0m: an integer is required (got type bytes)"
     ]
    }
   ],
   "source": [
    "import pickle\n",
    "import pandas as pd\n",
    "from sklearn.neighbors import NearestNeighbors\n",
    "from travel_destination_recommendation.recommend import make_recommendations, rate_recs"
   ]
  },
  {
   "cell_type": "markdown",
   "metadata": {},
   "source": [
    "## Load Data from Pickle File"
   ]
  },
  {
   "cell_type": "code",
   "execution_count": 20,
   "metadata": {},
   "outputs": [
    {
     "data": {
      "text/html": [
       "<div>\n",
       "<style scoped>\n",
       "    .dataframe tbody tr th:only-of-type {\n",
       "        vertical-align: middle;\n",
       "    }\n",
       "\n",
       "    .dataframe tbody tr th {\n",
       "        vertical-align: top;\n",
       "    }\n",
       "\n",
       "    .dataframe thead th {\n",
       "        text-align: right;\n",
       "    }\n",
       "</style>\n",
       "<table border=\"1\" class=\"dataframe\">\n",
       "  <thead>\n",
       "    <tr style=\"text-align: right;\">\n",
       "      <th></th>\n",
       "      <th>city</th>\n",
       "      <th>city_summary</th>\n",
       "      <th>city_url</th>\n",
       "      <th>country</th>\n",
       "      <th>forest_mountain</th>\n",
       "      <th>palaces</th>\n",
       "      <th>island_water</th>\n",
       "      <th>historical_ww2</th>\n",
       "      <th>urban</th>\n",
       "    </tr>\n",
       "  </thead>\n",
       "  <tbody>\n",
       "    <tr>\n",
       "      <th>0</th>\n",
       "      <td>Danube Valley</td>\n",
       "      <td>The Danube is at its romantic best just west o...</td>\n",
       "      <td>https://www.ricksteves.com/europe/austria/danu...</td>\n",
       "      <td>Austria</td>\n",
       "      <td>0.217851</td>\n",
       "      <td>0.193999</td>\n",
       "      <td>0.196622</td>\n",
       "      <td>0.186767</td>\n",
       "      <td>0.204762</td>\n",
       "    </tr>\n",
       "    <tr>\n",
       "      <th>1</th>\n",
       "      <td>Hallstatt</td>\n",
       "      <td>Lovable Hallstatt is a tiny town bullied onto ...</td>\n",
       "      <td>https://www.ricksteves.com/europe/austria/hall...</td>\n",
       "      <td>Austria</td>\n",
       "      <td>0.215644</td>\n",
       "      <td>0.191211</td>\n",
       "      <td>0.195105</td>\n",
       "      <td>0.207592</td>\n",
       "      <td>0.190449</td>\n",
       "    </tr>\n",
       "    <tr>\n",
       "      <th>2</th>\n",
       "      <td>Salzburg</td>\n",
       "      <td>Thanks to its charmingly preserved old town, s...</td>\n",
       "      <td>https://www.ricksteves.com/europe/austria/salz...</td>\n",
       "      <td>Austria</td>\n",
       "      <td>0.215227</td>\n",
       "      <td>0.192130</td>\n",
       "      <td>0.208308</td>\n",
       "      <td>0.194362</td>\n",
       "      <td>0.189973</td>\n",
       "    </tr>\n",
       "    <tr>\n",
       "      <th>3</th>\n",
       "      <td>Tirol</td>\n",
       "      <td>Mountainous Tirol — in Austria's western panha...</td>\n",
       "      <td>https://www.ricksteves.com/europe/austria/tirol</td>\n",
       "      <td>Austria</td>\n",
       "      <td>0.196819</td>\n",
       "      <td>0.203917</td>\n",
       "      <td>0.212732</td>\n",
       "      <td>0.223861</td>\n",
       "      <td>0.162672</td>\n",
       "    </tr>\n",
       "    <tr>\n",
       "      <th>4</th>\n",
       "      <td>Vienna</td>\n",
       "      <td>Vienna is the capital of Austria, the cradle o...</td>\n",
       "      <td>https://www.ricksteves.com/europe/austria/vienna</td>\n",
       "      <td>Austria</td>\n",
       "      <td>0.200953</td>\n",
       "      <td>0.205604</td>\n",
       "      <td>0.209454</td>\n",
       "      <td>0.225827</td>\n",
       "      <td>0.158162</td>\n",
       "    </tr>\n",
       "    <tr>\n",
       "      <th>5</th>\n",
       "      <td>Antwerp</td>\n",
       "      <td>Antwerp (Antwerpen in Dutch, Anvers in French)...</td>\n",
       "      <td>https://www.ricksteves.com/europe/belgium/antwerp</td>\n",
       "      <td>Belgium</td>\n",
       "      <td>0.222889</td>\n",
       "      <td>0.208160</td>\n",
       "      <td>0.206248</td>\n",
       "      <td>0.199187</td>\n",
       "      <td>0.163516</td>\n",
       "    </tr>\n",
       "    <tr>\n",
       "      <th>6</th>\n",
       "      <td>Bruges</td>\n",
       "      <td>With pointy gilded architecture, stay-a-while ...</td>\n",
       "      <td>https://www.ricksteves.com/europe/belgium/bruges</td>\n",
       "      <td>Belgium</td>\n",
       "      <td>0.186662</td>\n",
       "      <td>0.196401</td>\n",
       "      <td>0.200745</td>\n",
       "      <td>0.223841</td>\n",
       "      <td>0.192350</td>\n",
       "    </tr>\n",
       "    <tr>\n",
       "      <th>7</th>\n",
       "      <td>Brussels</td>\n",
       "      <td>Six hundred years ago, Brussels was just a nic...</td>\n",
       "      <td>https://www.ricksteves.com/europe/belgium/brus...</td>\n",
       "      <td>Belgium</td>\n",
       "      <td>0.200143</td>\n",
       "      <td>0.217760</td>\n",
       "      <td>0.197729</td>\n",
       "      <td>0.211140</td>\n",
       "      <td>0.173228</td>\n",
       "    </tr>\n",
       "    <tr>\n",
       "      <th>8</th>\n",
       "      <td>Ghent</td>\n",
       "      <td>Ghent doesn't ooze with cobbles and charm, lik...</td>\n",
       "      <td>https://www.ricksteves.com/europe/belgium/ghent</td>\n",
       "      <td>Belgium</td>\n",
       "      <td>0.167311</td>\n",
       "      <td>0.258152</td>\n",
       "      <td>0.189665</td>\n",
       "      <td>0.191732</td>\n",
       "      <td>0.193139</td>\n",
       "    </tr>\n",
       "    <tr>\n",
       "      <th>9</th>\n",
       "      <td>Mostar</td>\n",
       "      <td>Despite the scars of war, Mostar is still stun...</td>\n",
       "      <td>https://www.ricksteves.com/europe/bosnia-herze...</td>\n",
       "      <td>Bosnia-Herzegovina</td>\n",
       "      <td>0.170985</td>\n",
       "      <td>0.239295</td>\n",
       "      <td>0.197913</td>\n",
       "      <td>0.193964</td>\n",
       "      <td>0.197843</td>\n",
       "    </tr>\n",
       "  </tbody>\n",
       "</table>\n",
       "</div>"
      ],
      "text/plain": [
       "            city                                       city_summary  \\\n",
       "0  Danube Valley  The Danube is at its romantic best just west o...   \n",
       "1      Hallstatt  Lovable Hallstatt is a tiny town bullied onto ...   \n",
       "2       Salzburg  Thanks to its charmingly preserved old town, s...   \n",
       "3          Tirol  Mountainous Tirol — in Austria's western panha...   \n",
       "4         Vienna  Vienna is the capital of Austria, the cradle o...   \n",
       "5        Antwerp  Antwerp (Antwerpen in Dutch, Anvers in French)...   \n",
       "6         Bruges  With pointy gilded architecture, stay-a-while ...   \n",
       "7       Brussels  Six hundred years ago, Brussels was just a nic...   \n",
       "8          Ghent  Ghent doesn't ooze with cobbles and charm, lik...   \n",
       "9         Mostar  Despite the scars of war, Mostar is still stun...   \n",
       "\n",
       "                                            city_url             country  \\\n",
       "0  https://www.ricksteves.com/europe/austria/danu...             Austria   \n",
       "1  https://www.ricksteves.com/europe/austria/hall...             Austria   \n",
       "2  https://www.ricksteves.com/europe/austria/salz...             Austria   \n",
       "3    https://www.ricksteves.com/europe/austria/tirol             Austria   \n",
       "4   https://www.ricksteves.com/europe/austria/vienna             Austria   \n",
       "5  https://www.ricksteves.com/europe/belgium/antwerp             Belgium   \n",
       "6   https://www.ricksteves.com/europe/belgium/bruges             Belgium   \n",
       "7  https://www.ricksteves.com/europe/belgium/brus...             Belgium   \n",
       "8    https://www.ricksteves.com/europe/belgium/ghent             Belgium   \n",
       "9  https://www.ricksteves.com/europe/bosnia-herze...  Bosnia-Herzegovina   \n",
       "\n",
       "   forest_mountain   palaces  island_water  historical_ww2     urban  \n",
       "0         0.217851  0.193999      0.196622        0.186767  0.204762  \n",
       "1         0.215644  0.191211      0.195105        0.207592  0.190449  \n",
       "2         0.215227  0.192130      0.208308        0.194362  0.189973  \n",
       "3         0.196819  0.203917      0.212732        0.223861  0.162672  \n",
       "4         0.200953  0.205604      0.209454        0.225827  0.158162  \n",
       "5         0.222889  0.208160      0.206248        0.199187  0.163516  \n",
       "6         0.186662  0.196401      0.200745        0.223841  0.192350  \n",
       "7         0.200143  0.217760      0.197729        0.211140  0.173228  \n",
       "8         0.167311  0.258152      0.189665        0.191732  0.193139  \n",
       "9         0.170985  0.239295      0.197913        0.193964  0.197843  "
      ]
     },
     "execution_count": 20,
     "metadata": {},
     "output_type": "execute_result"
    }
   ],
   "source": [
    "cities_with_scores = pickle.load(open('data/cities_with_topic_scores.pkl', 'rb'))\n",
    "cities_with_scores.head(10)"
   ]
  },
  {
   "cell_type": "code",
   "execution_count": 21,
   "metadata": {},
   "outputs": [],
   "source": [
    "topics = cities_with_scores.drop(['city', 'city_summary', 'country', 'city_url'], axis=1)"
   ]
  },
  {
   "cell_type": "markdown",
   "metadata": {},
   "source": [
    "## Train NN-Model on Topic Scores\n",
    "Collect the 50 closest neighbors. I used minkowski, p=2 since users are rating features implying magnitude. With cosine similarity, magnitude is not a factor. If cosine similarity was used, a user rating of all `1s` would give the same recommendations as a user rating of all `9s`."
   ]
  },
  {
   "cell_type": "code",
   "execution_count": 22,
   "metadata": {},
   "outputs": [
    {
     "data": {
      "text/html": [
       "<style>#sk-container-id-3 {color: black;background-color: white;}#sk-container-id-3 pre{padding: 0;}#sk-container-id-3 div.sk-toggleable {background-color: white;}#sk-container-id-3 label.sk-toggleable__label {cursor: pointer;display: block;width: 100%;margin-bottom: 0;padding: 0.3em;box-sizing: border-box;text-align: center;}#sk-container-id-3 label.sk-toggleable__label-arrow:before {content: \"▸\";float: left;margin-right: 0.25em;color: #696969;}#sk-container-id-3 label.sk-toggleable__label-arrow:hover:before {color: black;}#sk-container-id-3 div.sk-estimator:hover label.sk-toggleable__label-arrow:before {color: black;}#sk-container-id-3 div.sk-toggleable__content {max-height: 0;max-width: 0;overflow: hidden;text-align: left;background-color: #f0f8ff;}#sk-container-id-3 div.sk-toggleable__content pre {margin: 0.2em;color: black;border-radius: 0.25em;background-color: #f0f8ff;}#sk-container-id-3 input.sk-toggleable__control:checked~div.sk-toggleable__content {max-height: 200px;max-width: 100%;overflow: auto;}#sk-container-id-3 input.sk-toggleable__control:checked~label.sk-toggleable__label-arrow:before {content: \"▾\";}#sk-container-id-3 div.sk-estimator input.sk-toggleable__control:checked~label.sk-toggleable__label {background-color: #d4ebff;}#sk-container-id-3 div.sk-label input.sk-toggleable__control:checked~label.sk-toggleable__label {background-color: #d4ebff;}#sk-container-id-3 input.sk-hidden--visually {border: 0;clip: rect(1px 1px 1px 1px);clip: rect(1px, 1px, 1px, 1px);height: 1px;margin: -1px;overflow: hidden;padding: 0;position: absolute;width: 1px;}#sk-container-id-3 div.sk-estimator {font-family: monospace;background-color: #f0f8ff;border: 1px dotted black;border-radius: 0.25em;box-sizing: border-box;margin-bottom: 0.5em;}#sk-container-id-3 div.sk-estimator:hover {background-color: #d4ebff;}#sk-container-id-3 div.sk-parallel-item::after {content: \"\";width: 100%;border-bottom: 1px solid gray;flex-grow: 1;}#sk-container-id-3 div.sk-label:hover label.sk-toggleable__label {background-color: #d4ebff;}#sk-container-id-3 div.sk-serial::before {content: \"\";position: absolute;border-left: 1px solid gray;box-sizing: border-box;top: 0;bottom: 0;left: 50%;z-index: 0;}#sk-container-id-3 div.sk-serial {display: flex;flex-direction: column;align-items: center;background-color: white;padding-right: 0.2em;padding-left: 0.2em;position: relative;}#sk-container-id-3 div.sk-item {position: relative;z-index: 1;}#sk-container-id-3 div.sk-parallel {display: flex;align-items: stretch;justify-content: center;background-color: white;position: relative;}#sk-container-id-3 div.sk-item::before, #sk-container-id-3 div.sk-parallel-item::before {content: \"\";position: absolute;border-left: 1px solid gray;box-sizing: border-box;top: 0;bottom: 0;left: 50%;z-index: -1;}#sk-container-id-3 div.sk-parallel-item {display: flex;flex-direction: column;z-index: 1;position: relative;background-color: white;}#sk-container-id-3 div.sk-parallel-item:first-child::after {align-self: flex-end;width: 50%;}#sk-container-id-3 div.sk-parallel-item:last-child::after {align-self: flex-start;width: 50%;}#sk-container-id-3 div.sk-parallel-item:only-child::after {width: 0;}#sk-container-id-3 div.sk-dashed-wrapped {border: 1px dashed gray;margin: 0 0.4em 0.5em 0.4em;box-sizing: border-box;padding-bottom: 0.4em;background-color: white;}#sk-container-id-3 div.sk-label label {font-family: monospace;font-weight: bold;display: inline-block;line-height: 1.2em;}#sk-container-id-3 div.sk-label-container {text-align: center;}#sk-container-id-3 div.sk-container {/* jupyter's `normalize.less` sets `[hidden] { display: none; }` but bootstrap.min.css set `[hidden] { display: none !important; }` so we also need the `!important` here to be able to override the default hidden behavior on the sphinx rendered scikit-learn.org. See: https://github.com/scikit-learn/scikit-learn/issues/21755 */display: inline-block !important;position: relative;}#sk-container-id-3 div.sk-text-repr-fallback {display: none;}</style><div id=\"sk-container-id-3\" class=\"sk-top-container\"><div class=\"sk-text-repr-fallback\"><pre>NearestNeighbors(n_neighbors=50)</pre><b>In a Jupyter environment, please rerun this cell to show the HTML representation or trust the notebook. <br />On GitHub, the HTML representation is unable to render, please try loading this page with nbviewer.org.</b></div><div class=\"sk-container\" hidden><div class=\"sk-item\"><div class=\"sk-estimator sk-toggleable\"><input class=\"sk-toggleable__control sk-hidden--visually\" id=\"sk-estimator-id-3\" type=\"checkbox\" checked><label for=\"sk-estimator-id-3\" class=\"sk-toggleable__label sk-toggleable__label-arrow\">NearestNeighbors</label><div class=\"sk-toggleable__content\"><pre>NearestNeighbors(n_neighbors=50)</pre></div></div></div></div></div>"
      ],
      "text/plain": [
       "NearestNeighbors(n_neighbors=50)"
      ]
     },
     "execution_count": 22,
     "metadata": {},
     "output_type": "execute_result"
    }
   ],
   "source": [
    "nearest_neighbor = NearestNeighbors(n_neighbors=50, metric='minkowski')\n",
    "nearest_neighbor.fit(topics)"
   ]
  },
  {
   "cell_type": "markdown",
   "metadata": {},
   "source": [
    "### For reproducability, load the existing NN-model"
   ]
  },
  {
   "cell_type": "code",
   "execution_count": 23,
   "metadata": {},
   "outputs": [
    {
     "name": "stdout",
     "output_type": "stream",
     "text": [
      "1.1.2\n"
     ]
    },
    {
     "name": "stderr",
     "output_type": "stream",
     "text": [
      "c:\\Users\\danie\\AppData\\Local\\Programs\\Python\\Python39\\lib\\site-packages\\sklearn\\base.py:329: UserWarning: Trying to unpickle estimator NearestNeighbors from version 0.21.1 when using version 1.1.2. This might lead to breaking code or invalid results. Use at your own risk. For more info please refer to:\n",
      "https://scikit-learn.org/stable/model_persistence.html#security-maintainability-limitations\n",
      "  from .metrics import r2_score\n"
     ]
    }
   ],
   "source": [
    "# pickle.dump(nearest_neighbor, open('models/nn_model.pkl', 'wb'))\n",
    "import sklearn\n",
    "\n",
    "\n",
    "nearest_neighbor = pickle.load(open('models/nn_model.pkl', 'rb'))\n",
    "print(sklearn.__version__)\n",
    "# print(pickle.__package__)"
   ]
  },
  {
   "cell_type": "markdown",
   "metadata": {},
   "source": [
    "## Make Recommendations\n",
    "\n",
    "Collects user information to make recommendations."
   ]
  },
  {
   "cell_type": "code",
   "execution_count": 24,
   "metadata": {},
   "outputs": [
    {
     "name": "stdout",
     "output_type": "stream",
     "text": [
      "Rate on a scale of 0-10.\n",
      "    0 is not important and 10 is very important\n"
     ]
    },
    {
     "name": "stderr",
     "output_type": "stream",
     "text": [
      "c:\\Users\\danie\\source\\repos\\travel_destination_recommendation\\travel_destination_recommendation\\recommend.py:54: VisibleDeprecationWarning: Creating an ndarray from ragged nested sequences (which is a list-or-tuple of lists-or-tuples-or ndarrays with different lengths or shapes) is deprecated. If you meant to do this, you must specify 'dtype=object' when creating the ndarray.\n",
      "  return np.random.choice(np.array(closest)[:, 0], 10, replace=False)\n"
     ]
    },
    {
     "name": "stdout",
     "output_type": "stream",
     "text": [
      "\n",
      "\n",
      "For the following locations give:\n",
      "            \t1 if you have visited and liked\n",
      "            \t-1 if you have visited and disliked\n",
      "            \t0 if you have never been\n"
     ]
    }
   ],
   "source": [
    "recommendations = make_recommendations(cities_with_scores, nearest_neighbor)"
   ]
  },
  {
   "cell_type": "markdown",
   "metadata": {},
   "source": [
    "## Determine strength of recommendations\n",
    "Ask the user how they liked their recommendations."
   ]
  },
  {
   "cell_type": "code",
   "execution_count": 1,
   "metadata": {},
   "outputs": [
    {
     "ename": "NameError",
     "evalue": "name 'pickle' is not defined",
     "output_type": "error",
     "traceback": [
      "\u001b[1;31m---------------------------------------------------------------------------\u001b[0m",
      "\u001b[1;31mNameError\u001b[0m                                 Traceback (most recent call last)",
      "Cell \u001b[1;32mIn [1], line 1\u001b[0m\n\u001b[1;32m----> 1\u001b[0m pickle\u001b[39m.\u001b[39mdump(recommendations, \u001b[39mopen\u001b[39m(\u001b[39m'\u001b[39m\u001b[39mdata/recommendations.pkl\u001b[39m\u001b[39m'\u001b[39m, \u001b[39m'\u001b[39m\u001b[39mwb\u001b[39m\u001b[39m'\u001b[39m))\n\u001b[0;32m      2\u001b[0m \u001b[39mwith\u001b[39;00m \u001b[39mopen\u001b[39m(\u001b[39m'\u001b[39m\u001b[39mrecs.txt\u001b[39m\u001b[39m'\u001b[39m, \u001b[39m'\u001b[39m\u001b[39ma\u001b[39m\u001b[39m'\u001b[39m) \u001b[39mas\u001b[39;00m f:\n\u001b[0;32m      3\u001b[0m     f\u001b[39m.\u001b[39mwrite(\u001b[39mstr\u001b[39m(recommendations) \u001b[39m+\u001b[39m \u001b[39m'\u001b[39m\u001b[39m\\n\u001b[39;00m\u001b[39m'\u001b[39m)\n",
      "\u001b[1;31mNameError\u001b[0m: name 'pickle' is not defined"
     ]
    }
   ],
   "source": [
    "pickle.dump(recommendations, open('data/recommendations.pkl', 'wb'))\n",
    "with open('recs.txt', 'a') as f:\n",
    "    f.write(str(recommendations) + '\\n')"
   ]
  },
  {
   "cell_type": "code",
   "execution_count": 26,
   "metadata": {},
   "outputs": [
    {
     "name": "stdout",
     "output_type": "stream",
     "text": [
      "[(('Rhine Valley', 'Germany'), 0.10803072489987252), (('Zagreb', 'Croatia'), 0.11060564838559112), (('Isle of Skye', 'Scotland'), 0.11099850156465726), (('Korčula', 'Croatia'), 0.11447172650112071), (('St Petersburg', 'Russia'), 0.11452370292726524)]\n"
     ]
    }
   ],
   "source": [
    "print(recommendations)\n",
    "rate_recs(recommendations)"
   ]
  }
 ],
 "metadata": {
  "kernelspec": {
   "display_name": "Python 3.9.7 64-bit",
   "language": "python",
   "name": "python3"
  },
  "language_info": {
   "codemirror_mode": {
    "name": "ipython",
    "version": 3
   },
   "file_extension": ".py",
   "mimetype": "text/x-python",
   "name": "python",
   "nbconvert_exporter": "python",
   "pygments_lexer": "ipython3",
   "version": "3.9.7"
  },
  "vscode": {
   "interpreter": {
    "hash": "a9960baf88259386db57c734c8604c8e4ab789688672644b3cf73fda24b112c6"
   }
  }
 },
 "nbformat": 4,
 "nbformat_minor": 2
}
