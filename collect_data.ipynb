{
 "cells": [
  {
   "cell_type": "markdown",
   "metadata": {},
   "source": [
    "# Collection of Data from ricksteves.com"
   ]
  },
  {
   "cell_type": "markdown",
   "metadata": {},
   "source": [
    "## Import Necessary Libraries"
   ]
  },
  {
   "cell_type": "code",
   "execution_count": 2,
   "metadata": {},
   "outputs": [],
   "source": [
    "import pandas as pd\n",
    "import time\n",
    "import urllib.request\n",
    "from collections import Counter\n",
    "from selenium.webdriver import Chrome\n",
    "import pickle\n",
    "import pymongo\n",
    "import numpy as np\n",
    "from scrape import collect_urls, collect_all_data, collect_city_data, get_wiki_description, get_city_photos, replace_df_text"
   ]
  },
  {
   "cell_type": "markdown",
   "metadata": {},
   "source": [
    "### Instantiate MongoDB Databases"
   ]
  },
  {
   "cell_type": "code",
   "execution_count": 2,
   "metadata": {},
   "outputs": [],
   "source": [
    "mc = pymongo.MongoClient()"
   ]
  },
  {
   "cell_type": "code",
   "execution_count": 3,
   "metadata": {},
   "outputs": [],
   "source": [
    "city_db = mc['city_database']"
   ]
  },
  {
   "cell_type": "code",
   "execution_count": 4,
   "metadata": {},
   "outputs": [],
   "source": [
    "city_collection = city_db['city_collection']\n",
    "country_collection = city_db['country_collection']\n",
    "wiki_collection = city_db['wiki_collection']"
   ]
  },
  {
   "cell_type": "markdown",
   "metadata": {},
   "source": [
    "## Web Scraping\n",
    "\n",
    "### Rick Steves\n",
    "ricksteves.com has short summaries and photos of 213 European cities or regions. I collected country summaries, city/region summaries, as well as the leading photo of each location."
   ]
  },
  {
   "cell_type": "code",
   "execution_count": 5,
   "metadata": {},
   "outputs": [],
   "source": [
    "browser = Chrome()\n",
    "url = \"https://www.ricksteves.com/\"\n",
    "browser.get(url)"
   ]
  },
  {
   "cell_type": "code",
   "execution_count": 6,
   "metadata": {},
   "outputs": [],
   "source": [
    "browser.find_element_by_xpath('//*[@id=\"nav\"]/ul/li[2]/a').click()"
   ]
  },
  {
   "cell_type": "code",
   "execution_count": 7,
   "metadata": {},
   "outputs": [],
   "source": [
    "country_urls = collect_urls(browser, '/europe/')"
   ]
  },
  {
   "cell_type": "code",
   "execution_count": 8,
   "metadata": {},
   "outputs": [
    {
     "data": {
      "text/plain": [
       "['https://www.ricksteves.com/europe/austria',\n",
       " 'https://www.ricksteves.com/europe/belgium',\n",
       " 'https://www.ricksteves.com/europe/bosnia-herzegovina',\n",
       " 'https://www.ricksteves.com/europe/bulgaria',\n",
       " 'https://www.ricksteves.com/europe/croatia',\n",
       " 'https://www.ricksteves.com/europe/czech-republic',\n",
       " 'https://www.ricksteves.com/europe/denmark',\n",
       " 'https://www.ricksteves.com/europe/england',\n",
       " 'https://www.ricksteves.com/europe/estonia',\n",
       " 'https://www.ricksteves.com/europe/finland',\n",
       " 'https://www.ricksteves.com/europe/france',\n",
       " 'https://www.ricksteves.com/europe/germany',\n",
       " 'https://www.ricksteves.com/europe/greece',\n",
       " 'https://www.ricksteves.com/europe/hungary',\n",
       " 'https://www.ricksteves.com/europe/iceland',\n",
       " 'https://www.ricksteves.com/europe/ireland',\n",
       " 'https://www.ricksteves.com/europe/italy',\n",
       " 'https://www.ricksteves.com/europe/montenegro',\n",
       " 'https://www.ricksteves.com/europe/netherlands',\n",
       " 'https://www.ricksteves.com/europe/norway',\n",
       " 'https://www.ricksteves.com/europe/poland',\n",
       " 'https://www.ricksteves.com/europe/portugal',\n",
       " 'https://www.ricksteves.com/europe/russia',\n",
       " 'https://www.ricksteves.com/europe/scotland',\n",
       " 'https://www.ricksteves.com/europe/slovakia',\n",
       " 'https://www.ricksteves.com/europe/slovenia',\n",
       " 'https://www.ricksteves.com/europe/spain',\n",
       " 'https://www.ricksteves.com/europe/sweden',\n",
       " 'https://www.ricksteves.com/europe/switzerland',\n",
       " 'https://www.ricksteves.com/europe/turkey',\n",
       " 'https://www.ricksteves.com/europe/wales',\n",
       " 'https://www.ricksteves.com/europe/france/d-day-beaches',\n",
       " 'https://www.ricksteves.com/europe/guidebook-updates']"
      ]
     },
     "execution_count": 8,
     "metadata": {},
     "output_type": "execute_result"
    }
   ],
   "source": [
    "country_urls"
   ]
  },
  {
   "cell_type": "markdown",
   "metadata": {},
   "source": [
    "The last two links are not for actual countries so we will remove them."
   ]
  },
  {
   "cell_type": "code",
   "execution_count": 9,
   "metadata": {},
   "outputs": [],
   "source": [
    "country_urls = country_urls[0:-2]"
   ]
  },
  {
   "cell_type": "code",
   "execution_count": 10,
   "metadata": {},
   "outputs": [
    {
     "data": {
      "text/plain": [
       "['https://www.ricksteves.com/europe/austria',\n",
       " 'https://www.ricksteves.com/europe/belgium',\n",
       " 'https://www.ricksteves.com/europe/bosnia-herzegovina',\n",
       " 'https://www.ricksteves.com/europe/bulgaria',\n",
       " 'https://www.ricksteves.com/europe/croatia',\n",
       " 'https://www.ricksteves.com/europe/czech-republic',\n",
       " 'https://www.ricksteves.com/europe/denmark',\n",
       " 'https://www.ricksteves.com/europe/england',\n",
       " 'https://www.ricksteves.com/europe/estonia',\n",
       " 'https://www.ricksteves.com/europe/finland',\n",
       " 'https://www.ricksteves.com/europe/france',\n",
       " 'https://www.ricksteves.com/europe/germany',\n",
       " 'https://www.ricksteves.com/europe/greece',\n",
       " 'https://www.ricksteves.com/europe/hungary',\n",
       " 'https://www.ricksteves.com/europe/iceland',\n",
       " 'https://www.ricksteves.com/europe/ireland',\n",
       " 'https://www.ricksteves.com/europe/italy',\n",
       " 'https://www.ricksteves.com/europe/montenegro',\n",
       " 'https://www.ricksteves.com/europe/netherlands',\n",
       " 'https://www.ricksteves.com/europe/norway',\n",
       " 'https://www.ricksteves.com/europe/poland',\n",
       " 'https://www.ricksteves.com/europe/portugal',\n",
       " 'https://www.ricksteves.com/europe/russia',\n",
       " 'https://www.ricksteves.com/europe/scotland',\n",
       " 'https://www.ricksteves.com/europe/slovakia',\n",
       " 'https://www.ricksteves.com/europe/slovenia',\n",
       " 'https://www.ricksteves.com/europe/spain',\n",
       " 'https://www.ricksteves.com/europe/sweden',\n",
       " 'https://www.ricksteves.com/europe/switzerland',\n",
       " 'https://www.ricksteves.com/europe/turkey',\n",
       " 'https://www.ricksteves.com/europe/wales']"
      ]
     },
     "execution_count": 10,
     "metadata": {},
     "output_type": "execute_result"
    }
   ],
   "source": [
    "country_urls"
   ]
  },
  {
   "cell_type": "markdown",
   "metadata": {},
   "source": [
    "Now that we have the url for all the countries, lets get the urls for each city. Let's start collecting some data. First go to the country's page, collect the urls for all the cities/regions. Then go to each of those pages collect the summary."
   ]
  },
  {
   "cell_type": "code",
   "execution_count": 11,
   "metadata": {},
   "outputs": [
    {
     "name": "stdout",
     "output_type": "stream",
     "text": [
      "Inserted Austria into country collection\n",
      "Inserted Danube Valley, Austria into city collection\n",
      "Inserted Hallstatt, Austria into city collection\n",
      "Inserted Salzburg, Austria into city collection\n",
      "Inserted Tirol, Austria into city collection\n",
      "Inserted Vienna, Austria into city collection\n",
      "Completed scrapping Austria\n",
      "Inserted Belgium into country collection\n",
      "Inserted Antwerp, Belgium into city collection\n",
      "Inserted Bruges, Belgium into city collection\n",
      "Inserted Brussels, Belgium into city collection\n",
      "Inserted Ghent, Belgium into city collection\n",
      "Completed scrapping Belgium\n",
      "Inserted Bosnia-Herzegovina into country collection\n",
      "Inserted Mostar, Bosnia-Herzegovina into city collection\n",
      "Inserted Sarajevo, Bosnia-Herzegovina into city collection\n",
      "Completed scrapping Bosnia-Herzegovina\n",
      "Inserted Bulgaria into country collection\n",
      "Completed scrapping Bulgaria\n",
      "Inserted Croatia into country collection\n",
      "Inserted Dalmatian Coast, Croatia into city collection\n",
      "Inserted Dubrovnik, Croatia into city collection\n",
      "Inserted Hvar, Croatia into city collection\n",
      "Inserted Istria, Croatia into city collection\n",
      "Inserted Korčula, Croatia into city collection\n",
      "Inserted Split, Croatia into city collection\n",
      "Inserted Zagreb, Croatia into city collection\n",
      "Completed scrapping Croatia\n",
      "Inserted Czech Republic into country collection\n",
      "Completed scrapping Czech Republic\n",
      "Inserted Denmark into country collection\n",
      "Inserted Aarhus, Denmark into city collection\n",
      "Inserted Copenhagen, Denmark into city collection\n",
      "Inserted Ærø, Denmark into city collection\n",
      "Completed scrapping Denmark\n",
      "Inserted England into country collection\n",
      "Inserted Bath, England into city collection\n",
      "Inserted Blackpool, England into city collection\n",
      "Inserted Brighton, England into city collection\n",
      "Inserted Cambridge, England into city collection\n",
      "Inserted Canterbury, England into city collection\n",
      "Inserted Cornwall, England into city collection\n",
      "Inserted Cotswolds, England into city collection\n",
      "Inserted Dover, England into city collection\n",
      "Inserted Durham, England into city collection\n",
      "Inserted Glastonbury & Wells, England into city collection\n",
      "Inserted Ironbridge Gorge, England into city collection\n",
      "Inserted Lake District, England into city collection\n",
      "Inserted Liverpool, England into city collection\n",
      "Inserted London, England into city collection\n",
      "Inserted Oxford, England into city collection\n",
      "Inserted Portsmouth, England into city collection\n",
      "Inserted Stonehenge & Avebury, England into city collection\n",
      "Inserted Stratford, England into city collection\n",
      "Inserted Warwick & Coventry, England into city collection\n",
      "Inserted Windsor, England into city collection\n",
      "Inserted York, England into city collection\n",
      "Completed scrapping England\n",
      "Inserted Estonia into country collection\n",
      "Inserted Tallinn, Estonia into city collection\n",
      "Completed scrapping Estonia\n",
      "Inserted Finland into country collection\n",
      "Inserted Helsinki, Finland into city collection\n",
      "Completed scrapping Finland\n",
      "Inserted France into country collection\n",
      "Inserted Aix-en-Provence, France into city collection\n",
      "Inserted Albi, France into city collection\n",
      "Inserted Alsace, France into city collection\n",
      "Inserted Annecy, France into city collection\n",
      "Inserted Antibes, France into city collection\n",
      "Inserted Arles, France into city collection\n",
      "Inserted Avignon, France into city collection\n",
      "Inserted Bayeux, France into city collection\n",
      "Inserted Brittany, France into city collection\n",
      "Inserted Burgundy, France into city collection\n",
      "Inserted Carcassonne, France into city collection\n",
      "Inserted Cassis, France into city collection\n",
      "Inserted Chamonix, France into city collection\n",
      "Inserted Chartres, France into city collection\n",
      "Inserted Collioure, France into city collection\n",
      "Inserted Colmar, France into city collection\n",
      "Inserted Côtes du Rhône, France into city collection\n",
      "Inserted D-Day Beaches, France into city collection\n",
      "Inserted Dordogne, France into city collection\n",
      "Inserted French Alps, France into city collection\n",
      "Inserted French Basque Country, France into city collection\n",
      "Inserted French Riviera, France into city collection\n",
      "Inserted Honfleur, France into city collection\n",
      "Inserted Languedoc-Roussillon, France into city collection\n",
      "Inserted Loire, France into city collection\n",
      "Inserted Luberon, France into city collection\n",
      "Inserted Lyon, France into city collection\n",
      "Inserted Marseille, France into city collection\n",
      "Inserted Monaco, France into city collection\n",
      "Inserted Mont St-Michel, France into city collection\n",
      "Inserted Nice, France into city collection\n",
      "Inserted Normandy, France into city collection\n",
      "Inserted Paris, France into city collection\n",
      "Inserted Provence, France into city collection\n",
      "Inserted Reims & Verdun, France into city collection\n",
      "Inserted Rouen, France into city collection\n",
      "Inserted Sarlat-la-Canéda, France into city collection\n",
      "Inserted Strasbourg, France into city collection\n",
      "Inserted Versailles, France into city collection\n",
      "Inserted Villefranche-sur-Mer, France into city collection\n",
      "Completed scrapping France\n",
      "Inserted Germany into country collection\n",
      "Inserted Baden-Baden, Germany into city collection\n",
      "Inserted Bavaria, Germany into city collection\n",
      "Inserted Bavarian Alps, Germany into city collection\n",
      "Inserted Berlin, Germany into city collection\n",
      "Inserted Black Forest, Germany into city collection\n",
      "Inserted Cologne, Germany into city collection\n",
      "Inserted Dresden, Germany into city collection\n",
      "Inserted Frankfurt, Germany into city collection\n",
      "Inserted Hamburg, Germany into city collection\n",
      "Inserted Mosel Valley, Germany into city collection\n",
      "Inserted Munich, Germany into city collection\n",
      "Inserted Nürnberg, Germany into city collection\n",
      "Inserted Rhine Valley, Germany into city collection\n",
      "Inserted Rothenburg ob der Tauber, Germany into city collection\n",
      "Inserted Trier, Germany into city collection\n",
      "Inserted Würzburg, Germany into city collection\n",
      "Completed scrapping Germany\n",
      "Inserted Greece into country collection\n",
      "Inserted Athens, Greece into city collection\n",
      "Inserted Delphi, Greece into city collection\n",
      "Inserted Greek Islands, Greece into city collection\n",
      "Inserted Hydra, Greece into city collection\n",
      "Inserted Kardamyli, Greece into city collection\n",
      "Inserted Mani Peninsula, Greece into city collection\n",
      "Inserted Monemvasia, Greece into city collection\n",
      "Inserted Mykonos, Greece into city collection\n",
      "Inserted Nafplio, Greece into city collection\n",
      "Inserted Olympia, Greece into city collection\n",
      "Inserted Peloponnese, Greece into city collection\n",
      "Inserted Santorini, Greece into city collection\n",
      "Completed scrapping Greece\n",
      "Inserted Hungary into country collection\n",
      "Inserted Budapest, Hungary into city collection\n",
      "Inserted Eger, Hungary into city collection\n",
      "Completed scrapping Hungary\n",
      "Inserted Iceland into country collection\n",
      "Completed scrapping Iceland\n",
      "Inserted Ireland into country collection\n",
      "Inserted Aran Islands, Ireland into city collection\n",
      "Inserted Belfast, Ireland into city collection\n",
      "Inserted Connemara & County Mayo, Ireland into city collection\n",
      "Inserted County Clare & the Burren, Ireland into city collection\n",
      "Inserted County Donegal, Ireland into city collection\n",
      "Inserted Derry, Ireland into city collection\n",
      "Inserted Dingle Peninsula, Ireland into city collection\n",
      "Inserted Dublin, Ireland into city collection\n",
      "Inserted Galway, Ireland into city collection\n",
      "Inserted Kenmare & the Ring of Kerry, Ireland into city collection\n",
      "Inserted Kilkenny & the Rock of Cashel, Ireland into city collection\n",
      "Inserted Kinsale & Cobh, Ireland into city collection\n",
      "Inserted Northern Ireland, Ireland into city collection\n",
      "Inserted Portrush & the Antrim Coast, Ireland into city collection\n",
      "Inserted Waterford & County Wexford, Ireland into city collection\n",
      "Completed scrapping Ireland\n",
      "Inserted Italy into country collection\n",
      "Inserted Amalfi Coast, Italy into city collection\n",
      "Inserted Assisi, Italy into city collection\n",
      "Inserted Capri, Italy into city collection\n",
      "Inserted Cinque Terre, Italy into city collection\n",
      "Inserted Civita di Bagnoregio, Italy into city collection\n",
      "Inserted Dolomites, Italy into city collection\n",
      "Inserted Florence, Italy into city collection\n",
      "Inserted Italian Lakes, Italy into city collection\n",
      "Inserted Italian Riviera, Italy into city collection\n",
      "Inserted Lucca, Italy into city collection\n",
      "Inserted Milan, Italy into city collection\n",
      "Inserted Naples, Italy into city collection\n",
      "Inserted Orvieto, Italy into city collection\n"
     ]
    },
    {
     "name": "stdout",
     "output_type": "stream",
     "text": [
      "Inserted Pisa, Italy into city collection\n",
      "Inserted Pompeii & Herculaneum, Italy into city collection\n",
      "Inserted Ravenna, Italy into city collection\n",
      "Inserted Rome, Italy into city collection\n",
      "Inserted Sicily, Italy into city collection\n",
      "Inserted Siena, Italy into city collection\n",
      "Inserted Sorrento, Italy into city collection\n",
      "Inserted Tuscan Hill Towns, Italy into city collection\n",
      "Inserted Tuscany, Italy into city collection\n",
      "Inserted Venice, Italy into city collection\n",
      "Completed scrapping Italy\n",
      "Inserted Montenegro into country collection\n",
      "Completed scrapping Montenegro\n",
      "Inserted Netherlands into country collection\n",
      "Inserted Amsterdam, Netherlands into city collection\n",
      "Inserted Delft, Netherlands into city collection\n",
      "Inserted Edam, Netherlands into city collection\n",
      "Inserted Haarlem, Netherlands into city collection\n",
      "Inserted The Hague, Netherlands into city collection\n",
      "Completed scrapping Netherlands\n",
      "Inserted Norway into country collection\n",
      "Inserted Bergen, Norway into city collection\n",
      "Inserted Norwegian Fjords, Norway into city collection\n",
      "Inserted Oslo, Norway into city collection\n",
      "Completed scrapping Norway\n",
      "Inserted Poland into country collection\n",
      "Inserted Auschwitz-Birkenau, Poland into city collection\n",
      "Inserted Gdańsk, Poland into city collection\n",
      "Inserted Kraków, Poland into city collection\n",
      "Inserted Warsaw, Poland into city collection\n",
      "Completed scrapping Poland\n",
      "Inserted Portugal into country collection\n",
      "Inserted Algarve, Portugal into city collection\n",
      "Inserted Coimbra, Portugal into city collection\n",
      "Inserted Douro Valley, Portugal into city collection\n",
      "Inserted Lisbon, Portugal into city collection\n",
      "Inserted Nazaré, Portugal into city collection\n",
      "Inserted Porto, Portugal into city collection\n",
      "Inserted Sintra, Portugal into city collection\n",
      "Inserted Évora, Portugal into city collection\n",
      "Inserted Óbidos, Portugal into city collection\n",
      "Completed scrapping Portugal\n",
      "Inserted Russia into country collection\n",
      "Inserted St. Petersburg, Russia into city collection\n",
      "Completed scrapping Russia\n",
      "Inserted Scotland into country collection\n",
      "Inserted Edinburgh, Scotland into city collection\n",
      "Inserted Glasgow, Scotland into city collection\n",
      "Inserted Isle of Skye, Scotland into city collection\n",
      "Inserted Oban, Mull & Iona, Scotland into city collection\n",
      "Inserted Scottish Highlands, Scotland into city collection\n",
      "Inserted St. Andrews, Scotland into city collection\n",
      "Completed scrapping Scotland\n",
      "Inserted Slovakia into country collection\n",
      "Inserted Bratislava, Slovakia into city collection\n",
      "Completed scrapping Slovakia\n",
      "Inserted Slovenia into country collection\n",
      "Inserted Julian Alps, Slovenia into city collection\n",
      "Inserted Lake Bled, Slovenia into city collection\n",
      "Inserted Ljubljana, Slovenia into city collection\n",
      "Completed scrapping Slovenia\n",
      "Inserted Spain into country collection\n",
      "Inserted Andalucía, Spain into city collection\n",
      "Inserted Barcelona, Spain into city collection\n",
      "Inserted Camino de Santiago, Spain into city collection\n",
      "Inserted Costa del Sol, Spain into city collection\n",
      "Inserted Córdoba, Spain into city collection\n",
      "Inserted Granada, Spain into city collection\n",
      "Inserted Madrid, Spain into city collection\n",
      "Inserted Pamplona, Spain into city collection\n",
      "Inserted Salamanca, Spain into city collection\n",
      "Inserted San Sebastián, Spain into city collection\n",
      "Inserted Santiago de Compostela, Spain into city collection\n",
      "Inserted Sevilla, Spain into city collection\n",
      "Inserted Spanish Basque Country, Spain into city collection\n",
      "Inserted Toledo, Spain into city collection\n",
      "Inserted White Hill Towns, Spain into city collection\n",
      "Completed scrapping Spain\n",
      "Inserted Sweden into country collection\n",
      "Inserted Kalmar, Sweden into city collection\n",
      "Inserted Stockholm, Sweden into city collection\n",
      "Completed scrapping Sweden\n",
      "Inserted Switzerland into country collection\n",
      "Inserted Appenzell, Switzerland into city collection\n",
      "Inserted Bern, Switzerland into city collection\n",
      "Inserted Berner Oberland, Switzerland into city collection\n",
      "Inserted Gimmelwald, Switzerland into city collection\n",
      "Inserted Lake Geneva & French Switzerland, Switzerland into city collection\n",
      "Inserted Luzern, Switzerland into city collection\n",
      "Inserted Zermatt, Switzerland into city collection\n",
      "Inserted Zürich, Switzerland into city collection\n",
      "Completed scrapping Switzerland\n",
      "Inserted Turkey into country collection\n",
      "Inserted Ephesus, Turkey into city collection\n",
      "Inserted Istanbul, Turkey into city collection\n",
      "Completed scrapping Turkey\n",
      "Inserted Wales into country collection\n",
      "Inserted North Wales, Wales into city collection\n",
      "Inserted South Wales, Wales into city collection\n",
      "Completed scrapping Wales\n"
     ]
    }
   ],
   "source": [
    "for country in country_urls:\n",
    "    collect_all_data(browser, country, country_collection, city_collection)"
   ]
  },
  {
   "cell_type": "markdown",
   "metadata": {},
   "source": [
    "Take the MongoDB collection and turn in into a list of dictionaries for the countries."
   ]
  },
  {
   "cell_type": "code",
   "execution_count": 15,
   "metadata": {},
   "outputs": [
    {
     "data": {
      "text/plain": [
       "{'_id': ObjectId('5d1106db2f3f9bdaae0a50ca'),\n",
       " 'country': 'Austria',\n",
       " 'country_summary': \"Small, landlocked Austria offers alpine scenery, world-class museums, cobbled quaintness, and Wiener schnitzel. Unlike Germany, its industrious neighbor to the northwest, Austria is content to bask in its good living and elegant, opulent past as the former head of one of Europe's grandest empires. Austrians tend to be relaxed, gregarious people who love the outdoors as much as a good cup of coffee in a café.\"}"
      ]
     },
     "execution_count": 15,
     "metadata": {},
     "output_type": "execute_result"
    }
   ],
   "source": [
    "country_dicts = [x for x in country_collection.find()]\n",
    "country_dicts[0]"
   ]
  },
  {
   "cell_type": "markdown",
   "metadata": {},
   "source": [
    "Because I scrapped the same countries a few times while I figured the bugs in my system, I want to make sure that I have each country only once. For example, I knew that there were only 31 countries but I have 55 entries in the `country_collection`. After cleaning, I have 31 as expected."
   ]
  },
  {
   "cell_type": "code",
   "execution_count": 12,
   "metadata": {},
   "outputs": [
    {
     "data": {
      "text/plain": [
       "55"
      ]
     },
     "execution_count": 12,
     "metadata": {},
     "output_type": "execute_result"
    }
   ],
   "source": [
    "len(country_dicts)"
   ]
  },
  {
   "cell_type": "code",
   "execution_count": 13,
   "metadata": {},
   "outputs": [
    {
     "data": {
      "text/html": [
       "<div>\n",
       "<style scoped>\n",
       "    .dataframe tbody tr th:only-of-type {\n",
       "        vertical-align: middle;\n",
       "    }\n",
       "\n",
       "    .dataframe tbody tr th {\n",
       "        vertical-align: top;\n",
       "    }\n",
       "\n",
       "    .dataframe thead th {\n",
       "        text-align: right;\n",
       "    }\n",
       "</style>\n",
       "<table border=\"1\" class=\"dataframe\">\n",
       "  <thead>\n",
       "    <tr style=\"text-align: right;\">\n",
       "      <th></th>\n",
       "      <th>country</th>\n",
       "      <th>country_summary</th>\n",
       "    </tr>\n",
       "  </thead>\n",
       "  <tbody>\n",
       "    <tr>\n",
       "      <th>0</th>\n",
       "      <td>Austria</td>\n",
       "      <td>Small, landlocked Austria offers alpine scener...</td>\n",
       "    </tr>\n",
       "    <tr>\n",
       "      <th>1</th>\n",
       "      <td>Belgium</td>\n",
       "      <td>Belgium falls through the cracks. Wedged betwe...</td>\n",
       "    </tr>\n",
       "    <tr>\n",
       "      <th>2</th>\n",
       "      <td>Bosnia-Herzegovina</td>\n",
       "      <td>Apart from the tragic way it separated from Yu...</td>\n",
       "    </tr>\n",
       "    <tr>\n",
       "      <th>3</th>\n",
       "      <td>Bulgaria</td>\n",
       "      <td>Endearing, surprising Bulgaria is a rewarding ...</td>\n",
       "    </tr>\n",
       "    <tr>\n",
       "      <th>4</th>\n",
       "      <td>Croatia</td>\n",
       "      <td>With thousands of miles of seafront and more t...</td>\n",
       "    </tr>\n",
       "  </tbody>\n",
       "</table>\n",
       "</div>"
      ],
      "text/plain": [
       "              country                                    country_summary\n",
       "0             Austria  Small, landlocked Austria offers alpine scener...\n",
       "1             Belgium  Belgium falls through the cracks. Wedged betwe...\n",
       "2  Bosnia-Herzegovina  Apart from the tragic way it separated from Yu...\n",
       "3            Bulgaria  Endearing, surprising Bulgaria is a rewarding ...\n",
       "4             Croatia  With thousands of miles of seafront and more t..."
      ]
     },
     "execution_count": 13,
     "metadata": {},
     "output_type": "execute_result"
    }
   ],
   "source": [
    "country_df = pd.DataFrame(country_dicts)\n",
    "country_df.drop('_id', axis=1, inplace=True)\n",
    "country_df.drop_duplicates(inplace=True)\n",
    "country_df.head()"
   ]
  },
  {
   "cell_type": "code",
   "execution_count": 14,
   "metadata": {},
   "outputs": [
    {
     "data": {
      "text/plain": [
       "31"
      ]
     },
     "execution_count": 14,
     "metadata": {},
     "output_type": "execute_result"
    }
   ],
   "source": [
    "len(country_df)"
   ]
  },
  {
   "cell_type": "markdown",
   "metadata": {},
   "source": [
    "Saving the dataframe to a pickle file for use in other notebooks."
   ]
  },
  {
   "cell_type": "code",
   "execution_count": 29,
   "metadata": {},
   "outputs": [],
   "source": [
    "#pickle.dump(country_df, open('data/countries.pkl', 'wb'))"
   ]
  },
  {
   "cell_type": "markdown",
   "metadata": {},
   "source": [
    "Similar to the countries, convert `city_collection` to a list of dictionaries, drop the duplicate cities (from 232 to 213) and save to a pickle file for other notebooks."
   ]
  },
  {
   "cell_type": "code",
   "execution_count": 16,
   "metadata": {},
   "outputs": [
    {
     "data": {
      "text/plain": [
       "{'_id': ObjectId('5d110b165c4fbe2cc8624dfd'),\n",
       " 'city': 'Danube Valley',\n",
       " 'country': 'Austria',\n",
       " 'city_summary': \"The Danube is at its romantic best just west of Vienna. Mix a cruise with a bike ride through the Danube's Wachau Valley, lined with ruined castles, beautiful abbeys (including the glorious Melk Abbey), small towns, and vineyard upon vineyard. Much of the valley has a warm fairy-tale glow, but a trip here isn't complete without the chilling contrast of a visit to the Mauthausen concentration camp memorial.\"}"
      ]
     },
     "execution_count": 16,
     "metadata": {},
     "output_type": "execute_result"
    }
   ],
   "source": [
    "city_dicts = [x for x in city_collection.find()]\n",
    "city_dicts[0]"
   ]
  },
  {
   "cell_type": "code",
   "execution_count": 16,
   "metadata": {},
   "outputs": [
    {
     "data": {
      "text/plain": [
       "232"
      ]
     },
     "execution_count": 16,
     "metadata": {},
     "output_type": "execute_result"
    }
   ],
   "source": [
    "len(city_dicts)"
   ]
  },
  {
   "cell_type": "code",
   "execution_count": 17,
   "metadata": {},
   "outputs": [
    {
     "data": {
      "text/html": [
       "<div>\n",
       "<style scoped>\n",
       "    .dataframe tbody tr th:only-of-type {\n",
       "        vertical-align: middle;\n",
       "    }\n",
       "\n",
       "    .dataframe tbody tr th {\n",
       "        vertical-align: top;\n",
       "    }\n",
       "\n",
       "    .dataframe thead th {\n",
       "        text-align: right;\n",
       "    }\n",
       "</style>\n",
       "<table border=\"1\" class=\"dataframe\">\n",
       "  <thead>\n",
       "    <tr style=\"text-align: right;\">\n",
       "      <th></th>\n",
       "      <th>city</th>\n",
       "      <th>city_summary</th>\n",
       "      <th>country</th>\n",
       "    </tr>\n",
       "  </thead>\n",
       "  <tbody>\n",
       "    <tr>\n",
       "      <th>0</th>\n",
       "      <td>Danube Valley</td>\n",
       "      <td>The Danube is at its romantic best just west o...</td>\n",
       "      <td>Austria</td>\n",
       "    </tr>\n",
       "    <tr>\n",
       "      <th>1</th>\n",
       "      <td>Hallstatt</td>\n",
       "      <td>Lovable Hallstatt is a tiny town bullied onto ...</td>\n",
       "      <td>Austria</td>\n",
       "    </tr>\n",
       "    <tr>\n",
       "      <th>2</th>\n",
       "      <td>Salzburg</td>\n",
       "      <td>Thanks to its charmingly preserved old town, s...</td>\n",
       "      <td>Austria</td>\n",
       "    </tr>\n",
       "    <tr>\n",
       "      <th>3</th>\n",
       "      <td>Tirol</td>\n",
       "      <td>Mountainous Tirol — in Austria's western panha...</td>\n",
       "      <td>Austria</td>\n",
       "    </tr>\n",
       "    <tr>\n",
       "      <th>4</th>\n",
       "      <td>Vienna</td>\n",
       "      <td>Vienna is the capital of Austria, the cradle o...</td>\n",
       "      <td>Austria</td>\n",
       "    </tr>\n",
       "  </tbody>\n",
       "</table>\n",
       "</div>"
      ],
      "text/plain": [
       "            city                                       city_summary  country\n",
       "0  Danube Valley  The Danube is at its romantic best just west o...  Austria\n",
       "1      Hallstatt  Lovable Hallstatt is a tiny town bullied onto ...  Austria\n",
       "2       Salzburg  Thanks to its charmingly preserved old town, s...  Austria\n",
       "3          Tirol  Mountainous Tirol — in Austria's western panha...  Austria\n",
       "4         Vienna  Vienna is the capital of Austria, the cradle o...  Austria"
      ]
     },
     "execution_count": 17,
     "metadata": {},
     "output_type": "execute_result"
    }
   ],
   "source": [
    "city_df = pd.DataFrame(city_dicts)\n",
    "city_df.drop('_id', axis=1, inplace=True)\n",
    "city_df.drop_duplicates(inplace=True)\n",
    "city_df.head()"
   ]
  },
  {
   "cell_type": "code",
   "execution_count": 18,
   "metadata": {},
   "outputs": [
    {
     "data": {
      "text/plain": [
       "213"
      ]
     },
     "execution_count": 18,
     "metadata": {},
     "output_type": "execute_result"
    }
   ],
   "source": [
    "len(city_df)"
   ]
  },
  {
   "cell_type": "code",
   "execution_count": 14,
   "metadata": {},
   "outputs": [],
   "source": [
    "for country_url in country_urls:\n",
    "    get_city_photos(browser, city_df, country_url)"
   ]
  },
  {
   "cell_type": "code",
   "execution_count": 70,
   "metadata": {},
   "outputs": [
    {
     "data": {
      "text/html": [
       "<div>\n",
       "<style scoped>\n",
       "    .dataframe tbody tr th:only-of-type {\n",
       "        vertical-align: middle;\n",
       "    }\n",
       "\n",
       "    .dataframe tbody tr th {\n",
       "        vertical-align: top;\n",
       "    }\n",
       "\n",
       "    .dataframe thead th {\n",
       "        text-align: right;\n",
       "    }\n",
       "</style>\n",
       "<table border=\"1\" class=\"dataframe\">\n",
       "  <thead>\n",
       "    <tr style=\"text-align: right;\">\n",
       "      <th></th>\n",
       "      <th>city</th>\n",
       "      <th>city_summary</th>\n",
       "      <th>country</th>\n",
       "      <th>url</th>\n",
       "    </tr>\n",
       "  </thead>\n",
       "  <tbody>\n",
       "    <tr>\n",
       "      <th>29</th>\n",
       "      <td>Sarajevo</td>\n",
       "      <td>Spectacularly set in a mountain valley blanket...</td>\n",
       "      <td>Bosnia-Herzegovina</td>\n",
       "      <td>https://www.ricksteves.com/europe/bosnia-herze...</td>\n",
       "    </tr>\n",
       "  </tbody>\n",
       "</table>\n",
       "</div>"
      ],
      "text/plain": [
       "        city                                       city_summary  \\\n",
       "29  Sarajevo  Spectacularly set in a mountain valley blanket...   \n",
       "\n",
       "               country                                                url  \n",
       "29  Bosnia-Herzegovina  https://www.ricksteves.com/europe/bosnia-herze...  "
      ]
     },
     "execution_count": 70,
     "metadata": {},
     "output_type": "execute_result"
    }
   ],
   "source": [
    "city_df.head(10)"
   ]
  },
  {
   "cell_type": "code",
   "execution_count": 4,
   "metadata": {},
   "outputs": [
    {
     "data": {
      "text/html": [
       "<div>\n",
       "<style scoped>\n",
       "    .dataframe tbody tr th:only-of-type {\n",
       "        vertical-align: middle;\n",
       "    }\n",
       "\n",
       "    .dataframe tbody tr th {\n",
       "        vertical-align: top;\n",
       "    }\n",
       "\n",
       "    .dataframe thead th {\n",
       "        text-align: right;\n",
       "    }\n",
       "</style>\n",
       "<table border=\"1\" class=\"dataframe\">\n",
       "  <thead>\n",
       "    <tr style=\"text-align: right;\">\n",
       "      <th></th>\n",
       "      <th>city</th>\n",
       "      <th>city_summary</th>\n",
       "      <th>country</th>\n",
       "    </tr>\n",
       "  </thead>\n",
       "  <tbody>\n",
       "    <tr>\n",
       "      <th>0</th>\n",
       "      <td>Danube Valley</td>\n",
       "      <td>The Danube is at its romantic best just west o...</td>\n",
       "      <td>Austria</td>\n",
       "    </tr>\n",
       "    <tr>\n",
       "      <th>1</th>\n",
       "      <td>Hallstatt</td>\n",
       "      <td>Lovable Hallstatt is a tiny town bullied onto ...</td>\n",
       "      <td>Austria</td>\n",
       "    </tr>\n",
       "    <tr>\n",
       "      <th>2</th>\n",
       "      <td>Salzburg</td>\n",
       "      <td>Thanks to its charmingly preserved old town, s...</td>\n",
       "      <td>Austria</td>\n",
       "    </tr>\n",
       "    <tr>\n",
       "      <th>3</th>\n",
       "      <td>Tirol</td>\n",
       "      <td>Mountainous Tirol — in Austria's western panha...</td>\n",
       "      <td>Austria</td>\n",
       "    </tr>\n",
       "    <tr>\n",
       "      <th>4</th>\n",
       "      <td>Vienna</td>\n",
       "      <td>Vienna is the capital of Austria, the cradle o...</td>\n",
       "      <td>Austria</td>\n",
       "    </tr>\n",
       "  </tbody>\n",
       "</table>\n",
       "</div>"
      ],
      "text/plain": [
       "            city                                       city_summary  country\n",
       "0  Danube Valley  The Danube is at its romantic best just west o...  Austria\n",
       "1      Hallstatt  Lovable Hallstatt is a tiny town bullied onto ...  Austria\n",
       "2       Salzburg  Thanks to its charmingly preserved old town, s...  Austria\n",
       "3          Tirol  Mountainous Tirol — in Austria's western panha...  Austria\n",
       "4         Vienna  Vienna is the capital of Austria, the cradle o...  Austria"
      ]
     },
     "execution_count": 4,
     "metadata": {},
     "output_type": "execute_result"
    }
   ],
   "source": [
    "#pickle.dump(city_df, open('data/cities.pkl', 'wb'))\n",
    "city_df = pickle.load(open('data/cities.pkl', 'rb'))"
   ]
  },
  {
   "cell_type": "markdown",
   "metadata": {},
   "source": [
    "As ricksteves.com has only short 1-2 paragraph descriptions of each location, I wanted to get a larger set of data. I scraped wikipedia for an additional summary."
   ]
  },
  {
   "cell_type": "code",
   "execution_count": 11,
   "metadata": {},
   "outputs": [],
   "source": [
    "city_list = list(zip(city_df['city'], city_df['country']))"
   ]
  },
  {
   "cell_type": "code",
   "execution_count": 12,
   "metadata": {},
   "outputs": [
    {
     "data": {
      "text/plain": [
       "[('Danube Valley', 'Austria'),\n",
       " ('Hallstatt', 'Austria'),\n",
       " ('Salzburg', 'Austria'),\n",
       " ('Tirol', 'Austria'),\n",
       " ('Vienna', 'Austria')]"
      ]
     },
     "execution_count": 12,
     "metadata": {},
     "output_type": "execute_result"
    }
   ],
   "source": [
    "city_list[0:5]"
   ]
  },
  {
   "cell_type": "code",
   "execution_count": 21,
   "metadata": {},
   "outputs": [
    {
     "ename": "KeyboardInterrupt",
     "evalue": "",
     "output_type": "error",
     "traceback": [
      "\u001b[0;31m---------------------------------------------------------------------------\u001b[0m",
      "\u001b[0;31mKeyboardInterrupt\u001b[0m                         Traceback (most recent call last)",
      "\u001b[0;32m<ipython-input-21-8c92e12cd784>\u001b[0m in \u001b[0;36m<module>\u001b[0;34m()\u001b[0m\n\u001b[1;32m      2\u001b[0m     \u001b[0mcity\u001b[0m \u001b[0;34m=\u001b[0m \u001b[0mplace\u001b[0m\u001b[0;34m[\u001b[0m\u001b[0;36m0\u001b[0m\u001b[0;34m]\u001b[0m\u001b[0;34m\u001b[0m\u001b[0m\n\u001b[1;32m      3\u001b[0m     \u001b[0mget_wiki_description\u001b[0m\u001b[0;34m(\u001b[0m\u001b[0mbrowser\u001b[0m\u001b[0;34m,\u001b[0m \u001b[0mcity\u001b[0m\u001b[0;34m,\u001b[0m \u001b[0mwiki_collection\u001b[0m\u001b[0;34m)\u001b[0m\u001b[0;34m\u001b[0m\u001b[0m\n\u001b[0;32m----> 4\u001b[0;31m     \u001b[0mtime\u001b[0m\u001b[0;34m.\u001b[0m\u001b[0msleep\u001b[0m\u001b[0;34m(\u001b[0m\u001b[0mnp\u001b[0m\u001b[0;34m.\u001b[0m\u001b[0mrandom\u001b[0m\u001b[0;34m.\u001b[0m\u001b[0mrandint\u001b[0m\u001b[0;34m(\u001b[0m\u001b[0;36m20\u001b[0m\u001b[0;34m,\u001b[0m \u001b[0;36m120\u001b[0m\u001b[0;34m)\u001b[0m\u001b[0;34m)\u001b[0m\u001b[0;34m\u001b[0m\u001b[0m\n\u001b[0m",
      "\u001b[0;31mKeyboardInterrupt\u001b[0m: "
     ]
    }
   ],
   "source": [
    "for place in city_list:\n",
    "    city = place[0]\n",
    "    get_wiki_description(browser, city, wiki_collection)\n",
    "    time.sleep(np.random.randint(20, 120))"
   ]
  },
  {
   "cell_type": "code",
   "execution_count": 22,
   "metadata": {},
   "outputs": [
    {
     "data": {
      "text/plain": [
       "{'_id': ObjectId('5d1195dc0d668bb1db943136'),\n",
       " 'city': 'Vienna',\n",
       " 'text': '\\nVienna (/viˈɛnə/ (listen);[11][12] German: Wien [viːn] (listen)) is the federal capital, largest city and one of nine states of Austria. Vienna is Austria\\'s primate city, with a population of about 1.9 million[3] (2.6 million within the metropolitan area,[6] nearly one third of the country\\'s population), and its cultural, economic, and political centre. It is the 7th-largest city by population within city limits in the European Union. Until the beginning of the 20th century, it was the largest German-speaking city in the world, and before the splitting of the Austro-Hungarian Empire in World War I, the city had 2 million inhabitants.[13] Today, it has the second largest number of German speakers after Berlin.[14][15] Vienna is host to many major international organizations, including the United Nations and OPEC. The city is located in the eastern part of Austria and is close to the borders of the Czech Republic, Slovakia, and Hungary. These regions work together in a European Centrope border region. Along with nearby Bratislava, Vienna forms a metropolitan region with 3 million inhabitants.[citation needed] In 2001, the city centre was designated a UNESCO World Heritage Site. In July 2017 it was moved to the list of World Heritage in Danger.[16]\\nApart from being regarded as the City of Music[17] because of its musical legacy, Vienna is also said to be \"The City of Dreams\" because it was home to the world\\'s first psychoanalyst – Sigmund Freud.[18] The city\\'s roots lie in early Celtic and Roman settlements that transformed into a Medieval and Baroque city, and then the capital of the Austro-Hungarian Empire. It is well known for having played an essential role as a leading European music centre, from the great age of Viennese Classicism through the early part of the 20th century. The historic centre of Vienna is rich in architectural ensembles, including Baroque castles and gardens, and the late-19th-century Ringstraße lined with grand buildings, monuments and parks.[19]\\nVienna is known for its high quality of life. In a 2005 study of 127 world cities, the Economist Intelligence Unit ranked the city first (in a tie with Vancouver and San Francisco) for the world\\'s most liveable cities. Between 2011 and 2015, Vienna was ranked second, behind Melbourne.[20][21][22][23][24] In 2018, it replaced Melbourne as the number one spot.[25] For ten consecutive years (2009–2019), the human-resource-consulting firm Mercer ranked Vienna first in its annual \"Quality of Living\" survey of hundreds of cities around the world.[26][27][28][29][30][31][32][33] Monocle\\'s 2015 \"Quality of Life Survey\" ranked Vienna second on a list of the top 25 cities in the world \"to make a base within.\"[34][35][36][37][38]\\nThe UN-Habitat classified Vienna as the most prosperous city in the world in 2012/2013.[39] The city was ranked 1st globally for its culture of innovation in 2007 and 2008, and sixth globally (out of 256 cities) in the 2014 Innovation Cities Index, which analyzed 162 indicators in covering three areas: culture, infrastructure, and markets.[40][41][42] Vienna regularly hosts urban planning conferences and is often used as a case study by urban planners.[43]\\nBetween 2005 and 2010, Vienna was the world\\'s number-one destination for international congresses and conventions.[44] It attracts over 6.8 million tourists a year.[45]\\nThe English name Vienna is borrowed from the homonymous Italian version of the city\\'s name or the French Vienne. The etymology of the city\\'s name is still subject to scholarly dispute. Some claim that the name comes from Vedunia, meaning \"forest stream\", which subsequently produced the Old High German Uuenia (Wenia in modern writing), the New High German Wien and its dialectal variant Wean.[46]\\nOthers believe that the name comes from the Roman settlement name of Celtic extraction Vindobona, probably meaning \"fair village, white settlement\" from Celtic roots, vindo-, meaning \"bright\" or \"fair\" – as in the Irish fionn and the Welsh gwyn –, and -bona \"village, settlement\".[47] The Celtic word Vindos may reflect a widespread prehistorical cult of Vindos, a Celtic God. A variant of this Celtic name could be preserved in the Czech, Slovak and Polish names of the city (Vídeň, Viedeň and Wiedeń respectively) and in that of the city\\'s district Wieden.[48]\\nThe name of the city in Hungarian (Bécs), Serbo-Croatian (Beč) and Ottoman Turkish (Beç) has a different, probably Slavonic origin, and originally referred to an Avar fort in the area.[49] Slovene-speakers call the city Dunaj, which in other Central European Slavic languages means the Danube River, on which the city stands.\\nEvidence has been found[by whom?] of continuous habitation in the Vienna area since 500 BC, when Celts settled the site on the Danube River.[citation needed] In 15 BC the Romans fortified the frontier city they called Vindobona to guard the empire against Germanic tribes to the north.\\nClose ties with other Celtic peoples continued through the ages. The Irish monk Saint Colman (or Koloman, Irish Colmán, derived from colm \"dove\") is buried in Melk Abbey and Saint Fergil (Virgil the Geometer) served as Bishop of Salzburg for forty years. Irish Benedictines founded twelfth-century monastic settlements. Evidence of these ties persists in the form of Vienna\\'s great Schottenstift monastery (Scots Abbey), once home to many Irish monks.\\nIn 976 Leopold I of Babenberg became count of the Eastern March, a 60-mile district centering on the Danube on the eastern frontier of Bavaria. This initial district grew into the duchy of Austria. Each succeeding Babenberg ruler expanded the march east along the Danube, eventually encompassing Vienna and the lands immediately east. In 1145 Duke Henry II Jasomirgott moved the Babenberg family residence from Klosterneuburg in Lower Austria to Vienna. From that time, Vienna remained the center of the Babenberg dynasty.[50]\\nIn 1440 Vienna became the resident city of the Habsburg dynasty. It eventually grew to become the de facto capital of the Holy Roman Empire (800–1806) in 1437 and a cultural centre for arts and science, music and fine cuisine. Hungary occupied the city between 1485 and 1490.\\nIn the 16th and 17th centuries Christian forces stopped Ottoman armies twice outside Vienna (see Siege of Vienna, 1529 and Battle of Vienna, 1683). A plague epidemic ravaged Vienna in 1679, killing nearly a third of its population.[51]\\nIn 1804, during the Napoleonic Wars, Vienna became the capital of the newly-formed Austrian Empire. The city continued to play a major role in European and world politics, including hosting the Congress of Vienna in 1814/15. After the Austro-Hungarian Compromise of 1867, Vienna remained the capital of what became the Austro-Hungarian Empire. The city functioned as a centre of classical music, for which the title of the First Viennese School (Haydn/Mozart/Beethoven) is sometimes applied.\\nDuring the latter half of the 19th century, Vienna developed what had previously been the bastions and glacis into the Ringstraße, a new boulevard surrounding the historical town and a major prestige project. Former suburbs were incorporated, and the city of Vienna grew dramatically. In 1918, after World War I, Vienna became capital of the Republic of German-Austria, and then in 1919 of the First Republic of Austria.\\nFrom the late-19th century to 1938 the city remained a centre of high culture and of modernism. A world capital of music, Vienna played host to composers such as Brahms, Bruckner, Mahler and Richard Strauss. The city\\'s cultural contributions in the first half of the 20th century included, among many, the Vienna Secession movement in art, psychoanalysis, the Second Viennese School (Schoenberg and co.), the architecture of Adolf Loos and the philosophy of Ludwig Wittgenstein and the Vienna Circle. In 1913 Adolf Hitler, Leon Trotsky, Joseph Tito, Sigmund Freud and Joseph Stalin all lived within a few miles of each other in central Vienna, some of them becoming regulars at the same coffeehouses.[52] Austrians came to regard Vienna as a centre of socialist politics, sometimes referred to as \"Red Vienna\". In the Austrian Civil War of 1934 Chancellor Engelbert Dollfuss sent the Austrian Army to shell civilian housing occupied by the socialist militia.\\nIn 1938, after a triumphant entry into Austria, Austrian-born Adolf Hitler spoke to the Austrian Germans from the balcony of the Neue Burg, a part of the Hofburg at the Heldenplatz. Viennese Jews were looted, deported and murdered.[53][54] Between 1938 (after the Anschluss) and the end of the Second World War, Vienna lost its status as a capital to Berlin as Austria ceased to exist and became a part of Nazi Germany. It was not until 1955 that Austria regained full sovereignty.\\nOn 2 April 1945, the Soviets launched the Vienna Offensive against the Germans holding the city and besieged it. British and American air raids and artillery duels between the SS and Wehrmacht and the Red Army crippled infrastructure, such as tram services and water and power distribution, and destroyed or damaged thousands of public and private buildings. Vienna fell eleven days later. Austria was separated from Germany, and Vienna was restored as the republic\\'s capital city, but the Soviet hold on the city remained until 1955.\\nAfter the war, Vienna was part of Soviet-occupied Eastern Austria until September 1945. As in Berlin, Vienna in September 1945 was divided into sectors by the four powers: the US, the UK, France, and the Soviet Union and supervised by an Allied Commission. The four-power occupation of Vienna differed in one key respect from that of Berlin: the central area of the city, known as the first district, constituted an international zone in which the four powers alternated control on a monthly basis. The control was policed by the four powers on a de facto day-to-day basis, the famous \"four soldiers in a jeep\" method.[55] The Berlin Blockade of 1948 raised Western concerns that the Soviets might repeat the blockade in Vienna. The matter was raised in the UK House of Commons by MP Anthony Nutting, who asked: \"What plans have the Government for dealing with a similar situation in Vienna? Vienna is in exactly a similar position to Berlin.\"[56]\\nThere was a lack of airfields in the Western sectors, and authorities drafted contingency plans to deal with such a blockade. Plans included the laying down of metal landing mats at Schönbrunn. The Soviets did not blockade the city. The Potsdam Agreement included written rights of land access to the western sectors, whereas no such written guarantees had covered the western sectors of Berlin. Also, there was no precipitating event to cause a blockade in Vienna. (In Berlin, the Western powers had introduced a new currency in early 1948 to economically freeze out the Soviets.) During the 10 years of the four-power occupation, Vienna became a hotbed for international espionage between the Western and Eastern blocs. In the wake of the Berlin Blockade, the Cold War in Vienna took on a different dynamic. While accepting that Germany and Berlin would be divided, the Soviets had decided against allowing the same state of affairs to arise in Austria and Vienna. Here, the Soviet forces controlled districts 2, 4, 10, 20, 21, and 22 and all areas incorporated into Vienna in 1938.\\nThey put up barbed wire fences around the perimeter of West Berlin in 1953, but not in Vienna. By 1955, the Soviets, by signing the Austrian State Treaty, agreed to relinquish their occupation zones in Eastern Austria as well as their sector in Vienna. In exchange they required that Austria declare its permanent neutrality after the allied powers had left the country. Thus they ensured that Austria would not be a member of NATO and that NATO forces would therefore not have direct communications between Italy and West Germany.\\nThe atmosphere of four-power Vienna is the background for Graham Greene\\'s screenplay for the film The Third Man (1949). Later he adapted the screenplay as a novel and published it. Occupied Vienna is also depicted in the 1991 Philip Kerr novel, A German Requiem.\\nThe four-power control of Vienna lasted until the Austrian State Treaty was signed in May 1955. That year, after years of reconstruction and restoration, the State Opera and the Burgtheater, both on the Ringstraße, reopened to the public. The Soviet Union signed the State Treaty only after having been provided with a political guarantee by the federal government to declare Austria\\'s neutrality after the withdrawal of the allied troops. This law of neutrality, passed in late October 1955 (and not the State Treaty itself), ensured that modern Austria would align with neither NATO nor the Soviet bloc, and is considered one of the reasons for Austria\\'s delayed entry into the European Union in 1995.\\nIn the 1970s, Austrian Chancellor Bruno Kreisky inaugurated the Vienna International Centre, a new area of the city created to host international institutions. Vienna has regained much of its former international stature by hosting international organizations, such as the United Nations (United Nations Industrial Development Organization, United Nations Office at Vienna and United Nations Office on Drugs and Crime), the Preparatory Commission for the Comprehensive Nuclear-Test-Ban Treaty Organization, the International Atomic Energy Agency, the Organization of Petroleum Exporting Countries, and the Organization for Security and Cooperation in Europe.\\nBecause of the industrialization and migration from other parts of the Empire, the population of Vienna increased sharply during its time as the capital of Austria-Hungary (1867–1918). In 1910, Vienna had more than two million inhabitants, and was the fourth largest city in Europe after London, Paris and Berlin.[58] Around the start of the 20th century, Vienna was the city with the second-largest Czech population in the world (after Prague).[59] After World War I, many Czechs and Hungarians returned to their ancestral countries, resulting in a decline in the Viennese population. After World War II, the Soviets used force to repatriate key workers of Czech, Slovak and Hungarian origins to return to their ethnic homelands to further the Soviet bloc economy.\\nUnder the Nazi regime, 65,000 Jewish people were deported and murdered in concentration camps by Nazi forces; approximately 130,000 fled.[60]\\nBy 2001, 16% of people living in Austria had nationalities other than Austrian, nearly half of whom were from former Yugoslavia;[61][62] the next most numerous nationalities in Vienna were Turks (39,000; 2.5%), Poles (13,600; 0.9%) and Germans (12,700; 0.8%).[63]\\nAs of 2012, an official report from Statistics Austria showed that more than 660,000 (38.8%) of the Viennese population have full or partial migrant background, mostly from Ex-Yugoslavia, Turkey, Germany, Poland, Romania and Hungary.[3][4]\\nFrom 2005 to 2015 the city\\'s population grew by 10.1%.[64] According to UN-Habitat, Vienna could be the fastest growing city out of 17 European metropolitan areas until 2025 with an increase of 4.65% of its population, compared to 2010.[65]\\nAccording to the 2001 census, 49.2% of Viennese were Roman Catholics, while 25.7% were of no religion, 7.8% were Muslim, 6.0% were members of an Orthodox denomination, 4.7% were Protestant (mostly Lutheran), 0.5% were Jewish and 6.3% were either of other religions or did not reply.[63] By 2011 the shares of religious bodies had significantly changed:[66]\\nVienna is the seat of the Metropolitan Roman Catholic Archdiocese of Vienna, in which is also vested the exempt Ordinariate for Byzantine-rite Catholics in Austria; its current Archbishop is Cardinal Christoph Schönborn. Many Roman Catholic churches in central Vienna feature performances of religious or other music, including masses sung to classical music and organ. Some of Vienna\\'s most significant historical buildings are Roman Catholic churches, including the St. Stephen\\'s Cathedral (Stephansdom), Karlskirche, Peterskirche and the Votivkirche. On the banks of the Danube, there is a Buddhist Peace Pagoda, built in 1983 by the monks and nuns of Nipponzan Myohoji.\\nVienna is located in northeastern Austria, at the easternmost extension of the Alps in the Vienna Basin. The earliest settlement, at the location of today\\'s inner city, was south of the meandering Danube while the city now spans both sides of the river. Elevation ranges from 151 to 542 m (495 to 1,778 ft). The city has a total area of 414.65 square kilometres (160.1 sq mi), making it the largest city in Austria by area.\\nVienna has an oceanic climate bordering a humid subtropical climate (hovering just below 22 °C in July and August), and features, according to the Köppen classification, a Cfb (oceanic) -climate. The city has warm to hot summers, however with periodical precipitations that can reach its most in June and July and average high temperatures of 21 to 27 °C (70 to 81 °F), with a record maximum exceeding 38 °C (100 °F) and a record low of around 7 °C (45 °F). Winters are relatively dry and cold with average temperatures at about freezing point. Spring is variable and autumn usually cold, with possible snowfalls already in November. Precipitation is generally moderate throughout the year, averaging 550 mm (21.7 in) annually, with considerable local variations, the Vienna Woods region in the west being the wettest part (700 to 800 mm (28 to 31 in) annually) and the flat plains in the east being the driest part (500 to 550 mm (20 to 22 in) annually). Snow in the winter is common, even if rare compared to Western and Southern regions in Austria.\\nVienna has been moved to the UNESCO world heritage in danger list in 2017. The main reason is that Vienna is planning on having high-rise development.[68] The city’s social democratic party will be constructing a 6500 square meter complex in 2019.[68] It will include a 66.3m meter high-tower which has reduced from 75 meter due to opposition.[68] The UNESCO believed that the project “fails to comply fully with previous committee decisions, notably concerning the height of new constructions, which will impact adversely the outstanding universal value of the site.” [68] UNESCO set the restriction for the height of the construction in the city center to be 43 meters.[68]\\nThe citizens of Vienna are also opposing the construction of the complex because they are afraid of losing the UNESCO status and also encourage future high-rise development.[68] The city officials replied that they will convince the WHC to maintain the UNESCO world heritage status and claimed that no further high-rise development are being planned.[68]\\nThe reason why UNESCO is strict on the height of the Construction is that high rise development will dramatically influence the visual integrity of Vienna.[69] The baroque palaces are highly sensitive to high-rise buildings.[69] Visual impact studies are being done in Vienna city center to assess the level of visual disturbance to visitors and how the changes influenced the city’s visual integrity.[69]\\nVienna is composed of 23 districts (Bezirke). Administrative district offices in Vienna (called Magistratische Bezirksämter) serve functions similar to those in the other Austrian states (called Bezirkshauptmannschaften), the officers being subject to the mayor of Vienna; with the notable exception of the police, which is under federal supervision.\\nDistrict residents in Vienna (Austrians as well as EU citizens with permanent residence here) elect a District Assembly (Bezirksvertretung). City hall has delegated maintenance budgets, e.g., for schools and parks, so that the districts are able to set priorities autonomously. Any decision of a district can be overridden by the city assembly (Gemeinderat) or the responsible city councillor (amtsführender Stadtrat).\\nThe heart and historical city of Vienna, a large part of today\\'s Innere Stadt, was a fortress surrounded by fields in order to defend itself from potential attackers. In 1850, Vienna with the consent of the emperor annexed 34 surrounding villages,[70] called Vorstädte, into the city limits (districts no. 2 to 8, after 1861 with the separation of Margareten from Wieden no. 2 to 9). Consequently, the walls were razed after 1857,[71] making it possible for the city centre to expand.\\nIn their place, a broad boulevard called the Ringstraße was built, along which imposing public and private buildings, monuments, and parks were created by the start of the 20th century. These buildings include the Rathaus (town hall), the Burgtheater, the University, the Parliament, the twin museums of natural history and fine art, and the Staatsoper. It is also the location of New Wing of the Hofburg, the former imperial palace, and the Imperial and Royal War Ministry finished in 1913. The mainly Gothic Stephansdom is located at the centre of the city, on Stephansplatz. The Imperial-Royal Government set up the Vienna City Renovation Fund (Wiener Stadterneuerungsfonds) and sold many building lots to private investors, thereby partly financing public construction works.\\nFrom 1850 to 1890, city limits in the West and the South mainly followed another wall called Linienwall at which a road toll called the Liniengeld was charged. Outside this wall from 1873 onwards a ring road called Gürtel was built. In 1890 it was decided to integrate 33 suburbs (called Vororte) beyond that wall into Vienna by 1 January 1892[72] and transform them into districts no. 11 to 19 (district no. 10 had been constituted in 1874); hence the Linienwall was torn down beginning in 1894.[73] In 1900, district no. 20, Brigittenau, was created by separating the area from the 2nd district.\\nFrom 1850 to 1904, Vienna had expanded only on the right bank of the Danube, following the main branch before the regulation of 1868–1875, i.e., the Old Danube of today. In 1904, the 21st district was created by integrating Floridsdorf, Kagran, Stadlau, Hirschstetten, Aspern and other villages on the left bank of the Danube into Vienna, in 1910 Strebersdorf followed. On 15 October 1938 the Nazis created Great Vienna with 26 districts by merging 97 towns and villages into Vienna, 80 of which were returned to surrounding Lower Austria in 1954.[72] Since then Vienna has 23 districts.\\nIndustries are located mostly in the southern and eastern districts. The Innere Stadt is situated away from the main flow of the Danube, but is bounded by the Donaukanal (\"Danube canal\"). Vienna\\'s second and twentieth districts are located between the Donaukanal and the Danube River. Across the Danube, where the Vienna International Centre is located (districts 21–22), and in the southern areas (district 23) are the newest parts of the city.\\nIn the twenty years before the First World War and until 1918, Viennese politics were shaped by the Christian Social Party. In particular, long-term mayor Karl Lueger was able to not apply the general voting rights for men introduced by and for the parliament of imperial Austria, the Reichsrat, in 1907, thereby excluding most of the working class from taking part in decisions. For Adolf Hitler, who spent some years in Vienna, Lueger was a teacher of how to use antisemitism in politics.\\nVienna is today considered the center of the Social Democratic Party (SPÖ). During the period of the First Republic (1918–1934), the Vienna Social Democrats undertook many social reforms. At that time, Vienna\\'s municipal policy was admired by Socialists throughout Europe, who therefore referred to the city as \"Red Vienna\" (Rotes Wien). In February 1934 troops of the Austrian federal government under Engelbert Dollfuss, who had closed down the first chamber of the federal parliament, the Nationalrat, in 1933, and paramilitary socialist organisations were engaged in the Austrian Civil War, which led to the ban of the Social Democratic party.\\nThe SPÖ has held the mayor\\'s office and control of the city council/parliament at every free election since 1919. The only break in this SPÖ dominance came between 1934 and 1945, when the Social Democratic Party was illegal, mayors were appointed by the austro-fascist and later by the Nazi authorities. The current mayor of Vienna is Michael Ludwig of the SPÖ.\\nThe city has enacted many social democratic policies. The Gemeindebauten are social housing assets that are well integrated into the city architecture outside the first or \"inner\" district. The low rents enable comfortable accommodation and good access to the city amenities. Many of the projects were built after the Second World War on vacant lots that were destroyed by bombing during the war. The city took particular pride in building them to a high standard.\\nSince Vienna obtained federal state (Bundesland) status of its own by the federal constitution of 1920, the city council also functions as the state parliament (Landtag), and the mayor (except 1934–1945) also doubles as the Landeshauptmann (governor/minister-president) of the state of Vienna. The Rathaus accommodates the offices of the mayor (de:Magistrat der Stadt Wien) and the state government (Landesregierung). The city is administered by a multitude of departments (Magistratsabteilungen), politically supervised by amtsführende Stadträte (members of the city government leading offices; according to the Vienna constitution opposition parties have the right to designate members of the city government not leading offices).\\nUnder the city constitution of 1920, municipal and state business must be kept separate. Hence, the city council and state parliament hold separate meetings, with separate presiding officers–the chairman of the city council or the president of the state Landtag–even though the two bodies\\' memberships are identical. When meeting as a city council, the deputies can only deal with the affairs of the city of Vienna; when meeting as a state parliament, they can only deal with the affairs of the state of Vienna.\\nIn the 1996 City Council election, the SPÖ lost its overall majority in the 100-seat chamber, winning 43 seats and 39.15% of the vote. The SPÖ had held an outright majority at every free municipal election since 1919. In 1996 the Freedom Party of Austria (FPÖ), which won 29 seats (up from 21 in 1991), beat the ÖVP into third place for the second time running. From 1996–2001, the SPÖ governed Vienna in a coalition with the ÖVP. In 2001 the SPÖ regained the overall majority with 52 seats and 46.91% of the vote; in October 2005 this majority was increased further to 55 seats (49.09%). In course of the 2010 city council elections the SPÖ lost their overall majority again and consequently forged a coalition with the Green Party – the first SPÖ/Green coalition in Austria.[74] This coalition was maintained following the 2015 election.\\nVienna is one of the wealthiest regions in the European Union: Its gross regional product of EUR 47,200 per capita constituted 25.7% of Austria\\'s GDP in 2013. It amounts to 159% of the EU average.[75] The city improved its position from 2012 on the ranking of the most economically powerful cities reaching number nine on the listing in 2015.[76][77]\\nWith a share of 85.5% in gross value added, the service sector is Vienna\\'s most important economic sector. Industry and commerce have a share of 14.5% in gross value added, the primary sector (agriculture) has a share of 0.07% and therefore plays a minor role in the local added value.[78] However, the cultivation and production of wines within the city borders have a high socio-cultural value. The most important business sectors are trade (14.7% of added value in Vienna), scientific and technological services, real estate and housing activities as well as manufacturing of goods. In 2012, Vienna\\'s contribution in Austria\\'s outgoing and incoming foreign direct investments was of about 60%, which demonstrates Vienna\\'s role as an international hub for domestic and foreign companies.[78]\\nSince the fall of the Iron Curtain in 1989, Vienna has expanded its position as gateway to Eastern Europe: 300 international companies have their Eastern European headquarters in Vienna and its environs. Among them are Hewlett Packard, Henkel, Baxalta and Siemens.[79] Companies in Vienna have extensive contacts and competences in business with Eastern Europe due to the city\\'s historical role as centre of the Habsburg Empire.[80] The number of international businesses in Vienna is still growing: In 2014 159 and in 2015 175 international firms established offices in Vienna.[81]\\nAltogether, approximately 8,300 new companies have been founded in Vienna every year since 2004.[82] The majority of these companies are operating in fields of industry-oriented services, wholesale trade as well as information and communications technologies and new media.[83] Vienna makes effort to establish itself as a start-up hub. Since 2012, the city hosts the annual Pioneers Festival, the largest start-up event in Central Europe with 2,500 international participants taking place at Hofburg Palace. Tech Cocktail, an online portal for the start-up scene, has ranked Vienna sixth among the top ten start-up cities worldwide.[84][85][86]\\nThe city of Vienna attaches major importance to science and research and focuses on creating a positive environment for research and development. In 2014, Vienna has accommodated 1,329 research facilities; 40,400 persons are employed in the R&D sector and 35% of Austria\\'s R&D expenses are invested in the city. With a research quota of 3.4% Vienna exceeds the Austrian average of 2.77% and has already met the EU target of 3.0% by 2020.[78] A major R&D sector in Vienna are life sciences with 378 biotech, pharma and medtech companies such as Johnson & Johnson, Siemens, Roche, Philips and Boehringer Ingelheim, with more than 21,000 employees. There are 25 public and private research institutions, among them the University of Natural Resources and Life Sciences (BOKU), the Austrian Institute of Technology and the Vienna Biocenter.[87]\\nThe Viennese sector for information and communication technologies is comparable in size with the sector in Helsinki, Milan or Munich and thus among Europe\\'s largest IT locations. In 2012 8,962 IT businesses with a workforce of 64,223 were located in the Vienna Region. The main products are instruments and appliances for measuring, testing and navigation as well as electronic components. More than ⅔ of the enterprises provide IT services. Among the biggest IT firms in Vienna are Kapsch, Beko Engineering & Informatics, air traffic control experts Frequentis, Cisco Systems Austria, Hewlett-Packard, Microsoft Austria, IBM Austria and Samsung Electronics Austria.[88][89]\\nThe US technology corporation Cisco runs its Entrepreneurs in Residence program for Europe in Vienna in cooperation with the Vienna Business Agency.[90][91]\\nThe British company UBM has rated Vienna one of the Top 10 Internet Cities worldwide, by analysing criteria like connection speed, WiFi availability, innovation spirit and open government data.[92]\\nIn 2011 74.3% of Viennese households were connected with broadband, 79% were in possession of a computer. According to the broadband strategy of the City, full broadband coverage will be reached by 2020.[88][89]\\nThere were 14.96 million overnight stays in Vienna in 2016 (+4.4% compared to 2015).[93] In 2014, 6.2 million tourists visited Vienna and amounted to 13,524,266 overnight stays. The main markets for tourists are Germany, the United States, Italy and Russia.[94][95] Between 2005 and 2013, Vienna was the world\\'s number one destination for international congresses and conventions. In 2014, 202 international conferences were held in Vienna, making it the second most popular congress location worldwide according to the statistics of the International Congress and Convention Association.[96][97] Its largest conference centre, the Austria Center Vienna (ACV) has a total capacity for around 20,000 people and is situated next to the United Nations Headquarters in Vienna.[98] Other centres are the Messe Wien Exhibition & Congress Center (up to 3,300 people) and the Hofburg Palace (up to 4,900 people).\\nRegarding quality of living, Vienna leads the 2016 Quality of Living Ranking by the international Mercer Consulting Group for the seventh consecutive year.[99] In the 2015 liveability report by the Economist Intellicence Unit as well as in the Quality of Life Survey 2015 of London-based Monocle magazine Vienna was equally ranked second most liveable city worldwide.[100][101]\\nThe United Nations Human Settlements Programme UN-Habitat has ranked Vienna the most prosperous city in the world in its flagship report State of the World Cities 2012/2013.[102]\\nAccording to the 2014 City RepTrack ranking by the Reputation Institute, Vienna has the best reputation in comparison with 100 major global cities.[103]\\nThe Innovation Cities Global Index 2014 by the Australian innovation agency 2thinknow ranks Vienna sixth behind San Francisco-San Jose, New York City, London, Boston and Paris.[104]\\nUS climate strategist Boyd Cohen placed Vienna first in his first global smart cities ranking of 2012. In the 2014 ranking, Vienna reached third place among European cities behind Copenhagen and Amsterdam.[105]\\nThe Mori Memorial Institute for Urban Strategies ranked Vienna in the top ten of their Global Power City Index 2016.[106]\\nVienna\\'s new Central Railway Station was opened in October 2014.[107] Construction began in June 2007 and was due to last until December 2015. The station is served by 1,100 trains with 145,000 passengers. There is a shopping centre with approximately 90 shops and restaurants. In the vicinity of the station a new district is emerging with 550,000 m2 (5,920,000 sq ft) office space and 5,000 apartments until 2020.[108][109][110]\\nSeestadt Aspern is one of the largest urban expansion projects of Europe. A 5 hectare artificial lake, offices, apartments and a tube station within walking distance are supposed to attract 20,000 new citizens when construction is completed in 2028.[111][112] In addition, the highest wooden skyscraper of the world called “HoHo Wien” will be built within 3 years, starting in 2015.[113]\\nIn 2014, the Vienna City Council adopted the Smart City Wien Framework Strategy 2050. It is a long-term umbrella strategy that is supposed to establish a conducive, long-term and structural framework in order to reduce carbon dioxide emissions from 3.1 tonnes per capita to 1 tonne per capita by 2050, have 50% of Vienna\\'s gross energy consumption originate from renewable sources and to reduce motorized individual traffic from the current 28% to 15% by 2030. A stated goal is that, by 2050, all vehicles within the municipal boundaries will run without conventional propulsion technologies. Additionally, Vienna aims to be one of the five biggest European research and innovation hubs in 2050.[114]\\nMusical luminaries including Wolfgang Amadeus Mozart, Joseph Haydn, Ludwig van Beethoven, Ferdinand Ries, Franz Schubert, Johannes Brahms, Gustav Mahler, Robert Stolz, and Arnold Schoenberg have worked there.\\nArt and culture had a long tradition in Vienna, including theatre, opera, classical music and fine arts. The Burgtheater is considered one of the best theatres in the German-speaking world alongside its branch, the Akademietheater. The Volkstheater Wien and the Theater in der Josefstadt also enjoy good reputations. There is also a multitude of smaller theatres, in many cases devoted to less mainstream forms of the performing arts, such as modern, experimental plays or cabaret.\\nVienna is also home to a number of opera houses, including the Theater an der Wien, the Staatsoper and the Volksoper, the latter being devoted to the typical Viennese operetta. Classical concerts are performed at world-famous venues such as the Wiener Musikverein, home of the Vienna Philharmonic Orchestra known across the world for the annual widely broadcast \"New Year\\'s Day Concert\", as well as the Wiener Konzerthaus, home of the internationally renowned Vienna Symphony. Many concert venues offer concerts aimed at tourists, featuring popular highlights of Viennese music, particularly the works of Wolfgang Amadeus Mozart, Johann Strauss I, and Johann Strauss II.\\nUp until 2005, the Theater an der Wien has hosted premieres of musicals, although with the year of the Mozart celebrations 2006 it has devoted itself to the opera again and has since become a stagione opera house offering one new production each month, thus quickly becoming one of Europe\\'s most interesting and advanced opera houses. Since 2012 Theater an der Wien has taken over the Wiener Kammeroper, a historical small theatre in the first district of Vienna seating 300 spectators, turning it into its second venue for smaller sized productions and chamber operas created by the young ensemble of Theater an der Wien (JET). Before 2005 the most successful musical was Elisabeth, which was later translated into several languages and performed all over the world. The Wiener Taschenoper is dedicated to stage music of the 20th and 21st century. The Haus der Musik (\"house of music\") opened in the year 2000.\\nThe Wienerlied is a unique song genre from Vienna. There are approximately 60,000 – 70,000 Wienerlieder.[115]\\nIn 1981 the popular British new romantic group Ultravox paid a tribute to Vienna on an album and an artful music video recording called Vienna. The inspiration for this work arose from the cinema production called The Third Man with the title Zither music of Anton Karas.\\nThe Vienna\\'s English Theatre (VET) is an English theater in Vienna. It was founded in 1963 and is located in the 8th Vienna\\'s district. It is the oldest English-language theater in Europe outside the UK.\\nIn May 2015, Vienna hosted the Eurovision Song Contest following Austria\\'s victory in the 2014 contest.\\nNotable entertainers born in Vienna include Hedy Lamarr, Christoph Waltz, John Banner, Christiane Hörbiger, Eric Pohlmann, Christine Buchegger, Mischa Hausserman, Senta Berger and Christine Ostermayer.\\nNotable musicians born in Vienna include Louie Austen, Alban Berg, Falco, Fritz Kreisler, Joseph Lanner, Arnold Schönberg, Franz Schubert, Johann Strauss I, Johann Strauss II, Anton Webern, and Joe Zawinul.\\nFamous musicians who came here to work from other parts of Austria and Germany were Johann Joseph Fux, Joseph Haydn, Wolfgang Amadeus Mozart, Ludwig van Beethoven, Ferdinand Ries, Johann Sedlatzek, Antonio Salieri, Carl Czerny, Johann Nepomuk Hummel, Franz Liszt, Franz von Suppé, Anton Bruckner, Johannes Brahms, Gustav Mahler and Rainhard Fendrich. [116]\\nAmong the most notable Viennese Jews, some of whom left Austria before and during Nazi persecution, are the following figures: Sigmund Freud, Alfred Adler (who eventually converted to Christianity), Rudolf Dreikurs, Viktor Frankl, Fritz Lang, Peter Lorre, Fred Zinnemann (both of whose parents died in the Holocaust), Stefan Zweig, Simon Wiesenthal, Theodor Herzl, Judah Alkalai, Erich von Stroheim, Hedy Lamarr, Billy Wilder, Franz Werfel, Arnold Schoenberg and Fritz Kreisler.\\nThe Hofburg is the location of the Imperial Treasury (Schatzkammer), holding the imperial jewels of the Habsburg dynasty. The Sisi Museum (a museum devoted to Empress Elisabeth of Austria) allows visitors to view the imperial apartments as well as the silver cabinet. Directly opposite the Hofburg are the Kunsthistorisches Museum, which houses many paintings by old masters, ancient and classical artifacts, and the Naturhistorisches Museum.\\nA number of museums are located in the Museumsquartier (museum quarter), the former Imperial Stalls which were converted into a museum complex in the 1990s. It houses the Museum of Modern Art, commonly known as the MUMOK (Ludwig Foundation), the Leopold Museum (featuring the largest collection of paintings in the world by Egon Schiele, as well as works by the Vienna Secession, Viennese Modernism and Austrian Expressionism), the AzW (museum of architecture), additional halls with feature exhibitions, and the Tanzquartier. The Liechtenstein Palace contains much of one of the world\\'s largest private art collections, especially strong in the Baroque. Castle Belvedere, built under Prince Eugene, has a gallery containing paintings by Gustav Klimt (The Kiss), Egon Schiele, and other painters of the early 20th century, also sculptures by Franz Xaver Messerschmidt, and changing exhibitions too.\\nThere are a multitude of other museums in Vienna, including the Albertina, the Military History Museum, the Technical Museum, the Burial Museum, the Museum of Art Fakes, the KunstHausWien, Museum of Applied Arts, the Sigmund Freud Museum, and the Mozarthaus Vienna. The museums on the history of the city, including the former Historical Museum of the City of Vienna on Karlsplatz, the Hermesvilla, the residences and birthplaces of various composers, the Museum of the Romans, and the Vienna Clock Museum, are now gathered together under the group umbrella Vienna Museum. In addition there are museums dedicated to Vienna\\'s individual districts. They provide a record of individual struggles, achievements and tragedy as the city grew and survived two world wars. For readers seeking family histories these are good sources of information.\\nA variety of architectural styles can be found in Vienna, such as the Romanesque Ruprechtskirche and the Baroque Karlskirche. Styles range from classicist buildings to modern architecture. Art Nouveau left many architectural traces in Vienna. The Secession building, Karlsplatz Stadtbahn Station, and the Kirche am Steinhof by Otto Wagner rank among the best known examples of Art Nouveau in the world. Wagner\\'s prominent student Jože Plečnik from Slovenia also left important traces in Vienna. His works include the Langer House (1900) and the Zacherlhaus (1903–1905). Plečnik\\'s 1910–1913 Church of the Holy Spirit (Heilig-Geist-Kirche [de]) in Vienna is remarkable for its innovative use of poured-in-place concrete as both structure and exterior surface, and also for its abstracted classical form language. Most radical is the church\\'s crypt, with its slender concrete columns and angular, cubist capitals and bases.\\nConcurrent to the Art Nouveau movement was the Wiener Moderne, during which some architects shunned the use of extraneous adornment. A key architect of this period was Adolf Loos, whose works include the Looshaus (1909), the Kärntner Bar or American Bar (1908) and the Steiner House (1910).\\nThe Hundertwasserhaus by Friedensreich Hundertwasser, designed to counter the clinical look of modern architecture, is one of Vienna\\'s most popular tourist attractions. Another example of unique architecture is the Wotrubakirche by sculptor Fritz Wotruba. In the 1990s, a number of quarters were adapted and extensive building projects were implemented in the areas around Donaustadt (north of the Danube) and Wienerberg (in southern Vienna).\\nThe 220-meter high DC Tower 1 located on the Northern bank of the Danube, completed in 2013, is the tallest skyscraper in Vienna.[117][118] In recent years, Vienna has seen numerous architecture projects completed which combine modern architectural elements with old buildings, such as the remodelling and revitalisation of the old Gasometer in 2001. Most buildings in Vienna are relatively low; in early 2006 there were around 100 buildings higher than 40 metres (130 feet). The number of high-rise buildings is kept low by building legislation aimed at preserving green areas and districts designated as world cultural heritage. Strong rules apply to the planning, authorisation and construction of high-rise buildings. Consequently, much of the inner city is a high-rise free zone.\\nVienna is the last great capital of the 19th-century ball. There are over 450 balls per year, some featuring as many as nine live orchestras.[119] Balls are held in the many beautiful palaces in Vienna, with the principal venue being the Hofburg Palace in Heldenplatz. While the Opera Ball is the best known internationally of all the Austrian balls, other balls such as the Kaffeesiederball (Cafe Owners Ball), the Jägerball (Hunter\\'s Ball) and the Life Ball (AIDS charity event) are almost as well known within Austria and even better appreciated for their cordial atmosphere. Viennese of at least middle class may visit a number of balls in their lifetime.[clarification needed]\\nDancers and opera singers from the Vienna State Opera often perform at the openings of the larger balls.\\nA Vienna ball is an all-night cultural attraction. Major Viennese balls generally begin at 9 pm and last until 5 am, although many guests carry on the celebrations into the next day. The Viennese balls are being exported with the support of the City of Vienna in around 30 cities worldwide such as New York, Barcelona, Hong Kong, Kuala Lumpur, Rome, Prague, Bucharest, Berlin and Moscow.[119][120][121]\\nVienna is Austria\\'s main centre of education and home to many universities, professional colleges and gymnasiums (high schools).\\nVienna possesses many parks, including the Stadtpark, the Burggarten, the Volksgarten (part of the Hofburg), the Schlosspark at Schloss Belvedere (home to the Vienna Botanic Gardens), the Donaupark, the Schönbrunner Schlosspark, the Prater, the Augarten, the Rathauspark, the Lainzer Tiergarten, the Dehnepark, the Resselpark, the Votivpark, the Kurpark Oberlaa, the Auer-Welsbach-Park and the Türkenschanzpark. Green areas include Laaer-Berg (including the Bohemian Prater) and the foothills of the Wienerwald, which reaches into the outer areas of the city. Small parks, known by the Viennese as Beserlparks, are everywhere in the inner city areas.\\nMany of Vienna\\'s famous parks include monuments, such as the Stadtpark with its statue of Johann Strauss II, and the gardens of the baroque palace, where the State Treaty was signed. Vienna\\'s principal park is the Prater which is home to the Riesenrad, a Ferris wheel, and Kugelmugel, a micronation the shape of a sphere. The imperial Schönbrunn\\'s grounds contain an 18th-century park which includes the world\\'s oldest zoo, founded in 1752. The Donauinsel, part of Vienna\\'s flood defences, is a 21.1 km (13.1 mi) long artificial island between the Danube and Neue Donau dedicated to leisure activities.\\nAustria\\'s capital is home to numerous football teams. The best known are the local football clubs include FK Austria Wien (21 Austrian Bundesliga titles and record 27-time cup winners), SK Rapid Wien (record 32 Austrian Bundesliga titles), and the oldest team, First Vienna FC. Other important sports clubs include the Raiffeisen Vikings Vienna (American Football), who won the Eurobowl title between 2004 and 2007 4 times in a row and had a perfect season in 2013, the Aon hotVolleys Vienna, one of Europe\\'s premier Volleyball organisations, the Vienna Wanderers (baseball) who won the 2012 and 2013 Championship of the Austrian Baseball League, and the Vienna Capitals (Ice Hockey). Vienna was also where the European Handball Federation (EHF) was founded. There are also three rugby clubs; Vienna Celtic, the oldest rugby club in Austria, RC Donau, and Stade Viennois\\nVienna hosts many different sporting events including the Vienna City Marathon, which attracts more than 10,000 participants every year and normally takes place in May. In 2005 the Ice Hockey World Championships took place in Austria and the final was played in Vienna. Vienna\\'s Ernst Happel Stadium was the venue of four Champions League and European Champion Clubs\\' Cup finals (1964, 1987, 1990 and 1995) and on 29 June it hosted the final of Euro 2008 which saw a Spanish 1–0 victory over Germany. Tennis tournament Vienna Open also takes place in the city since 1974. The matches are played in the Wiener Stadthalle.\\nThe Neu Donau, which was formed after the Donauinsel was created is free of river traffic and has been referred to as an \"autobahn for swimmers\" due to its use by the public for commuting.[122]\\nVienna is well known for Wiener Schnitzel, a cutlet of veal (Kalbsschnitzel) or pork (Schweinsschnitzel) that is pounded flat, coated in flour, egg and breadcrumbs, and fried in clarified butter. It is available in almost every restaurant that serves Viennese cuisine and can be eaten hot or cold. The traditional \\'Wiener Schnitzel\\' though is a cutlet of veal. Other examples of Viennese cuisine include Tafelspitz (very lean boiled beef), which is traditionally served with Geröstete Erdäpfel (boiled potatoes mashed with a fork and subsequently fried) and horseradish sauce, Apfelkren (a mixture of horseradish, cream and apple) and Schnittlauchsauce (a chives sauce made with mayonnaise and stale bread).\\n'}"
      ]
     },
     "execution_count": 22,
     "metadata": {},
     "output_type": "execute_result"
    }
   ],
   "source": [
    "wiki_collection.find_one()"
   ]
  },
  {
   "cell_type": "code",
   "execution_count": 23,
   "metadata": {},
   "outputs": [],
   "source": [
    "wiki_df = pd.DataFrame([x for x in wiki_collection.find()])"
   ]
  },
  {
   "cell_type": "code",
   "execution_count": 24,
   "metadata": {},
   "outputs": [
    {
     "data": {
      "text/html": [
       "<div>\n",
       "<style scoped>\n",
       "    .dataframe tbody tr th:only-of-type {\n",
       "        vertical-align: middle;\n",
       "    }\n",
       "\n",
       "    .dataframe tbody tr th {\n",
       "        vertical-align: top;\n",
       "    }\n",
       "\n",
       "    .dataframe thead th {\n",
       "        text-align: right;\n",
       "    }\n",
       "</style>\n",
       "<table border=\"1\" class=\"dataframe\">\n",
       "  <thead>\n",
       "    <tr style=\"text-align: right;\">\n",
       "      <th></th>\n",
       "      <th>_id</th>\n",
       "      <th>city</th>\n",
       "      <th>text</th>\n",
       "    </tr>\n",
       "  </thead>\n",
       "  <tbody>\n",
       "    <tr>\n",
       "      <th>0</th>\n",
       "      <td>5d1195dc0d668bb1db943136</td>\n",
       "      <td>Vienna</td>\n",
       "      <td>\\nVienna (/viˈɛnə/ (listen);[11][12] German: W...</td>\n",
       "    </tr>\n",
       "    <tr>\n",
       "      <th>1</th>\n",
       "      <td>5d11970b6e7463927710e427</td>\n",
       "      <td>Vienna</td>\n",
       "      <td>\\nVienna (/viˈɛnə/ (listen);[11][12] German: W...</td>\n",
       "    </tr>\n",
       "    <tr>\n",
       "      <th>2</th>\n",
       "      <td>5d11974d6e7463927710e428</td>\n",
       "      <td>Danube Valley</td>\n",
       "      <td>\\nThe Danube (/ˈdæn.juːb/ DAN-yoob; known by v...</td>\n",
       "    </tr>\n",
       "    <tr>\n",
       "      <th>3</th>\n",
       "      <td>5d1197626e7463927710e429</td>\n",
       "      <td>Danube Valley</td>\n",
       "      <td>\\nThe Danube (/ˈdæn.juːb/ DAN-yoob; known by v...</td>\n",
       "    </tr>\n",
       "    <tr>\n",
       "      <th>4</th>\n",
       "      <td>5d1197936e7463927710e42a</td>\n",
       "      <td>Hallstatt</td>\n",
       "      <td>Hallstatt (German: [ˈhalʃtat]; Central Bavaria...</td>\n",
       "    </tr>\n",
       "  </tbody>\n",
       "</table>\n",
       "</div>"
      ],
      "text/plain": [
       "                        _id           city  \\\n",
       "0  5d1195dc0d668bb1db943136         Vienna   \n",
       "1  5d11970b6e7463927710e427         Vienna   \n",
       "2  5d11974d6e7463927710e428  Danube Valley   \n",
       "3  5d1197626e7463927710e429  Danube Valley   \n",
       "4  5d1197936e7463927710e42a      Hallstatt   \n",
       "\n",
       "                                                text  \n",
       "0  \\nVienna (/viˈɛnə/ (listen);[11][12] German: W...  \n",
       "1  \\nVienna (/viˈɛnə/ (listen);[11][12] German: W...  \n",
       "2  \\nThe Danube (/ˈdæn.juːb/ DAN-yoob; known by v...  \n",
       "3  \\nThe Danube (/ˈdæn.juːb/ DAN-yoob; known by v...  \n",
       "4  Hallstatt (German: [ˈhalʃtat]; Central Bavaria...  "
      ]
     },
     "execution_count": 24,
     "metadata": {},
     "output_type": "execute_result"
    }
   ],
   "source": [
    "wiki_df.head()"
   ]
  },
  {
   "cell_type": "code",
   "execution_count": null,
   "metadata": {},
   "outputs": [],
   "source": [
    "wiki_city_df.drop('_id', axis=1, inplace=True)\n",
    "wiki_city_df.drop_duplicates(inplace=True)\n",
    "wiki_city_df.head()"
   ]
  },
  {
   "cell_type": "code",
   "execution_count": null,
   "metadata": {},
   "outputs": [],
   "source": [
    "for row in wiki_city_df['text']:\n",
    "    print(row[:300])\n",
    "    print('\\n')"
   ]
  },
  {
   "cell_type": "markdown",
   "metadata": {},
   "source": [
    "Since the data set is small enough and it is possible that wikipedia sent to a different link than intended (due to ambiguity), I will do a visual check that the summary is the summary I want.\n",
    "\n",
    "Cities I need to recollect:\n",
    "* Danube Valley, Austria (references the river, I want to get the valley (city such as Melk))\n",
    "* Split, Croatia\n",
    "* Bath, England\n",
    "* Durham, Englang\n",
    "* Glastonbury & Wells, England (may need to get for each city?)\n",
    "* Stonehenge & Avebury, England (may need to refer to each city/landmark)\n",
    "* Stratford, England\n",
    "* Warwick & Coventry, England\n",
    "* Windsor, England\n",
    "* D-Day Beaches, France\n",
    "* Reims & Verdun, France (may need to get for each city)\n",
    "* Rhine Valley, Germany\n",
    "* Hydra, Greece\n",
    "* Olympia, Greece\n",
    "* Connemara & County Mayo, Ireland\n",
    "* Country Clare & the Burren, Ireland\n",
    "* Kenmare & the Ring of Kerry, Ireland\n",
    "* Kilkenny & the Rock of Cashel, Ireland\n",
    "* Kinsale & Cobh, Ireland\n",
    "* Portrush & the Antrim Coast, Ireland\n",
    "* Waterford & County Wexford, Ireland\n",
    "* Italian Lakes, Italy\n",
    "* Pompeii & Herculaneum, Italy\n",
    "* Tuscan Hill Towns, Italy\n",
    "* Edam, Netherlands\n",
    "* Norwegian Fjords, Norway\n",
    "* Nazaré, Portugal\n",
    "* Óbidos, Portugal\n",
    "* Oban, Mull & Iona, Scotland\n",
    "* Córdoba, Spain\n",
    "* Toledo, Spain\n",
    "* White Hill Towns, Spain\n",
    "* Lake Geneva & French Switzerland, Switzerland"
   ]
  },
  {
   "cell_type": "code",
   "execution_count": null,
   "metadata": {},
   "outputs": [],
   "source": [
    "city_wiki = [('Danube Valley', 'Melk'),\n",
    "             ('Split', 'Split,_Croatia'), ('Bath', 'Bath,_Somerset'), ('Durham', 'Durham,_England'), \n",
    "             ('Glastonbury & Wells', 'Glastonbury'), ('Stonehenge & Avebury', 'Avebury'),\n",
    "             ('Stratford', 'Stratford-upon-Avon'), ('Warwick & Coventry', 'Coventry'),\n",
    "             ('Windsor', 'Windsor,_Berkshire'), ('D-Day Beaches', 'Normandy_landings'),\n",
    "             ('Reims & Verdun', 'Reims'), ('Rhine Valley', 'Mörsbach'), ('Hydra', 'Hydra_(island)'),\n",
    "             ('Olympia', 'Olympia,_Greece'), ('Connemara & County Mayo', 'Connemara'),\n",
    "             ('Country Clare & the Burren', 'The_Burren'), ('Kenmare & the Ring of Kerry', 'Kenmare'),\n",
    "             ('Kilkenny & the Rock of Cashel', 'Kilkenny'), ('Kinsale & Cobh', 'Cobh'),\n",
    "             ('Portrush & the Antrim Coast', 'Portrush'), ('Waterford & County Wexford', 'Waterford'),\n",
    "             ('Italian Lakes', 'Varenna'), ('Pompeii & Herculaneum', 'Pompeii'),\n",
    "             ('Tuscan Hill Towns', 'Montepulciano'), ('Edam', 'Edam,_Netherlands'),\n",
    "             ('Norwegian Fjords', 'Sognefjord'), ('Nazaré', 'Nazaré,_Portugal'),\n",
    "             ('Óbidos', 'Óbidos,_Portugal'), ('Oban, Mull & Iona', 'Iona'), ('Córdoba', 'Córdoba,_Spain'),\n",
    "             ('Toledo', 'Toledo,_Spain'), ('White Hill Towns', 'Ronda'),\n",
    "             ('Lake Geneva & French Switzerland', 'Lake_Geneva'),\n",
    "            ]"
   ]
  },
  {
   "cell_type": "code",
   "execution_count": null,
   "metadata": {},
   "outputs": [],
   "source": [
    "for city in city_wiki:\n",
    "    replace_df_text(browser, city, wiki_city_df)\n",
    "    time.sleep(np.random.randint(10,30))\n",
    "    print(f'Replaced {city[0]}')"
   ]
  },
  {
   "cell_type": "code",
   "execution_count": 24,
   "metadata": {},
   "outputs": [],
   "source": [
    "#pickle.dump(wiki_df, open('data/wiki_data.pkl', 'wb'))"
   ]
  },
  {
   "cell_type": "code",
   "execution_count": null,
   "metadata": {},
   "outputs": [],
   "source": [
    "combined_descriptions_df = pd.merge(cities_df, wiki_city_df, how='left', on='city')\n",
    "combined_descriptions_df.head(10)"
   ]
  },
  {
   "cell_type": "code",
   "execution_count": null,
   "metadata": {},
   "outputs": [],
   "source": [
    "#pickle.dump(combined_descriptions_df, open('data/combined_cities.pkl', 'wb'))\n",
    "combined_descriptions_df = pickle.load(open('data/combined_cities.pkl', 'rb'))"
   ]
  },
  {
   "cell_type": "code",
   "execution_count": null,
   "metadata": {},
   "outputs": [],
   "source": []
  }
 ],
 "metadata": {
  "kernelspec": {
   "display_name": "learn-env",
   "language": "python",
   "name": "learn-env"
  },
  "language_info": {
   "codemirror_mode": {
    "name": "ipython",
    "version": 3
   },
   "file_extension": ".py",
   "mimetype": "text/x-python",
   "name": "python",
   "nbconvert_exporter": "python",
   "pygments_lexer": "ipython3",
   "version": "3.6.6"
  }
 },
 "nbformat": 4,
 "nbformat_minor": 2
}
