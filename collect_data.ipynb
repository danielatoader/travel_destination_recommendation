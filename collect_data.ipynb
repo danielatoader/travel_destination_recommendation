{
 "cells": [
  {
   "cell_type": "markdown",
   "metadata": {},
   "source": [
    "# Collection of Data from ricksteves.com"
   ]
  },
  {
   "cell_type": "markdown",
   "metadata": {},
   "source": [
    "## Import Necessary Libraries"
   ]
  },
  {
   "cell_type": "code",
   "execution_count": 1,
   "metadata": {},
   "outputs": [],
   "source": [
    "import pandas as pd\n",
    "import time\n",
    "import urllib.request\n",
    "from collections import Counter\n",
    "from selenium.webdriver import Chrome\n",
    "import pickle\n",
    "import pymongo\n",
    "import numpy as np\n",
    "from scrape import collect_urls, collect_all_data, collect_city_data, get_wiki_description, replace_df_text, collect_city_photo"
   ]
  },
  {
   "cell_type": "markdown",
   "metadata": {},
   "source": [
    "### Instantiate MongoDB Atlas Database and Collection"
   ]
  },
  {
   "cell_type": "code",
   "execution_count": 2,
   "metadata": {},
   "outputs": [],
   "source": [
    "with open('.secrets/password.txt', 'r') as f:\n",
    "    conn_string = f.read().strip()\n",
    "\n",
    "mc = pymongo.MongoClient(conn_string)"
   ]
  },
  {
   "cell_type": "code",
   "execution_count": 3,
   "metadata": {},
   "outputs": [],
   "source": [
    "city_db = mc['city_database']"
   ]
  },
  {
   "cell_type": "code",
   "execution_count": 4,
   "metadata": {},
   "outputs": [],
   "source": [
    "city_collection = city_db['city_collection']\n",
    "country_collection = city_db['country_collection']\n",
    "wiki_collection = city_db['wiki_collection']"
   ]
  },
  {
   "cell_type": "markdown",
   "metadata": {},
   "source": [
    "## Web Scraping\n",
    "\n",
    "### Rick Steves\n",
    "[Rick Steves](ricksteves.com) has short summaries and photos of 213 European cities or regions. I collected country summaries, city/region summaries, city_urls as well as the leading photo of each location."
   ]
  },
  {
   "cell_type": "code",
   "execution_count": 5,
   "metadata": {},
   "outputs": [],
   "source": [
    "browser = Chrome()\n",
    "url = \"https://www.ricksteves.com/\"\n",
    "browser.get(url)"
   ]
  },
  {
   "cell_type": "code",
   "execution_count": 6,
   "metadata": {},
   "outputs": [],
   "source": [
    "browser.find_element_by_xpath('//*[@id=\"nav\"]/ul/li[2]/a').click()"
   ]
  },
  {
   "cell_type": "code",
   "execution_count": 7,
   "metadata": {},
   "outputs": [],
   "source": [
    "country_urls = collect_urls(browser, '/europe/')"
   ]
  },
  {
   "cell_type": "code",
   "execution_count": 8,
   "metadata": {},
   "outputs": [
    {
     "data": {
      "text/plain": [
       "['https://www.ricksteves.com/europe/austria',\n",
       " 'https://www.ricksteves.com/europe/belgium',\n",
       " 'https://www.ricksteves.com/europe/bosnia-herzegovina',\n",
       " 'https://www.ricksteves.com/europe/bulgaria',\n",
       " 'https://www.ricksteves.com/europe/croatia',\n",
       " 'https://www.ricksteves.com/europe/czech-republic',\n",
       " 'https://www.ricksteves.com/europe/denmark',\n",
       " 'https://www.ricksteves.com/europe/england',\n",
       " 'https://www.ricksteves.com/europe/estonia',\n",
       " 'https://www.ricksteves.com/europe/finland',\n",
       " 'https://www.ricksteves.com/europe/france',\n",
       " 'https://www.ricksteves.com/europe/germany',\n",
       " 'https://www.ricksteves.com/europe/greece',\n",
       " 'https://www.ricksteves.com/europe/hungary',\n",
       " 'https://www.ricksteves.com/europe/iceland',\n",
       " 'https://www.ricksteves.com/europe/ireland',\n",
       " 'https://www.ricksteves.com/europe/italy',\n",
       " 'https://www.ricksteves.com/europe/montenegro',\n",
       " 'https://www.ricksteves.com/europe/netherlands',\n",
       " 'https://www.ricksteves.com/europe/norway',\n",
       " 'https://www.ricksteves.com/europe/poland',\n",
       " 'https://www.ricksteves.com/europe/portugal',\n",
       " 'https://www.ricksteves.com/europe/russia',\n",
       " 'https://www.ricksteves.com/europe/scotland',\n",
       " 'https://www.ricksteves.com/europe/slovakia',\n",
       " 'https://www.ricksteves.com/europe/slovenia',\n",
       " 'https://www.ricksteves.com/europe/spain',\n",
       " 'https://www.ricksteves.com/europe/sweden',\n",
       " 'https://www.ricksteves.com/europe/switzerland',\n",
       " 'https://www.ricksteves.com/europe/turkey',\n",
       " 'https://www.ricksteves.com/europe/wales',\n",
       " 'https://www.ricksteves.com/europe/guidebook-updates']"
      ]
     },
     "execution_count": 8,
     "metadata": {},
     "output_type": "execute_result"
    }
   ],
   "source": [
    "country_urls"
   ]
  },
  {
   "cell_type": "markdown",
   "metadata": {},
   "source": [
    "The last link is not for actual countries so we will remove them."
   ]
  },
  {
   "cell_type": "code",
   "execution_count": 9,
   "metadata": {},
   "outputs": [],
   "source": [
    "country_urls = country_urls[0:-1]"
   ]
  },
  {
   "cell_type": "code",
   "execution_count": 10,
   "metadata": {},
   "outputs": [
    {
     "data": {
      "text/plain": [
       "['https://www.ricksteves.com/europe/austria',\n",
       " 'https://www.ricksteves.com/europe/belgium',\n",
       " 'https://www.ricksteves.com/europe/bosnia-herzegovina',\n",
       " 'https://www.ricksteves.com/europe/bulgaria',\n",
       " 'https://www.ricksteves.com/europe/croatia',\n",
       " 'https://www.ricksteves.com/europe/czech-republic',\n",
       " 'https://www.ricksteves.com/europe/denmark',\n",
       " 'https://www.ricksteves.com/europe/england',\n",
       " 'https://www.ricksteves.com/europe/estonia',\n",
       " 'https://www.ricksteves.com/europe/finland',\n",
       " 'https://www.ricksteves.com/europe/france',\n",
       " 'https://www.ricksteves.com/europe/germany',\n",
       " 'https://www.ricksteves.com/europe/greece',\n",
       " 'https://www.ricksteves.com/europe/hungary',\n",
       " 'https://www.ricksteves.com/europe/iceland',\n",
       " 'https://www.ricksteves.com/europe/ireland',\n",
       " 'https://www.ricksteves.com/europe/italy',\n",
       " 'https://www.ricksteves.com/europe/montenegro',\n",
       " 'https://www.ricksteves.com/europe/netherlands',\n",
       " 'https://www.ricksteves.com/europe/norway',\n",
       " 'https://www.ricksteves.com/europe/poland',\n",
       " 'https://www.ricksteves.com/europe/portugal',\n",
       " 'https://www.ricksteves.com/europe/russia',\n",
       " 'https://www.ricksteves.com/europe/scotland',\n",
       " 'https://www.ricksteves.com/europe/slovakia',\n",
       " 'https://www.ricksteves.com/europe/slovenia',\n",
       " 'https://www.ricksteves.com/europe/spain',\n",
       " 'https://www.ricksteves.com/europe/sweden',\n",
       " 'https://www.ricksteves.com/europe/switzerland',\n",
       " 'https://www.ricksteves.com/europe/turkey',\n",
       " 'https://www.ricksteves.com/europe/wales']"
      ]
     },
     "execution_count": 10,
     "metadata": {},
     "output_type": "execute_result"
    }
   ],
   "source": [
    "country_urls"
   ]
  },
  {
   "cell_type": "markdown",
   "metadata": {},
   "source": [
    "Now that we have the url for all the countries, lets get the urls for each city. Let's start collecting some data. First go to the country's page, collect the urls for all the cities/regions. Then go to each of those pages collect the summary."
   ]
  },
  {
   "cell_type": "code",
   "execution_count": 11,
   "metadata": {},
   "outputs": [
    {
     "name": "stdout",
     "output_type": "stream",
     "text": [
      "Inserted Austria into country collection\n",
      "Inserted Danube Valley, Austria into city collection\n",
      "Inserted Hallstatt, Austria into city collection\n",
      "Inserted Salzburg, Austria into city collection\n",
      "Inserted Tirol, Austria into city collection\n",
      "Inserted Vienna, Austria into city collection\n",
      "Completed scrapping Austria\n",
      "Inserted Belgium into country collection\n",
      "Inserted Antwerp, Belgium into city collection\n",
      "Inserted Bruges, Belgium into city collection\n",
      "Inserted Brussels, Belgium into city collection\n",
      "Inserted Ghent, Belgium into city collection\n",
      "Completed scrapping Belgium\n",
      "Inserted Bosnia-Herzegovina into country collection\n",
      "Inserted Mostar, Bosnia-Herzegovina into city collection\n",
      "Inserted Sarajevo, Bosnia-Herzegovina into city collection\n",
      "Completed scrapping Bosnia-Herzegovina\n",
      "Inserted Bulgaria into country collection\n",
      "Completed scrapping Bulgaria\n",
      "Inserted Croatia into country collection\n",
      "Inserted Dalmatian Coast, Croatia into city collection\n",
      "Inserted Dubrovnik, Croatia into city collection\n",
      "Inserted Hvar, Croatia into city collection\n",
      "Inserted Istria, Croatia into city collection\n",
      "Inserted Korčula, Croatia into city collection\n",
      "Inserted Split, Croatia into city collection\n",
      "Inserted Zagreb, Croatia into city collection\n",
      "Completed scrapping Croatia\n",
      "Inserted Czech Republic into country collection\n",
      "Completed scrapping Czech Republic\n",
      "Inserted Denmark into country collection\n",
      "Inserted Aarhus, Denmark into city collection\n",
      "Inserted Copenhagen, Denmark into city collection\n",
      "Inserted Ærø, Denmark into city collection\n",
      "Completed scrapping Denmark\n",
      "Inserted England into country collection\n",
      "Inserted Bath, England into city collection\n",
      "Inserted Blackpool, England into city collection\n",
      "Inserted Brighton, England into city collection\n",
      "Inserted Cambridge, England into city collection\n",
      "Inserted Canterbury, England into city collection\n",
      "Inserted Cornwall, England into city collection\n",
      "Inserted Cotswolds, England into city collection\n",
      "Inserted Dover, England into city collection\n",
      "Inserted Durham, England into city collection\n",
      "Inserted Glastonbury & Wells, England into city collection\n",
      "Inserted Ironbridge Gorge, England into city collection\n",
      "Inserted Lake District, England into city collection\n",
      "Inserted Liverpool, England into city collection\n",
      "Inserted London, England into city collection\n",
      "Inserted Oxford, England into city collection\n",
      "Inserted Portsmouth, England into city collection\n",
      "Inserted Stonehenge & Avebury, England into city collection\n",
      "Inserted Stratford, England into city collection\n",
      "Inserted Warwick & Coventry, England into city collection\n",
      "Inserted Windsor, England into city collection\n",
      "Inserted York, England into city collection\n",
      "Completed scrapping England\n",
      "Inserted Estonia into country collection\n",
      "Inserted Tallinn, Estonia into city collection\n",
      "Completed scrapping Estonia\n",
      "Inserted Finland into country collection\n",
      "Inserted Helsinki, Finland into city collection\n",
      "Completed scrapping Finland\n",
      "Inserted France into country collection\n",
      "Inserted Aix-en-Provence, France into city collection\n",
      "Inserted Albi, France into city collection\n",
      "Inserted Alsace, France into city collection\n",
      "Inserted Annecy, France into city collection\n",
      "Inserted Antibes, France into city collection\n",
      "Inserted Arles, France into city collection\n",
      "Inserted Avignon, France into city collection\n",
      "Inserted Bayeux, France into city collection\n",
      "Inserted Brittany, France into city collection\n",
      "Inserted Burgundy, France into city collection\n",
      "Inserted Carcassonne, France into city collection\n",
      "Inserted Cassis, France into city collection\n",
      "Inserted Chamonix, France into city collection\n",
      "Inserted Chartres, France into city collection\n",
      "Inserted Collioure, France into city collection\n",
      "Inserted Colmar, France into city collection\n",
      "Inserted Côtes du Rhône, France into city collection\n",
      "Inserted D-Day Beaches, France into city collection\n",
      "Inserted Dordogne, France into city collection\n",
      "Inserted French Alps, France into city collection\n",
      "Inserted French Basque Country, France into city collection\n",
      "Inserted French Riviera, France into city collection\n",
      "Inserted Honfleur, France into city collection\n",
      "Inserted Languedoc-Roussillon, France into city collection\n",
      "Inserted Loire, France into city collection\n",
      "Inserted Luberon, France into city collection\n",
      "Inserted Lyon, France into city collection\n",
      "Inserted Marseille, France into city collection\n",
      "Inserted Monaco, France into city collection\n",
      "Inserted Mont St-Michel, France into city collection\n",
      "Inserted Nice, France into city collection\n",
      "Inserted Normandy, France into city collection\n",
      "Inserted Paris, France into city collection\n",
      "Inserted Provence, France into city collection\n",
      "Inserted Reims & Verdun, France into city collection\n",
      "Inserted Rouen, France into city collection\n",
      "Inserted Sarlat-la-Canéda, France into city collection\n",
      "Inserted Strasbourg, France into city collection\n",
      "Inserted Versailles, France into city collection\n",
      "Inserted Villefranche-sur-Mer, France into city collection\n",
      "Completed scrapping France\n",
      "Inserted Germany into country collection\n",
      "Inserted Baden-Baden, Germany into city collection\n",
      "Inserted Bavaria, Germany into city collection\n",
      "Inserted Bavarian Alps, Germany into city collection\n",
      "Inserted Berlin, Germany into city collection\n",
      "Inserted Black Forest, Germany into city collection\n",
      "Inserted Cologne, Germany into city collection\n",
      "Inserted Dresden, Germany into city collection\n",
      "Inserted Frankfurt, Germany into city collection\n",
      "Inserted Hamburg, Germany into city collection\n",
      "Inserted Mosel Valley, Germany into city collection\n",
      "Inserted Munich, Germany into city collection\n",
      "Inserted Nürnberg, Germany into city collection\n",
      "Inserted Rhine Valley, Germany into city collection\n",
      "Inserted Rothenburg ob der Tauber, Germany into city collection\n",
      "Inserted Trier, Germany into city collection\n",
      "Inserted Würzburg, Germany into city collection\n",
      "Completed scrapping Germany\n",
      "Inserted Greece into country collection\n",
      "Inserted Athens, Greece into city collection\n",
      "Inserted Delphi, Greece into city collection\n",
      "Inserted Greek Islands, Greece into city collection\n",
      "Inserted Hydra, Greece into city collection\n",
      "Inserted Kardamyli, Greece into city collection\n",
      "Inserted Mani Peninsula, Greece into city collection\n",
      "Inserted Monemvasia, Greece into city collection\n",
      "Inserted Mykonos, Greece into city collection\n",
      "Inserted Nafplio, Greece into city collection\n",
      "Inserted Olympia, Greece into city collection\n",
      "Inserted Peloponnese, Greece into city collection\n",
      "Inserted Santorini, Greece into city collection\n",
      "Completed scrapping Greece\n",
      "Inserted Hungary into country collection\n",
      "Inserted Budapest, Hungary into city collection\n",
      "Inserted Eger, Hungary into city collection\n",
      "Completed scrapping Hungary\n",
      "Inserted Iceland into country collection\n",
      "Completed scrapping Iceland\n",
      "Inserted Ireland into country collection\n",
      "Inserted Aran Islands, Ireland into city collection\n",
      "Inserted Belfast, Ireland into city collection\n",
      "Inserted Connemara & County Mayo, Ireland into city collection\n",
      "Inserted County Clare & the Burren, Ireland into city collection\n",
      "Inserted County Donegal, Ireland into city collection\n",
      "Inserted Derry, Ireland into city collection\n",
      "Inserted Dingle Peninsula, Ireland into city collection\n",
      "Inserted Dublin, Ireland into city collection\n",
      "Inserted Galway, Ireland into city collection\n",
      "Inserted Kenmare & the Ring of Kerry, Ireland into city collection\n",
      "Inserted Kilkenny & the Rock of Cashel, Ireland into city collection\n",
      "Inserted Kinsale & Cobh, Ireland into city collection\n",
      "Inserted Northern Ireland, Ireland into city collection\n",
      "Inserted Portrush & the Antrim Coast, Ireland into city collection\n",
      "Inserted Waterford & County Wexford, Ireland into city collection\n",
      "Completed scrapping Ireland\n",
      "Inserted Italy into country collection\n",
      "Inserted Amalfi Coast, Italy into city collection\n",
      "Inserted Assisi, Italy into city collection\n",
      "Inserted Capri, Italy into city collection\n",
      "Inserted Cinque Terre, Italy into city collection\n",
      "Inserted Civita di Bagnoregio, Italy into city collection\n",
      "Inserted Dolomites, Italy into city collection\n",
      "Inserted Florence, Italy into city collection\n",
      "Inserted Italian Lakes, Italy into city collection\n",
      "Inserted Italian Riviera, Italy into city collection\n",
      "Inserted Lucca, Italy into city collection\n",
      "Inserted Milan, Italy into city collection\n",
      "Inserted Naples, Italy into city collection\n",
      "Inserted Orvieto, Italy into city collection\n"
     ]
    },
    {
     "name": "stdout",
     "output_type": "stream",
     "text": [
      "Inserted Pisa, Italy into city collection\n",
      "Inserted Pompeii & Herculaneum, Italy into city collection\n",
      "Inserted Ravenna, Italy into city collection\n",
      "Inserted Rome, Italy into city collection\n",
      "Inserted Sicily, Italy into city collection\n",
      "Inserted Siena, Italy into city collection\n",
      "Inserted Sorrento, Italy into city collection\n",
      "Inserted Tuscan Hill Towns, Italy into city collection\n",
      "Inserted Tuscany, Italy into city collection\n",
      "Inserted Venice, Italy into city collection\n",
      "Completed scrapping Italy\n",
      "Inserted Montenegro into country collection\n",
      "Completed scrapping Montenegro\n",
      "Inserted Netherlands into country collection\n",
      "Inserted Amsterdam, Netherlands into city collection\n",
      "Inserted Delft, Netherlands into city collection\n",
      "Inserted Edam, Netherlands into city collection\n",
      "Inserted Haarlem, Netherlands into city collection\n",
      "Inserted The Hague, Netherlands into city collection\n",
      "Completed scrapping Netherlands\n",
      "Inserted Norway into country collection\n",
      "Inserted Bergen, Norway into city collection\n",
      "Inserted Norwegian Fjords, Norway into city collection\n",
      "Inserted Oslo, Norway into city collection\n",
      "Completed scrapping Norway\n",
      "Inserted Poland into country collection\n",
      "Inserted Auschwitz-Birkenau, Poland into city collection\n",
      "Inserted Gdańsk, Poland into city collection\n",
      "Inserted Kraków, Poland into city collection\n",
      "Inserted Warsaw, Poland into city collection\n",
      "Completed scrapping Poland\n",
      "Inserted Portugal into country collection\n",
      "Inserted Algarve, Portugal into city collection\n",
      "Inserted Coimbra, Portugal into city collection\n",
      "Inserted Douro Valley, Portugal into city collection\n",
      "Inserted Lisbon, Portugal into city collection\n",
      "Inserted Nazaré, Portugal into city collection\n",
      "Inserted Porto, Portugal into city collection\n",
      "Inserted Sintra, Portugal into city collection\n",
      "Inserted Évora, Portugal into city collection\n",
      "Inserted Óbidos, Portugal into city collection\n",
      "Completed scrapping Portugal\n",
      "Inserted Russia into country collection\n",
      "Inserted St. Petersburg, Russia into city collection\n",
      "Completed scrapping Russia\n",
      "Inserted Scotland into country collection\n",
      "Inserted Edinburgh, Scotland into city collection\n",
      "Inserted Glasgow, Scotland into city collection\n",
      "Inserted Isle of Skye, Scotland into city collection\n",
      "Inserted Oban, Mull & Iona, Scotland into city collection\n",
      "Inserted Scottish Highlands, Scotland into city collection\n",
      "Inserted St. Andrews, Scotland into city collection\n",
      "Completed scrapping Scotland\n",
      "Inserted Slovakia into country collection\n",
      "Inserted Bratislava, Slovakia into city collection\n",
      "Completed scrapping Slovakia\n",
      "Inserted Slovenia into country collection\n",
      "Inserted Julian Alps, Slovenia into city collection\n",
      "Inserted Lake Bled, Slovenia into city collection\n",
      "Inserted Ljubljana, Slovenia into city collection\n",
      "Completed scrapping Slovenia\n",
      "Inserted Spain into country collection\n",
      "Inserted Andalucía, Spain into city collection\n",
      "Inserted Barcelona, Spain into city collection\n",
      "Inserted Camino de Santiago, Spain into city collection\n",
      "Inserted Costa del Sol, Spain into city collection\n",
      "Inserted Córdoba, Spain into city collection\n",
      "Inserted Granada, Spain into city collection\n",
      "Inserted Madrid, Spain into city collection\n",
      "Inserted Pamplona, Spain into city collection\n",
      "Inserted Salamanca, Spain into city collection\n",
      "Inserted San Sebastián, Spain into city collection\n",
      "Inserted Santiago de Compostela, Spain into city collection\n",
      "Inserted Sevilla, Spain into city collection\n",
      "Inserted Spanish Basque Country, Spain into city collection\n",
      "Inserted Toledo, Spain into city collection\n",
      "Inserted White Hill Towns, Spain into city collection\n",
      "Completed scrapping Spain\n",
      "Inserted Sweden into country collection\n",
      "Inserted Kalmar, Sweden into city collection\n",
      "Inserted Stockholm, Sweden into city collection\n",
      "Completed scrapping Sweden\n",
      "Inserted Switzerland into country collection\n",
      "Inserted Appenzell, Switzerland into city collection\n",
      "Inserted Bern, Switzerland into city collection\n",
      "Inserted Berner Oberland, Switzerland into city collection\n",
      "Inserted Gimmelwald, Switzerland into city collection\n",
      "Inserted Lake Geneva & French Switzerland, Switzerland into city collection\n",
      "Inserted Luzern, Switzerland into city collection\n",
      "Inserted Zermatt, Switzerland into city collection\n",
      "Inserted Zürich, Switzerland into city collection\n",
      "Completed scrapping Switzerland\n",
      "Inserted Turkey into country collection\n",
      "Inserted Ephesus, Turkey into city collection\n",
      "Inserted Istanbul, Turkey into city collection\n",
      "Completed scrapping Turkey\n",
      "Inserted Wales into country collection\n",
      "Inserted North Wales, Wales into city collection\n",
      "Inserted South Wales, Wales into city collection\n",
      "Completed scrapping Wales\n"
     ]
    }
   ],
   "source": [
    "for country in country_urls:\n",
    "    collect_all_data(browser, country, country_collection, city_collection)"
   ]
  },
  {
   "cell_type": "markdown",
   "metadata": {},
   "source": [
    "Take the MongoDB collection and turn in into a list of dictionaries for the countries."
   ]
  },
  {
   "cell_type": "code",
   "execution_count": 13,
   "metadata": {},
   "outputs": [
    {
     "data": {
      "text/plain": [
       "{'_id': ObjectId('5d24d9b74ccd32610d73dd1c'),\n",
       " 'country': 'Austria',\n",
       " 'country_summary': \"Small, landlocked Austria offers alpine scenery, world-class museums, cobbled quaintness, and Wiener schnitzel. Unlike Germany, its industrious neighbor to the northwest, Austria is content to bask in its good living and elegant, opulent past as the former head of one of Europe's grandest empires. Austrians tend to be relaxed, gregarious people who love the outdoors as much as a good cup of coffee in a café.\"}"
      ]
     },
     "execution_count": 13,
     "metadata": {},
     "output_type": "execute_result"
    }
   ],
   "source": [
    "country_dicts = [x for x in country_collection.find()]\n",
    "country_dicts[0]"
   ]
  },
  {
   "cell_type": "markdown",
   "metadata": {},
   "source": [
    "There should be 31 countries in the list. There is so then we will convert to a data frame."
   ]
  },
  {
   "cell_type": "code",
   "execution_count": 14,
   "metadata": {},
   "outputs": [
    {
     "data": {
      "text/plain": [
       "31"
      ]
     },
     "execution_count": 14,
     "metadata": {},
     "output_type": "execute_result"
    }
   ],
   "source": [
    "len(country_dicts)"
   ]
  },
  {
   "cell_type": "markdown",
   "metadata": {},
   "source": [
    "Drop the `_id` column."
   ]
  },
  {
   "cell_type": "code",
   "execution_count": 15,
   "metadata": {},
   "outputs": [
    {
     "data": {
      "text/html": [
       "<div>\n",
       "<style scoped>\n",
       "    .dataframe tbody tr th:only-of-type {\n",
       "        vertical-align: middle;\n",
       "    }\n",
       "\n",
       "    .dataframe tbody tr th {\n",
       "        vertical-align: top;\n",
       "    }\n",
       "\n",
       "    .dataframe thead th {\n",
       "        text-align: right;\n",
       "    }\n",
       "</style>\n",
       "<table border=\"1\" class=\"dataframe\">\n",
       "  <thead>\n",
       "    <tr style=\"text-align: right;\">\n",
       "      <th></th>\n",
       "      <th>country</th>\n",
       "      <th>country_summary</th>\n",
       "    </tr>\n",
       "  </thead>\n",
       "  <tbody>\n",
       "    <tr>\n",
       "      <th>0</th>\n",
       "      <td>Austria</td>\n",
       "      <td>Small, landlocked Austria offers alpine scener...</td>\n",
       "    </tr>\n",
       "    <tr>\n",
       "      <th>1</th>\n",
       "      <td>Belgium</td>\n",
       "      <td>Belgium falls through the cracks. Wedged betwe...</td>\n",
       "    </tr>\n",
       "    <tr>\n",
       "      <th>2</th>\n",
       "      <td>Bosnia-Herzegovina</td>\n",
       "      <td>Apart from the tragic way it separated from Yu...</td>\n",
       "    </tr>\n",
       "    <tr>\n",
       "      <th>3</th>\n",
       "      <td>Bulgaria</td>\n",
       "      <td>Endearing, surprising Bulgaria is a rewarding ...</td>\n",
       "    </tr>\n",
       "    <tr>\n",
       "      <th>4</th>\n",
       "      <td>Croatia</td>\n",
       "      <td>With thousands of miles of seafront and more t...</td>\n",
       "    </tr>\n",
       "  </tbody>\n",
       "</table>\n",
       "</div>"
      ],
      "text/plain": [
       "              country                                    country_summary\n",
       "0             Austria  Small, landlocked Austria offers alpine scener...\n",
       "1             Belgium  Belgium falls through the cracks. Wedged betwe...\n",
       "2  Bosnia-Herzegovina  Apart from the tragic way it separated from Yu...\n",
       "3            Bulgaria  Endearing, surprising Bulgaria is a rewarding ...\n",
       "4             Croatia  With thousands of miles of seafront and more t..."
      ]
     },
     "execution_count": 15,
     "metadata": {},
     "output_type": "execute_result"
    }
   ],
   "source": [
    "country_df = pd.DataFrame(country_dicts)\n",
    "country_df.drop('_id', axis=1, inplace=True)\n",
    "country_df.head()"
   ]
  },
  {
   "cell_type": "markdown",
   "metadata": {},
   "source": [
    "Saving the dataframe to a pickle file for use in other notebooks."
   ]
  },
  {
   "cell_type": "code",
   "execution_count": 17,
   "metadata": {},
   "outputs": [],
   "source": [
    "# pickle.dump(country_df, open('data/countries.pkl', 'wb'))"
   ]
  },
  {
   "cell_type": "markdown",
   "metadata": {},
   "source": [
    "Similar to the countries, convert `city_collection` to a list of dictionaries. There should be 213 destinations and save to a pickle file for other notebooks."
   ]
  },
  {
   "cell_type": "code",
   "execution_count": 18,
   "metadata": {},
   "outputs": [
    {
     "data": {
      "text/plain": [
       "{'_id': ObjectId('5d24d9ed4ccd32610d73dd1d'),\n",
       " 'city': 'Danube Valley',\n",
       " 'country': 'Austria',\n",
       " 'city_summary': \"The Danube is at its romantic best just west of Vienna. Mix a cruise with a bike ride through the Danube's Wachau Valley, lined with ruined castles, beautiful abbeys (including the glorious Melk Abbey), small towns, and vineyard upon vineyard. Much of the valley has a warm fairy-tale glow, but a trip here isn't complete without the chilling contrast of a visit to the Mauthausen concentration camp memorial.\",\n",
       " 'city_url': 'https://www.ricksteves.com/europe/austria/danube-valley'}"
      ]
     },
     "execution_count": 18,
     "metadata": {},
     "output_type": "execute_result"
    }
   ],
   "source": [
    "city_dicts = [x for x in city_collection.find()]\n",
    "city_dicts[0]"
   ]
  },
  {
   "cell_type": "code",
   "execution_count": 19,
   "metadata": {},
   "outputs": [
    {
     "data": {
      "text/plain": [
       "213"
      ]
     },
     "execution_count": 19,
     "metadata": {},
     "output_type": "execute_result"
    }
   ],
   "source": [
    "len(city_dicts)"
   ]
  },
  {
   "cell_type": "code",
   "execution_count": 20,
   "metadata": {},
   "outputs": [
    {
     "data": {
      "text/html": [
       "<div>\n",
       "<style scoped>\n",
       "    .dataframe tbody tr th:only-of-type {\n",
       "        vertical-align: middle;\n",
       "    }\n",
       "\n",
       "    .dataframe tbody tr th {\n",
       "        vertical-align: top;\n",
       "    }\n",
       "\n",
       "    .dataframe thead th {\n",
       "        text-align: right;\n",
       "    }\n",
       "</style>\n",
       "<table border=\"1\" class=\"dataframe\">\n",
       "  <thead>\n",
       "    <tr style=\"text-align: right;\">\n",
       "      <th></th>\n",
       "      <th>city</th>\n",
       "      <th>city_summary</th>\n",
       "      <th>city_url</th>\n",
       "      <th>country</th>\n",
       "    </tr>\n",
       "  </thead>\n",
       "  <tbody>\n",
       "    <tr>\n",
       "      <th>0</th>\n",
       "      <td>Danube Valley</td>\n",
       "      <td>The Danube is at its romantic best just west o...</td>\n",
       "      <td>https://www.ricksteves.com/europe/austria/danu...</td>\n",
       "      <td>Austria</td>\n",
       "    </tr>\n",
       "    <tr>\n",
       "      <th>1</th>\n",
       "      <td>Hallstatt</td>\n",
       "      <td>Lovable Hallstatt is a tiny town bullied onto ...</td>\n",
       "      <td>https://www.ricksteves.com/europe/austria/hall...</td>\n",
       "      <td>Austria</td>\n",
       "    </tr>\n",
       "    <tr>\n",
       "      <th>2</th>\n",
       "      <td>Salzburg</td>\n",
       "      <td>Thanks to its charmingly preserved old town, s...</td>\n",
       "      <td>https://www.ricksteves.com/europe/austria/salz...</td>\n",
       "      <td>Austria</td>\n",
       "    </tr>\n",
       "    <tr>\n",
       "      <th>3</th>\n",
       "      <td>Tirol</td>\n",
       "      <td>Mountainous Tirol — in Austria's western panha...</td>\n",
       "      <td>https://www.ricksteves.com/europe/austria/tirol</td>\n",
       "      <td>Austria</td>\n",
       "    </tr>\n",
       "    <tr>\n",
       "      <th>4</th>\n",
       "      <td>Vienna</td>\n",
       "      <td>Vienna is the capital of Austria, the cradle o...</td>\n",
       "      <td>https://www.ricksteves.com/europe/austria/vienna</td>\n",
       "      <td>Austria</td>\n",
       "    </tr>\n",
       "  </tbody>\n",
       "</table>\n",
       "</div>"
      ],
      "text/plain": [
       "            city                                       city_summary  \\\n",
       "0  Danube Valley  The Danube is at its romantic best just west o...   \n",
       "1      Hallstatt  Lovable Hallstatt is a tiny town bullied onto ...   \n",
       "2       Salzburg  Thanks to its charmingly preserved old town, s...   \n",
       "3          Tirol  Mountainous Tirol — in Austria's western panha...   \n",
       "4         Vienna  Vienna is the capital of Austria, the cradle o...   \n",
       "\n",
       "                                            city_url  country  \n",
       "0  https://www.ricksteves.com/europe/austria/danu...  Austria  \n",
       "1  https://www.ricksteves.com/europe/austria/hall...  Austria  \n",
       "2  https://www.ricksteves.com/europe/austria/salz...  Austria  \n",
       "3    https://www.ricksteves.com/europe/austria/tirol  Austria  \n",
       "4   https://www.ricksteves.com/europe/austria/vienna  Austria  "
      ]
     },
     "execution_count": 20,
     "metadata": {},
     "output_type": "execute_result"
    }
   ],
   "source": [
    "city_df = pd.DataFrame(city_dicts)\n",
    "city_df.drop('_id', axis=1, inplace=True)\n",
    "city_df.head()"
   ]
  },
  {
   "cell_type": "code",
   "execution_count": 22,
   "metadata": {},
   "outputs": [],
   "source": [
    "# pickle.dump(city_df, open('data/cities.pkl', 'wb'))"
   ]
  },
  {
   "cell_type": "code",
   "execution_count": null,
   "metadata": {},
   "outputs": [],
   "source": [
    "city_df = pickle.load(open('data/cities.pkl', 'rb'))"
   ]
  },
  {
   "cell_type": "code",
   "execution_count": 24,
   "metadata": {},
   "outputs": [
    {
     "data": {
      "text/html": [
       "<div>\n",
       "<style scoped>\n",
       "    .dataframe tbody tr th:only-of-type {\n",
       "        vertical-align: middle;\n",
       "    }\n",
       "\n",
       "    .dataframe tbody tr th {\n",
       "        vertical-align: top;\n",
       "    }\n",
       "\n",
       "    .dataframe thead th {\n",
       "        text-align: right;\n",
       "    }\n",
       "</style>\n",
       "<table border=\"1\" class=\"dataframe\">\n",
       "  <thead>\n",
       "    <tr style=\"text-align: right;\">\n",
       "      <th></th>\n",
       "      <th>city</th>\n",
       "      <th>city_summary</th>\n",
       "      <th>city_url</th>\n",
       "      <th>country</th>\n",
       "    </tr>\n",
       "  </thead>\n",
       "  <tbody>\n",
       "    <tr>\n",
       "      <th>0</th>\n",
       "      <td>Danube Valley</td>\n",
       "      <td>The Danube is at its romantic best just west o...</td>\n",
       "      <td>https://www.ricksteves.com/europe/austria/danu...</td>\n",
       "      <td>Austria</td>\n",
       "    </tr>\n",
       "    <tr>\n",
       "      <th>1</th>\n",
       "      <td>Hallstatt</td>\n",
       "      <td>Lovable Hallstatt is a tiny town bullied onto ...</td>\n",
       "      <td>https://www.ricksteves.com/europe/austria/hall...</td>\n",
       "      <td>Austria</td>\n",
       "    </tr>\n",
       "    <tr>\n",
       "      <th>2</th>\n",
       "      <td>Salzburg</td>\n",
       "      <td>Thanks to its charmingly preserved old town, s...</td>\n",
       "      <td>https://www.ricksteves.com/europe/austria/salz...</td>\n",
       "      <td>Austria</td>\n",
       "    </tr>\n",
       "    <tr>\n",
       "      <th>3</th>\n",
       "      <td>Tirol</td>\n",
       "      <td>Mountainous Tirol — in Austria's western panha...</td>\n",
       "      <td>https://www.ricksteves.com/europe/austria/tirol</td>\n",
       "      <td>Austria</td>\n",
       "    </tr>\n",
       "    <tr>\n",
       "      <th>4</th>\n",
       "      <td>Vienna</td>\n",
       "      <td>Vienna is the capital of Austria, the cradle o...</td>\n",
       "      <td>https://www.ricksteves.com/europe/austria/vienna</td>\n",
       "      <td>Austria</td>\n",
       "    </tr>\n",
       "  </tbody>\n",
       "</table>\n",
       "</div>"
      ],
      "text/plain": [
       "            city                                       city_summary  \\\n",
       "0  Danube Valley  The Danube is at its romantic best just west o...   \n",
       "1      Hallstatt  Lovable Hallstatt is a tiny town bullied onto ...   \n",
       "2       Salzburg  Thanks to its charmingly preserved old town, s...   \n",
       "3          Tirol  Mountainous Tirol — in Austria's western panha...   \n",
       "4         Vienna  Vienna is the capital of Austria, the cradle o...   \n",
       "\n",
       "                                            city_url  country  \n",
       "0  https://www.ricksteves.com/europe/austria/danu...  Austria  \n",
       "1  https://www.ricksteves.com/europe/austria/hall...  Austria  \n",
       "2  https://www.ricksteves.com/europe/austria/salz...  Austria  \n",
       "3    https://www.ricksteves.com/europe/austria/tirol  Austria  \n",
       "4   https://www.ricksteves.com/europe/austria/vienna  Austria  "
      ]
     },
     "execution_count": 24,
     "metadata": {},
     "output_type": "execute_result"
    }
   ],
   "source": [
    "city_df.head()"
   ]
  },
  {
   "cell_type": "markdown",
   "metadata": {},
   "source": [
    "I decided later to collect also collect photos and save them in an image folder."
   ]
  },
  {
   "cell_type": "code",
   "execution_count": 14,
   "metadata": {},
   "outputs": [],
   "source": [
    "for country_url in country_urls:\n",
    "    collect_city_photos(browser, country_url)"
   ]
  },
  {
   "cell_type": "markdown",
   "metadata": {},
   "source": [
    "As ricksteves.com has only short 1-2 paragraph descriptions of each location, I wanted to get a larger set of data. I scraped Wikipedia for an additional summary."
   ]
  },
  {
   "cell_type": "code",
   "execution_count": 25,
   "metadata": {},
   "outputs": [],
   "source": [
    "city_list = list(zip(city_df['city'], city_df['country']))"
   ]
  },
  {
   "cell_type": "code",
   "execution_count": 26,
   "metadata": {},
   "outputs": [
    {
     "data": {
      "text/plain": [
       "[('Danube Valley', 'Austria'),\n",
       " ('Hallstatt', 'Austria'),\n",
       " ('Salzburg', 'Austria'),\n",
       " ('Tirol', 'Austria'),\n",
       " ('Vienna', 'Austria')]"
      ]
     },
     "execution_count": 26,
     "metadata": {},
     "output_type": "execute_result"
    }
   ],
   "source": [
    "city_list[0:5]"
   ]
  },
  {
   "cell_type": "code",
   "execution_count": 27,
   "metadata": {},
   "outputs": [
    {
     "ename": "KeyboardInterrupt",
     "evalue": "",
     "output_type": "error",
     "traceback": [
      "\u001b[0;31m---------------------------------------------------------------------------\u001b[0m",
      "\u001b[0;31mKeyboardInterrupt\u001b[0m                         Traceback (most recent call last)",
      "\u001b[0;32m<ipython-input-27-8c92e12cd784>\u001b[0m in \u001b[0;36m<module>\u001b[0;34m()\u001b[0m\n\u001b[1;32m      2\u001b[0m     \u001b[0mcity\u001b[0m \u001b[0;34m=\u001b[0m \u001b[0mplace\u001b[0m\u001b[0;34m[\u001b[0m\u001b[0;36m0\u001b[0m\u001b[0;34m]\u001b[0m\u001b[0;34m\u001b[0m\u001b[0m\n\u001b[1;32m      3\u001b[0m     \u001b[0mget_wiki_description\u001b[0m\u001b[0;34m(\u001b[0m\u001b[0mbrowser\u001b[0m\u001b[0;34m,\u001b[0m \u001b[0mcity\u001b[0m\u001b[0;34m,\u001b[0m \u001b[0mwiki_collection\u001b[0m\u001b[0;34m)\u001b[0m\u001b[0;34m\u001b[0m\u001b[0m\n\u001b[0;32m----> 4\u001b[0;31m     \u001b[0mtime\u001b[0m\u001b[0;34m.\u001b[0m\u001b[0msleep\u001b[0m\u001b[0;34m(\u001b[0m\u001b[0mnp\u001b[0m\u001b[0;34m.\u001b[0m\u001b[0mrandom\u001b[0m\u001b[0;34m.\u001b[0m\u001b[0mrandint\u001b[0m\u001b[0;34m(\u001b[0m\u001b[0;36m20\u001b[0m\u001b[0;34m,\u001b[0m \u001b[0;36m120\u001b[0m\u001b[0;34m)\u001b[0m\u001b[0;34m)\u001b[0m\u001b[0;34m\u001b[0m\u001b[0m\n\u001b[0m",
      "\u001b[0;31mKeyboardInterrupt\u001b[0m: "
     ]
    }
   ],
   "source": [
    "for place in city_list:\n",
    "    city = place[0]\n",
    "    get_wiki_description(browser, city, wiki_collection)\n",
    "    time.sleep(np.random.randint(20, 120))"
   ]
  },
  {
   "cell_type": "code",
   "execution_count": null,
   "metadata": {},
   "outputs": [],
   "source": [
    "wiki_collection.find_one()"
   ]
  },
  {
   "cell_type": "code",
   "execution_count": null,
   "metadata": {},
   "outputs": [],
   "source": [
    "wiki_df = pd.DataFrame([x for x in wiki_collection.find()])"
   ]
  },
  {
   "cell_type": "code",
   "execution_count": null,
   "metadata": {},
   "outputs": [],
   "source": [
    "wiki_df.head()"
   ]
  },
  {
   "cell_type": "code",
   "execution_count": null,
   "metadata": {},
   "outputs": [],
   "source": [
    "wiki_city_df.drop('_id', axis=1, inplace=True)\n",
    "wiki_city_df.drop_duplicates(inplace=True)\n",
    "wiki_city_df.head()"
   ]
  },
  {
   "cell_type": "code",
   "execution_count": null,
   "metadata": {},
   "outputs": [],
   "source": [
    "for row in wiki_city_df['text']:\n",
    "    print(row[:300])\n",
    "    print('\\n')"
   ]
  },
  {
   "cell_type": "markdown",
   "metadata": {},
   "source": [
    "Since the data set is small enough and it is possible that wikipedia sent to a different link than intended (due to ambiguity), I will do a visual check that the summary is the summary I want.\n",
    "\n",
    "Cities I need to recollect:\n",
    "* Danube Valley, Austria (references the river, I want to get the valley (city such as Melk))\n",
    "* Split, Croatia\n",
    "* Bath, England\n",
    "* Durham, Englang\n",
    "* Glastonbury & Wells, England (may need to get for each city?)\n",
    "* Stonehenge & Avebury, England (may need to refer to each city/landmark)\n",
    "* Stratford, England\n",
    "* Warwick & Coventry, England\n",
    "* Windsor, England\n",
    "* D-Day Beaches, France\n",
    "* Reims & Verdun, France (may need to get for each city)\n",
    "* Rhine Valley, Germany\n",
    "* Hydra, Greece\n",
    "* Olympia, Greece\n",
    "* Connemara & County Mayo, Ireland\n",
    "* Country Clare & the Burren, Ireland\n",
    "* Kenmare & the Ring of Kerry, Ireland\n",
    "* Kilkenny & the Rock of Cashel, Ireland\n",
    "* Kinsale & Cobh, Ireland\n",
    "* Portrush & the Antrim Coast, Ireland\n",
    "* Waterford & County Wexford, Ireland\n",
    "* Italian Lakes, Italy\n",
    "* Pompeii & Herculaneum, Italy\n",
    "* Tuscan Hill Towns, Italy\n",
    "* Edam, Netherlands\n",
    "* Norwegian Fjords, Norway\n",
    "* Nazaré, Portugal\n",
    "* Óbidos, Portugal\n",
    "* Oban, Mull & Iona, Scotland\n",
    "* Córdoba, Spain\n",
    "* Toledo, Spain\n",
    "* White Hill Towns, Spain\n",
    "* Lake Geneva & French Switzerland, Switzerland"
   ]
  },
  {
   "cell_type": "code",
   "execution_count": null,
   "metadata": {},
   "outputs": [],
   "source": [
    "city_wiki = [('Danube Valley', 'Melk'),\n",
    "             ('Split', 'Split,_Croatia'), ('Bath', 'Bath,_Somerset'), ('Durham', 'Durham,_England'), \n",
    "             ('Glastonbury & Wells', 'Glastonbury'), ('Stonehenge & Avebury', 'Avebury'),\n",
    "             ('Stratford', 'Stratford-upon-Avon'), ('Warwick & Coventry', 'Coventry'),\n",
    "             ('Windsor', 'Windsor,_Berkshire'), ('D-Day Beaches', 'Normandy_landings'),\n",
    "             ('Reims & Verdun', 'Reims'), ('Rhine Valley', 'Mörsbach'), ('Hydra', 'Hydra_(island)'),\n",
    "             ('Olympia', 'Olympia,_Greece'), ('Connemara & County Mayo', 'Connemara'),\n",
    "             ('Country Clare & the Burren', 'The_Burren'), ('Kenmare & the Ring of Kerry', 'Kenmare'),\n",
    "             ('Kilkenny & the Rock of Cashel', 'Kilkenny'), ('Kinsale & Cobh', 'Cobh'),\n",
    "             ('Portrush & the Antrim Coast', 'Portrush'), ('Waterford & County Wexford', 'Waterford'),\n",
    "             ('Italian Lakes', 'Varenna'), ('Pompeii & Herculaneum', 'Pompeii'),\n",
    "             ('Tuscan Hill Towns', 'Montepulciano'), ('Edam', 'Edam,_Netherlands'),\n",
    "             ('Norwegian Fjords', 'Sognefjord'), ('Nazaré', 'Nazaré,_Portugal'),\n",
    "             ('Óbidos', 'Óbidos,_Portugal'), ('Oban, Mull & Iona', 'Iona'), ('Córdoba', 'Córdoba,_Spain'),\n",
    "             ('Toledo', 'Toledo,_Spain'), ('White Hill Towns', 'Ronda'),\n",
    "             ('Lake Geneva & French Switzerland', 'Lake_Geneva'),\n",
    "            ]"
   ]
  },
  {
   "cell_type": "code",
   "execution_count": null,
   "metadata": {},
   "outputs": [],
   "source": [
    "for city in city_wiki:\n",
    "    replace_df_text(browser, city, wiki_city_df)\n",
    "    time.sleep(np.random.randint(10,30))\n",
    "    print(f'Replaced {city[0]}')"
   ]
  },
  {
   "cell_type": "markdown",
   "metadata": {},
   "source": [
    "Save the wikipedia data as a pickle file."
   ]
  },
  {
   "cell_type": "code",
   "execution_count": 33,
   "metadata": {},
   "outputs": [],
   "source": [
    "#pickle.dump(wiki_df, open('data/wiki_data.pkl', 'wb'))\n",
    "wiki_city_df = pickle.load(open('data/wiki_data.pkl', 'rb'))"
   ]
  },
  {
   "cell_type": "markdown",
   "metadata": {},
   "source": [
    "Merge the two city data frames (`city_df` and `wiki_city_df`) together."
   ]
  },
  {
   "cell_type": "code",
   "execution_count": 37,
   "metadata": {},
   "outputs": [
    {
     "data": {
      "text/html": [
       "<div>\n",
       "<style scoped>\n",
       "    .dataframe tbody tr th:only-of-type {\n",
       "        vertical-align: middle;\n",
       "    }\n",
       "\n",
       "    .dataframe tbody tr th {\n",
       "        vertical-align: top;\n",
       "    }\n",
       "\n",
       "    .dataframe thead th {\n",
       "        text-align: right;\n",
       "    }\n",
       "</style>\n",
       "<table border=\"1\" class=\"dataframe\">\n",
       "  <thead>\n",
       "    <tr style=\"text-align: right;\">\n",
       "      <th></th>\n",
       "      <th>city</th>\n",
       "      <th>city_summary</th>\n",
       "      <th>city_url</th>\n",
       "      <th>country</th>\n",
       "      <th>_id</th>\n",
       "      <th>text</th>\n",
       "    </tr>\n",
       "  </thead>\n",
       "  <tbody>\n",
       "    <tr>\n",
       "      <th>0</th>\n",
       "      <td>Danube Valley</td>\n",
       "      <td>The Danube is at its romantic best just west o...</td>\n",
       "      <td>https://www.ricksteves.com/europe/austria/danu...</td>\n",
       "      <td>Austria</td>\n",
       "      <td>5d11974d6e7463927710e428</td>\n",
       "      <td>\\nThe Danube (/ˈdæn.juːb/ DAN-yoob; known by v...</td>\n",
       "    </tr>\n",
       "    <tr>\n",
       "      <th>1</th>\n",
       "      <td>Danube Valley</td>\n",
       "      <td>The Danube is at its romantic best just west o...</td>\n",
       "      <td>https://www.ricksteves.com/europe/austria/danu...</td>\n",
       "      <td>Austria</td>\n",
       "      <td>5d1197626e7463927710e429</td>\n",
       "      <td>\\nThe Danube (/ˈdæn.juːb/ DAN-yoob; known by v...</td>\n",
       "    </tr>\n",
       "    <tr>\n",
       "      <th>2</th>\n",
       "      <td>Hallstatt</td>\n",
       "      <td>Lovable Hallstatt is a tiny town bullied onto ...</td>\n",
       "      <td>https://www.ricksteves.com/europe/austria/hall...</td>\n",
       "      <td>Austria</td>\n",
       "      <td>5d1197936e7463927710e42a</td>\n",
       "      <td>Hallstatt (German: [ˈhalʃtat]; Central Bavaria...</td>\n",
       "    </tr>\n",
       "    <tr>\n",
       "      <th>3</th>\n",
       "      <td>Salzburg</td>\n",
       "      <td>Thanks to its charmingly preserved old town, s...</td>\n",
       "      <td>https://www.ricksteves.com/europe/austria/salz...</td>\n",
       "      <td>Austria</td>\n",
       "      <td>5d1197ff6e7463927710e42b</td>\n",
       "      <td>Salzburg (German: [ˈzaltsbʊɐ̯k] (listen);[note...</td>\n",
       "    </tr>\n",
       "    <tr>\n",
       "      <th>4</th>\n",
       "      <td>Tirol</td>\n",
       "      <td>Mountainous Tirol — in Austria's western panha...</td>\n",
       "      <td>https://www.ricksteves.com/europe/austria/tirol</td>\n",
       "      <td>Austria</td>\n",
       "      <td>5d1198416e7463927710e42c</td>\n",
       "      <td>\\nTyrol (/tɪˈroʊl, taɪ-, ˈtaɪroʊl/;[1] histori...</td>\n",
       "    </tr>\n",
       "    <tr>\n",
       "      <th>5</th>\n",
       "      <td>Vienna</td>\n",
       "      <td>Vienna is the capital of Austria, the cradle o...</td>\n",
       "      <td>https://www.ricksteves.com/europe/austria/vienna</td>\n",
       "      <td>Austria</td>\n",
       "      <td>5d1195dc0d668bb1db943136</td>\n",
       "      <td>\\nVienna (/viˈɛnə/ (listen);[11][12] German: W...</td>\n",
       "    </tr>\n",
       "    <tr>\n",
       "      <th>6</th>\n",
       "      <td>Vienna</td>\n",
       "      <td>Vienna is the capital of Austria, the cradle o...</td>\n",
       "      <td>https://www.ricksteves.com/europe/austria/vienna</td>\n",
       "      <td>Austria</td>\n",
       "      <td>5d11970b6e7463927710e427</td>\n",
       "      <td>\\nVienna (/viˈɛnə/ (listen);[11][12] German: W...</td>\n",
       "    </tr>\n",
       "    <tr>\n",
       "      <th>7</th>\n",
       "      <td>Vienna</td>\n",
       "      <td>Vienna is the capital of Austria, the cradle o...</td>\n",
       "      <td>https://www.ricksteves.com/europe/austria/vienna</td>\n",
       "      <td>Austria</td>\n",
       "      <td>5d11988a6e7463927710e42d</td>\n",
       "      <td>\\nVienna (/viˈɛnə/ (listen);[11][12] German: W...</td>\n",
       "    </tr>\n",
       "    <tr>\n",
       "      <th>8</th>\n",
       "      <td>Antwerp</td>\n",
       "      <td>Antwerp (Antwerpen in Dutch, Anvers in French)...</td>\n",
       "      <td>https://www.ricksteves.com/europe/belgium/antwerp</td>\n",
       "      <td>Belgium</td>\n",
       "      <td>5d1198cd6e7463927710e42e</td>\n",
       "      <td>\\nAntwerp (/ˈæntwɜːrp/ (listen); Dutch: Antwer...</td>\n",
       "    </tr>\n",
       "    <tr>\n",
       "      <th>9</th>\n",
       "      <td>Bruges</td>\n",
       "      <td>With pointy gilded architecture, stay-a-while ...</td>\n",
       "      <td>https://www.ricksteves.com/europe/belgium/bruges</td>\n",
       "      <td>Belgium</td>\n",
       "      <td>5d1198ef6e7463927710e42f</td>\n",
       "      <td>\\nBruges (/bruːʒ/, French: [bʁyʒ]; Flemish: Br...</td>\n",
       "    </tr>\n",
       "  </tbody>\n",
       "</table>\n",
       "</div>"
      ],
      "text/plain": [
       "            city                                       city_summary  \\\n",
       "0  Danube Valley  The Danube is at its romantic best just west o...   \n",
       "1  Danube Valley  The Danube is at its romantic best just west o...   \n",
       "2      Hallstatt  Lovable Hallstatt is a tiny town bullied onto ...   \n",
       "3       Salzburg  Thanks to its charmingly preserved old town, s...   \n",
       "4          Tirol  Mountainous Tirol — in Austria's western panha...   \n",
       "5         Vienna  Vienna is the capital of Austria, the cradle o...   \n",
       "6         Vienna  Vienna is the capital of Austria, the cradle o...   \n",
       "7         Vienna  Vienna is the capital of Austria, the cradle o...   \n",
       "8        Antwerp  Antwerp (Antwerpen in Dutch, Anvers in French)...   \n",
       "9         Bruges  With pointy gilded architecture, stay-a-while ...   \n",
       "\n",
       "                                            city_url  country  \\\n",
       "0  https://www.ricksteves.com/europe/austria/danu...  Austria   \n",
       "1  https://www.ricksteves.com/europe/austria/danu...  Austria   \n",
       "2  https://www.ricksteves.com/europe/austria/hall...  Austria   \n",
       "3  https://www.ricksteves.com/europe/austria/salz...  Austria   \n",
       "4    https://www.ricksteves.com/europe/austria/tirol  Austria   \n",
       "5   https://www.ricksteves.com/europe/austria/vienna  Austria   \n",
       "6   https://www.ricksteves.com/europe/austria/vienna  Austria   \n",
       "7   https://www.ricksteves.com/europe/austria/vienna  Austria   \n",
       "8  https://www.ricksteves.com/europe/belgium/antwerp  Belgium   \n",
       "9   https://www.ricksteves.com/europe/belgium/bruges  Belgium   \n",
       "\n",
       "                        _id                                               text  \n",
       "0  5d11974d6e7463927710e428  \\nThe Danube (/ˈdæn.juːb/ DAN-yoob; known by v...  \n",
       "1  5d1197626e7463927710e429  \\nThe Danube (/ˈdæn.juːb/ DAN-yoob; known by v...  \n",
       "2  5d1197936e7463927710e42a  Hallstatt (German: [ˈhalʃtat]; Central Bavaria...  \n",
       "3  5d1197ff6e7463927710e42b  Salzburg (German: [ˈzaltsbʊɐ̯k] (listen);[note...  \n",
       "4  5d1198416e7463927710e42c  \\nTyrol (/tɪˈroʊl, taɪ-, ˈtaɪroʊl/;[1] histori...  \n",
       "5  5d1195dc0d668bb1db943136  \\nVienna (/viˈɛnə/ (listen);[11][12] German: W...  \n",
       "6  5d11970b6e7463927710e427  \\nVienna (/viˈɛnə/ (listen);[11][12] German: W...  \n",
       "7  5d11988a6e7463927710e42d  \\nVienna (/viˈɛnə/ (listen);[11][12] German: W...  \n",
       "8  5d1198cd6e7463927710e42e  \\nAntwerp (/ˈæntwɜːrp/ (listen); Dutch: Antwer...  \n",
       "9  5d1198ef6e7463927710e42f  \\nBruges (/bruːʒ/, French: [bʁyʒ]; Flemish: Br...  "
      ]
     },
     "execution_count": 37,
     "metadata": {},
     "output_type": "execute_result"
    }
   ],
   "source": [
    "combined_descriptions_df = pd.merge(city_df, wiki_city_df, how='left', on='city')\n",
    "combined_descriptions_df.head(10)"
   ]
  },
  {
   "cell_type": "code",
   "execution_count": 38,
   "metadata": {},
   "outputs": [],
   "source": [
    "combined_descriptions_df.drop('_id', axis=1, inplace=True)"
   ]
  },
  {
   "cell_type": "code",
   "execution_count": 39,
   "metadata": {},
   "outputs": [
    {
     "data": {
      "text/html": [
       "<div>\n",
       "<style scoped>\n",
       "    .dataframe tbody tr th:only-of-type {\n",
       "        vertical-align: middle;\n",
       "    }\n",
       "\n",
       "    .dataframe tbody tr th {\n",
       "        vertical-align: top;\n",
       "    }\n",
       "\n",
       "    .dataframe thead th {\n",
       "        text-align: right;\n",
       "    }\n",
       "</style>\n",
       "<table border=\"1\" class=\"dataframe\">\n",
       "  <thead>\n",
       "    <tr style=\"text-align: right;\">\n",
       "      <th></th>\n",
       "      <th>city</th>\n",
       "      <th>city_summary</th>\n",
       "      <th>city_url</th>\n",
       "      <th>country</th>\n",
       "      <th>text</th>\n",
       "    </tr>\n",
       "  </thead>\n",
       "  <tbody>\n",
       "    <tr>\n",
       "      <th>0</th>\n",
       "      <td>Danube Valley</td>\n",
       "      <td>The Danube is at its romantic best just west o...</td>\n",
       "      <td>https://www.ricksteves.com/europe/austria/danu...</td>\n",
       "      <td>Austria</td>\n",
       "      <td>\\nThe Danube (/ˈdæn.juːb/ DAN-yoob; known by v...</td>\n",
       "    </tr>\n",
       "    <tr>\n",
       "      <th>1</th>\n",
       "      <td>Danube Valley</td>\n",
       "      <td>The Danube is at its romantic best just west o...</td>\n",
       "      <td>https://www.ricksteves.com/europe/austria/danu...</td>\n",
       "      <td>Austria</td>\n",
       "      <td>\\nThe Danube (/ˈdæn.juːb/ DAN-yoob; known by v...</td>\n",
       "    </tr>\n",
       "    <tr>\n",
       "      <th>2</th>\n",
       "      <td>Hallstatt</td>\n",
       "      <td>Lovable Hallstatt is a tiny town bullied onto ...</td>\n",
       "      <td>https://www.ricksteves.com/europe/austria/hall...</td>\n",
       "      <td>Austria</td>\n",
       "      <td>Hallstatt (German: [ˈhalʃtat]; Central Bavaria...</td>\n",
       "    </tr>\n",
       "    <tr>\n",
       "      <th>3</th>\n",
       "      <td>Salzburg</td>\n",
       "      <td>Thanks to its charmingly preserved old town, s...</td>\n",
       "      <td>https://www.ricksteves.com/europe/austria/salz...</td>\n",
       "      <td>Austria</td>\n",
       "      <td>Salzburg (German: [ˈzaltsbʊɐ̯k] (listen);[note...</td>\n",
       "    </tr>\n",
       "    <tr>\n",
       "      <th>4</th>\n",
       "      <td>Tirol</td>\n",
       "      <td>Mountainous Tirol — in Austria's western panha...</td>\n",
       "      <td>https://www.ricksteves.com/europe/austria/tirol</td>\n",
       "      <td>Austria</td>\n",
       "      <td>\\nTyrol (/tɪˈroʊl, taɪ-, ˈtaɪroʊl/;[1] histori...</td>\n",
       "    </tr>\n",
       "    <tr>\n",
       "      <th>5</th>\n",
       "      <td>Vienna</td>\n",
       "      <td>Vienna is the capital of Austria, the cradle o...</td>\n",
       "      <td>https://www.ricksteves.com/europe/austria/vienna</td>\n",
       "      <td>Austria</td>\n",
       "      <td>\\nVienna (/viˈɛnə/ (listen);[11][12] German: W...</td>\n",
       "    </tr>\n",
       "    <tr>\n",
       "      <th>6</th>\n",
       "      <td>Vienna</td>\n",
       "      <td>Vienna is the capital of Austria, the cradle o...</td>\n",
       "      <td>https://www.ricksteves.com/europe/austria/vienna</td>\n",
       "      <td>Austria</td>\n",
       "      <td>\\nVienna (/viˈɛnə/ (listen);[11][12] German: W...</td>\n",
       "    </tr>\n",
       "    <tr>\n",
       "      <th>7</th>\n",
       "      <td>Vienna</td>\n",
       "      <td>Vienna is the capital of Austria, the cradle o...</td>\n",
       "      <td>https://www.ricksteves.com/europe/austria/vienna</td>\n",
       "      <td>Austria</td>\n",
       "      <td>\\nVienna (/viˈɛnə/ (listen);[11][12] German: W...</td>\n",
       "    </tr>\n",
       "    <tr>\n",
       "      <th>8</th>\n",
       "      <td>Antwerp</td>\n",
       "      <td>Antwerp (Antwerpen in Dutch, Anvers in French)...</td>\n",
       "      <td>https://www.ricksteves.com/europe/belgium/antwerp</td>\n",
       "      <td>Belgium</td>\n",
       "      <td>\\nAntwerp (/ˈæntwɜːrp/ (listen); Dutch: Antwer...</td>\n",
       "    </tr>\n",
       "    <tr>\n",
       "      <th>9</th>\n",
       "      <td>Bruges</td>\n",
       "      <td>With pointy gilded architecture, stay-a-while ...</td>\n",
       "      <td>https://www.ricksteves.com/europe/belgium/bruges</td>\n",
       "      <td>Belgium</td>\n",
       "      <td>\\nBruges (/bruːʒ/, French: [bʁyʒ]; Flemish: Br...</td>\n",
       "    </tr>\n",
       "  </tbody>\n",
       "</table>\n",
       "</div>"
      ],
      "text/plain": [
       "            city                                       city_summary  \\\n",
       "0  Danube Valley  The Danube is at its romantic best just west o...   \n",
       "1  Danube Valley  The Danube is at its romantic best just west o...   \n",
       "2      Hallstatt  Lovable Hallstatt is a tiny town bullied onto ...   \n",
       "3       Salzburg  Thanks to its charmingly preserved old town, s...   \n",
       "4          Tirol  Mountainous Tirol — in Austria's western panha...   \n",
       "5         Vienna  Vienna is the capital of Austria, the cradle o...   \n",
       "6         Vienna  Vienna is the capital of Austria, the cradle o...   \n",
       "7         Vienna  Vienna is the capital of Austria, the cradle o...   \n",
       "8        Antwerp  Antwerp (Antwerpen in Dutch, Anvers in French)...   \n",
       "9         Bruges  With pointy gilded architecture, stay-a-while ...   \n",
       "\n",
       "                                            city_url  country  \\\n",
       "0  https://www.ricksteves.com/europe/austria/danu...  Austria   \n",
       "1  https://www.ricksteves.com/europe/austria/danu...  Austria   \n",
       "2  https://www.ricksteves.com/europe/austria/hall...  Austria   \n",
       "3  https://www.ricksteves.com/europe/austria/salz...  Austria   \n",
       "4    https://www.ricksteves.com/europe/austria/tirol  Austria   \n",
       "5   https://www.ricksteves.com/europe/austria/vienna  Austria   \n",
       "6   https://www.ricksteves.com/europe/austria/vienna  Austria   \n",
       "7   https://www.ricksteves.com/europe/austria/vienna  Austria   \n",
       "8  https://www.ricksteves.com/europe/belgium/antwerp  Belgium   \n",
       "9   https://www.ricksteves.com/europe/belgium/bruges  Belgium   \n",
       "\n",
       "                                                text  \n",
       "0  \\nThe Danube (/ˈdæn.juːb/ DAN-yoob; known by v...  \n",
       "1  \\nThe Danube (/ˈdæn.juːb/ DAN-yoob; known by v...  \n",
       "2  Hallstatt (German: [ˈhalʃtat]; Central Bavaria...  \n",
       "3  Salzburg (German: [ˈzaltsbʊɐ̯k] (listen);[note...  \n",
       "4  \\nTyrol (/tɪˈroʊl, taɪ-, ˈtaɪroʊl/;[1] histori...  \n",
       "5  \\nVienna (/viˈɛnə/ (listen);[11][12] German: W...  \n",
       "6  \\nVienna (/viˈɛnə/ (listen);[11][12] German: W...  \n",
       "7  \\nVienna (/viˈɛnə/ (listen);[11][12] German: W...  \n",
       "8  \\nAntwerp (/ˈæntwɜːrp/ (listen); Dutch: Antwer...  \n",
       "9  \\nBruges (/bruːʒ/, French: [bʁyʒ]; Flemish: Br...  "
      ]
     },
     "execution_count": 39,
     "metadata": {},
     "output_type": "execute_result"
    }
   ],
   "source": [
    "combined_descriptions_df.head(10)"
   ]
  },
  {
   "cell_type": "code",
   "execution_count": 40,
   "metadata": {},
   "outputs": [],
   "source": [
    "# pickle.dump(combined_descriptions_df, open('data/combined_cities.pkl', 'wb'))\n",
    "combined_descriptions_df = pickle.load(open('data/combined_cities.pkl', 'rb'))"
   ]
  },
  {
   "cell_type": "code",
   "execution_count": 41,
   "metadata": {},
   "outputs": [
    {
     "data": {
      "text/html": [
       "<div>\n",
       "<style scoped>\n",
       "    .dataframe tbody tr th:only-of-type {\n",
       "        vertical-align: middle;\n",
       "    }\n",
       "\n",
       "    .dataframe tbody tr th {\n",
       "        vertical-align: top;\n",
       "    }\n",
       "\n",
       "    .dataframe thead th {\n",
       "        text-align: right;\n",
       "    }\n",
       "</style>\n",
       "<table border=\"1\" class=\"dataframe\">\n",
       "  <thead>\n",
       "    <tr style=\"text-align: right;\">\n",
       "      <th></th>\n",
       "      <th>city</th>\n",
       "      <th>city_summary</th>\n",
       "      <th>city_url</th>\n",
       "      <th>country</th>\n",
       "      <th>text</th>\n",
       "    </tr>\n",
       "  </thead>\n",
       "  <tbody>\n",
       "    <tr>\n",
       "      <th>0</th>\n",
       "      <td>Danube Valley</td>\n",
       "      <td>The Danube is at its romantic best just west o...</td>\n",
       "      <td>https://www.ricksteves.com/europe/austria/danu...</td>\n",
       "      <td>Austria</td>\n",
       "      <td>\\nThe Danube (/ˈdæn.juːb/ DAN-yoob; known by v...</td>\n",
       "    </tr>\n",
       "    <tr>\n",
       "      <th>1</th>\n",
       "      <td>Danube Valley</td>\n",
       "      <td>The Danube is at its romantic best just west o...</td>\n",
       "      <td>https://www.ricksteves.com/europe/austria/danu...</td>\n",
       "      <td>Austria</td>\n",
       "      <td>\\nThe Danube (/ˈdæn.juːb/ DAN-yoob; known by v...</td>\n",
       "    </tr>\n",
       "    <tr>\n",
       "      <th>2</th>\n",
       "      <td>Hallstatt</td>\n",
       "      <td>Lovable Hallstatt is a tiny town bullied onto ...</td>\n",
       "      <td>https://www.ricksteves.com/europe/austria/hall...</td>\n",
       "      <td>Austria</td>\n",
       "      <td>Hallstatt (German: [ˈhalʃtat]; Central Bavaria...</td>\n",
       "    </tr>\n",
       "    <tr>\n",
       "      <th>3</th>\n",
       "      <td>Salzburg</td>\n",
       "      <td>Thanks to its charmingly preserved old town, s...</td>\n",
       "      <td>https://www.ricksteves.com/europe/austria/salz...</td>\n",
       "      <td>Austria</td>\n",
       "      <td>Salzburg (German: [ˈzaltsbʊɐ̯k] (listen);[note...</td>\n",
       "    </tr>\n",
       "    <tr>\n",
       "      <th>4</th>\n",
       "      <td>Tirol</td>\n",
       "      <td>Mountainous Tirol — in Austria's western panha...</td>\n",
       "      <td>https://www.ricksteves.com/europe/austria/tirol</td>\n",
       "      <td>Austria</td>\n",
       "      <td>\\nTyrol (/tɪˈroʊl, taɪ-, ˈtaɪroʊl/;[1] histori...</td>\n",
       "    </tr>\n",
       "  </tbody>\n",
       "</table>\n",
       "</div>"
      ],
      "text/plain": [
       "            city                                       city_summary  \\\n",
       "0  Danube Valley  The Danube is at its romantic best just west o...   \n",
       "1  Danube Valley  The Danube is at its romantic best just west o...   \n",
       "2      Hallstatt  Lovable Hallstatt is a tiny town bullied onto ...   \n",
       "3       Salzburg  Thanks to its charmingly preserved old town, s...   \n",
       "4          Tirol  Mountainous Tirol — in Austria's western panha...   \n",
       "\n",
       "                                            city_url  country  \\\n",
       "0  https://www.ricksteves.com/europe/austria/danu...  Austria   \n",
       "1  https://www.ricksteves.com/europe/austria/danu...  Austria   \n",
       "2  https://www.ricksteves.com/europe/austria/hall...  Austria   \n",
       "3  https://www.ricksteves.com/europe/austria/salz...  Austria   \n",
       "4    https://www.ricksteves.com/europe/austria/tirol  Austria   \n",
       "\n",
       "                                                text  \n",
       "0  \\nThe Danube (/ˈdæn.juːb/ DAN-yoob; known by v...  \n",
       "1  \\nThe Danube (/ˈdæn.juːb/ DAN-yoob; known by v...  \n",
       "2  Hallstatt (German: [ˈhalʃtat]; Central Bavaria...  \n",
       "3  Salzburg (German: [ˈzaltsbʊɐ̯k] (listen);[note...  \n",
       "4  \\nTyrol (/tɪˈroʊl, taɪ-, ˈtaɪroʊl/;[1] histori...  "
      ]
     },
     "execution_count": 41,
     "metadata": {},
     "output_type": "execute_result"
    }
   ],
   "source": [
    "combined_descriptions_df.head()"
   ]
  },
  {
   "cell_type": "code",
   "execution_count": null,
   "metadata": {},
   "outputs": [],
   "source": []
  }
 ],
 "metadata": {
  "kernelspec": {
   "display_name": "learn-env",
   "language": "python",
   "name": "learn-env"
  },
  "language_info": {
   "codemirror_mode": {
    "name": "ipython",
    "version": 3
   },
   "file_extension": ".py",
   "mimetype": "text/x-python",
   "name": "python",
   "nbconvert_exporter": "python",
   "pygments_lexer": "ipython3",
   "version": "3.6.6"
  }
 },
 "nbformat": 4,
 "nbformat_minor": 2
}
