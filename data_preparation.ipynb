{
 "cells": [
  {
   "cell_type": "code",
   "execution_count": 1,
   "metadata": {},
   "outputs": [
    {
     "name": "stderr",
     "output_type": "stream",
     "text": [
      "[nltk_data] Downloading package wordnet to\n",
      "[nltk_data]     /Users/kaylischulz/nltk_data...\n",
      "[nltk_data]   Package wordnet is already up-to-date!\n"
     ]
    }
   ],
   "source": [
    "import pandas as pd\n",
    "import numpy as np\n",
    "import pickle\n",
    "import gensim\n",
    "from gensim.utils import simple_preprocess\n",
    "from gensim.parsing.preprocessing import STOPWORDS\n",
    "from nltk.stem import WordNetLemmatizer, SnowballStemmer\n",
    "from nltk.stem.porter import *\n",
    "import nltk\n",
    "nltk.download('wordnet')\n",
    "from text_cleaning import lemmatize_and_stem, preprocess"
   ]
  },
  {
   "cell_type": "code",
   "execution_count": 2,
   "metadata": {},
   "outputs": [
    {
     "data": {
      "text/html": [
       "<div>\n",
       "<style scoped>\n",
       "    .dataframe tbody tr th:only-of-type {\n",
       "        vertical-align: middle;\n",
       "    }\n",
       "\n",
       "    .dataframe tbody tr th {\n",
       "        vertical-align: top;\n",
       "    }\n",
       "\n",
       "    .dataframe thead th {\n",
       "        text-align: right;\n",
       "    }\n",
       "</style>\n",
       "<table border=\"1\" class=\"dataframe\">\n",
       "  <thead>\n",
       "    <tr style=\"text-align: right;\">\n",
       "      <th></th>\n",
       "      <th>country</th>\n",
       "      <th>country_summary</th>\n",
       "    </tr>\n",
       "  </thead>\n",
       "  <tbody>\n",
       "    <tr>\n",
       "      <th>0</th>\n",
       "      <td>Austria</td>\n",
       "      <td>Small, landlocked Austria offers alpine scener...</td>\n",
       "    </tr>\n",
       "    <tr>\n",
       "      <th>1</th>\n",
       "      <td>Belgium</td>\n",
       "      <td>Belgium falls through the cracks. Wedged betwe...</td>\n",
       "    </tr>\n",
       "    <tr>\n",
       "      <th>2</th>\n",
       "      <td>Bosnia-Herzegovina</td>\n",
       "      <td>Apart from the tragic way it separated from Yu...</td>\n",
       "    </tr>\n",
       "    <tr>\n",
       "      <th>3</th>\n",
       "      <td>Bulgaria</td>\n",
       "      <td>Endearing, surprising Bulgaria is a rewarding ...</td>\n",
       "    </tr>\n",
       "    <tr>\n",
       "      <th>4</th>\n",
       "      <td>Croatia</td>\n",
       "      <td>With thousands of miles of seafront and more t...</td>\n",
       "    </tr>\n",
       "  </tbody>\n",
       "</table>\n",
       "</div>"
      ],
      "text/plain": [
       "              country                                    country_summary\n",
       "0             Austria  Small, landlocked Austria offers alpine scener...\n",
       "1             Belgium  Belgium falls through the cracks. Wedged betwe...\n",
       "2  Bosnia-Herzegovina  Apart from the tragic way it separated from Yu...\n",
       "3            Bulgaria  Endearing, surprising Bulgaria is a rewarding ...\n",
       "4             Croatia  With thousands of miles of seafront and more t..."
      ]
     },
     "execution_count": 2,
     "metadata": {},
     "output_type": "execute_result"
    }
   ],
   "source": [
    "countries_df = pickle.load(open('countries.pkl', 'rb'))\n",
    "countries_df.head()"
   ]
  },
  {
   "cell_type": "code",
   "execution_count": 3,
   "metadata": {},
   "outputs": [
    {
     "data": {
      "text/html": [
       "<div>\n",
       "<style scoped>\n",
       "    .dataframe tbody tr th:only-of-type {\n",
       "        vertical-align: middle;\n",
       "    }\n",
       "\n",
       "    .dataframe tbody tr th {\n",
       "        vertical-align: top;\n",
       "    }\n",
       "\n",
       "    .dataframe thead th {\n",
       "        text-align: right;\n",
       "    }\n",
       "</style>\n",
       "<table border=\"1\" class=\"dataframe\">\n",
       "  <thead>\n",
       "    <tr style=\"text-align: right;\">\n",
       "      <th></th>\n",
       "      <th>city</th>\n",
       "      <th>city_summary</th>\n",
       "      <th>country</th>\n",
       "    </tr>\n",
       "  </thead>\n",
       "  <tbody>\n",
       "    <tr>\n",
       "      <th>0</th>\n",
       "      <td>Danube Valley</td>\n",
       "      <td>The Danube is at its romantic best just west o...</td>\n",
       "      <td>Austria</td>\n",
       "    </tr>\n",
       "    <tr>\n",
       "      <th>1</th>\n",
       "      <td>Hallstatt</td>\n",
       "      <td>Lovable Hallstatt is a tiny town bullied onto ...</td>\n",
       "      <td>Austria</td>\n",
       "    </tr>\n",
       "    <tr>\n",
       "      <th>2</th>\n",
       "      <td>Salzburg</td>\n",
       "      <td>Thanks to its charmingly preserved old town, s...</td>\n",
       "      <td>Austria</td>\n",
       "    </tr>\n",
       "    <tr>\n",
       "      <th>3</th>\n",
       "      <td>Tirol</td>\n",
       "      <td>Mountainous Tirol — in Austria's western panha...</td>\n",
       "      <td>Austria</td>\n",
       "    </tr>\n",
       "    <tr>\n",
       "      <th>4</th>\n",
       "      <td>Vienna</td>\n",
       "      <td>Vienna is the capital of Austria, the cradle o...</td>\n",
       "      <td>Austria</td>\n",
       "    </tr>\n",
       "  </tbody>\n",
       "</table>\n",
       "</div>"
      ],
      "text/plain": [
       "            city                                       city_summary  country\n",
       "0  Danube Valley  The Danube is at its romantic best just west o...  Austria\n",
       "1      Hallstatt  Lovable Hallstatt is a tiny town bullied onto ...  Austria\n",
       "2       Salzburg  Thanks to its charmingly preserved old town, s...  Austria\n",
       "3          Tirol  Mountainous Tirol — in Austria's western panha...  Austria\n",
       "4         Vienna  Vienna is the capital of Austria, the cradle o...  Austria"
      ]
     },
     "execution_count": 3,
     "metadata": {},
     "output_type": "execute_result"
    }
   ],
   "source": [
    "cities_df = pickle.load(open('cities.pkl', 'rb'))\n",
    "cities_df.head()"
   ]
  },
  {
   "cell_type": "code",
   "execution_count": 4,
   "metadata": {},
   "outputs": [
    {
     "data": {
      "text/plain": [
       "\"Small, landlocked Austria offers alpine scenery, world-class museums, cobbled quaintness, and Wiener schnitzel. Unlike Germany, its industrious neighbor to the northwest, Austria is content to bask in its good living and elegant, opulent past as the former head of one of Europe's grandest empires. Austrians tend to be relaxed, gregarious people who love the outdoors as much as a good cup of coffee in a café.\""
      ]
     },
     "execution_count": 4,
     "metadata": {},
     "output_type": "execute_result"
    }
   ],
   "source": [
    "test_sample = countries_df.iloc[0]['country_summary']\n",
    "test_sample"
   ]
  },
  {
   "cell_type": "code",
   "execution_count": 5,
   "metadata": {},
   "outputs": [
    {
     "name": "stdout",
     "output_type": "stream",
     "text": [
      "Original:\n",
      "['Small,', 'landlocked', 'Austria', 'offers', 'alpine', 'scenery,', 'world-class', 'museums,', 'cobbled', 'quaintness,', 'and', 'Wiener', 'schnitzel.', 'Unlike', 'Germany,', 'its', 'industrious', 'neighbor', 'to', 'the', 'northwest,', 'Austria', 'is', 'content', 'to', 'bask', 'in', 'its', 'good', 'living', 'and', 'elegant,', 'opulent', 'past', 'as', 'the', 'former', 'head', 'of', 'one', 'of', \"Europe's\", 'grandest', 'empires.', 'Austrians', 'tend', 'to', 'be', 'relaxed,', 'gregarious', 'people', 'who', 'love', 'the', 'outdoors', 'as', 'much', 'as', 'a', 'good', 'cup', 'of', 'coffee', 'in', 'a', 'café.']\n",
      "\n",
      "\n",
      " Tokenized and Lemmatized:\n",
      "['small', 'landlock', 'austria', 'offer', 'alpin', 'sceneri', 'world', 'class', 'museum', 'cobbl', 'quaint', 'wiener', 'schnitzel', 'unlik', 'germani', 'industri', 'neighbor', 'northwest', 'austria', 'content', 'bask', 'good', 'live', 'eleg', 'opul', 'past', 'head', 'europ', 'grandest', 'empir', 'austrian', 'tend', 'relax', 'gregari', 'peopl', 'love', 'outdoor', 'good', 'cup', 'coffe', 'café']\n"
     ]
    }
   ],
   "source": [
    "print('Original:')\n",
    "words = test_sample.split(' ')\n",
    "print(words)\n",
    "print('\\n\\n Tokenized and Lemmatized:')\n",
    "print(preprocess(test_sample))"
   ]
  },
  {
   "cell_type": "code",
   "execution_count": 6,
   "metadata": {},
   "outputs": [
    {
     "data": {
      "text/plain": [
       "0     [danub, romant, best, west, vienna, mix, cruis...\n",
       "1     [lovabl, hallstatt, tini, town, bulli, ledg, s...\n",
       "2     [thank, charmingli, preserv, old, town, splend...\n",
       "3     [mountain, tirol, austria, western, panhandl, ...\n",
       "4     [vienna, capit, austria, cradl, classic, music...\n",
       "5     [antwerp, antwerpen, dutch, anver, french, bel...\n",
       "12    [pointi, gild, architectur, stay, café, vivid,...\n",
       "13    [year, ago, brussel, nice, place, stop, buy, w...\n",
       "27    [ghent, ooz, cobbl, charm, like, rival, bruge,...\n",
       "28    [despit, scar, war, mostar, stun, straddl, ban...\n",
       "Name: city_summary, dtype: object"
      ]
     },
     "execution_count": 6,
     "metadata": {},
     "output_type": "execute_result"
    }
   ],
   "source": [
    "processed_countries = cities_df['city_summary'].map(preprocess)\n",
    "processed_countries[:10]"
   ]
  },
  {
   "cell_type": "code",
   "execution_count": 7,
   "metadata": {},
   "outputs": [],
   "source": [
    "dictionary_bow = gensim.corpora.Dictionary(processed_countries)"
   ]
  },
  {
   "cell_type": "code",
   "execution_count": 8,
   "metadata": {},
   "outputs": [],
   "source": [
    "dictionary_bow.filter_extremes(no_below=20, no_above=0.15)"
   ]
  },
  {
   "cell_type": "code",
   "execution_count": 9,
   "metadata": {},
   "outputs": [],
   "source": [
    "bow_corpus = [dictionary_bow.doc2bow(country) for country in processed_countries]"
   ]
  },
  {
   "cell_type": "code",
   "execution_count": 10,
   "metadata": {},
   "outputs": [],
   "source": [
    "tfidf = gensim.models.TfidfModel(bow_corpus)\n",
    "corpus_tfidf = tfidf[bow_corpus]"
   ]
  },
  {
   "cell_type": "code",
   "execution_count": 11,
   "metadata": {},
   "outputs": [],
   "source": [
    "lda_model = gensim.models.LdaMulticore(bow_corpus, num_topics=10,\n",
    "                                       id2word=dictionary_bow, passes=20,\n",
    "                                       workers=1, alpha=.5)"
   ]
  },
  {
   "cell_type": "code",
   "execution_count": 12,
   "metadata": {},
   "outputs": [
    {
     "name": "stdout",
     "output_type": "stream",
     "text": [
      "Topic: 0 \n",
      "Words: 0.303*\"place\" + 0.277*\"mediev\" + 0.186*\"café\" + 0.058*\"center\" + 0.046*\"fun\" + 0.034*\"line\" + 0.032*\"travel\" + 0.012*\"year\" + 0.009*\"experi\" + 0.006*\"free\"\n",
      "Topic: 1 \n",
      "Words: 0.252*\"coast\" + 0.217*\"beach\" + 0.202*\"franc\" + 0.115*\"mountain\" + 0.063*\"travel\" + 0.055*\"mile\" + 0.046*\"beauti\" + 0.006*\"ll\" + 0.005*\"north\" + 0.005*\"feel\"\n",
      "Topic: 2 \n",
      "Words: 0.304*\"visit\" + 0.230*\"ruin\" + 0.156*\"line\" + 0.147*\"mile\" + 0.066*\"experi\" + 0.037*\"explor\" + 0.010*\"year\" + 0.006*\"beauti\" + 0.005*\"north\" + 0.004*\"sit\"\n",
      "Topic: 3 \n",
      "Words: 0.296*\"peopl\" + 0.258*\"live\" + 0.202*\"shop\" + 0.071*\"experi\" + 0.057*\"life\" + 0.035*\"line\" + 0.024*\"café\" + 0.010*\"travel\" + 0.006*\"build\" + 0.005*\"fun\"\n",
      "Topic: 4 \n",
      "Words: 0.191*\"today\" + 0.177*\"cathedr\" + 0.152*\"build\" + 0.135*\"year\" + 0.107*\"fun\" + 0.080*\"sit\" + 0.060*\"travel\" + 0.018*\"live\" + 0.017*\"surround\" + 0.016*\"feel\"\n",
      "Topic: 5 \n",
      "Words: 0.261*\"feel\" + 0.260*\"visitor\" + 0.190*\"romant\" + 0.161*\"set\" + 0.071*\"beauti\" + 0.015*\"today\" + 0.009*\"experi\" + 0.003*\"local\" + 0.001*\"roman\" + 0.001*\"mountain\"\n",
      "Topic: 6 \n",
      "Words: 0.407*\"island\" + 0.208*\"explor\" + 0.162*\"surround\" + 0.087*\"sit\" + 0.085*\"beach\" + 0.010*\"set\" + 0.004*\"build\" + 0.001*\"mountain\" + 0.001*\"place\" + 0.001*\"local\"\n",
      "Topic: 7 \n",
      "Words: 0.314*\"sight\" + 0.205*\"free\" + 0.197*\"center\" + 0.132*\"beauti\" + 0.069*\"build\" + 0.026*\"shop\" + 0.007*\"life\" + 0.004*\"visit\" + 0.003*\"set\" + 0.003*\"surround\"\n",
      "Topic: 8 \n",
      "Words: 0.239*\"local\" + 0.194*\"roman\" + 0.191*\"countri\" + 0.183*\"north\" + 0.097*\"ll\" + 0.035*\"travel\" + 0.019*\"year\" + 0.005*\"ruin\" + 0.004*\"visit\" + 0.004*\"peopl\"\n",
      "Topic: 9 \n",
      "Words: 0.265*\"church\" + 0.230*\"mountain\" + 0.190*\"life\" + 0.108*\"ll\" + 0.042*\"experi\" + 0.029*\"surround\" + 0.026*\"build\" + 0.024*\"sight\" + 0.017*\"beauti\" + 0.013*\"mediev\"\n"
     ]
    }
   ],
   "source": [
    "for ind, topic in lda_model.print_topics(-1):\n",
    "    print('Topic: {} \\nWords: {}'.format(ind, topic))"
   ]
  },
  {
   "cell_type": "code",
   "execution_count": 13,
   "metadata": {},
   "outputs": [],
   "source": [
    "lda_model_tfidf = gensim.models.LdaMulticore(corpus_tfidf, num_topics=10, id2word=dictionary_bow, passes=20, workers=1)"
   ]
  },
  {
   "cell_type": "code",
   "execution_count": 14,
   "metadata": {},
   "outputs": [
    {
     "name": "stdout",
     "output_type": "stream",
     "text": [
      "Topic: 0 \n",
      "Words: 0.159*\"mediev\" + 0.138*\"sight\" + 0.130*\"shop\" + 0.063*\"surround\" + 0.059*\"center\" + 0.057*\"set\" + 0.053*\"local\" + 0.040*\"place\" + 0.035*\"explor\" + 0.034*\"today\"\n",
      "Topic: 1 \n",
      "Words: 0.153*\"café\" + 0.126*\"live\" + 0.110*\"peopl\" + 0.066*\"line\" + 0.056*\"build\" + 0.050*\"free\" + 0.050*\"shop\" + 0.049*\"fun\" + 0.046*\"local\" + 0.046*\"life\"\n",
      "Topic: 2 \n",
      "Words: 0.164*\"feel\" + 0.111*\"experi\" + 0.104*\"surround\" + 0.078*\"build\" + 0.073*\"visitor\" + 0.068*\"church\" + 0.058*\"travel\" + 0.043*\"today\" + 0.037*\"shop\" + 0.037*\"mediev\"\n",
      "Topic: 3 \n",
      "Words: 0.164*\"countri\" + 0.134*\"ll\" + 0.126*\"peopl\" + 0.083*\"north\" + 0.078*\"local\" + 0.071*\"fun\" + 0.070*\"today\" + 0.053*\"visitor\" + 0.040*\"visit\" + 0.033*\"year\"\n",
      "Topic: 4 \n",
      "Words: 0.170*\"place\" + 0.169*\"year\" + 0.128*\"today\" + 0.083*\"roman\" + 0.053*\"set\" + 0.047*\"franc\" + 0.038*\"sit\" + 0.037*\"visitor\" + 0.036*\"travel\" + 0.035*\"feel\"\n",
      "Topic: 5 \n",
      "Words: 0.196*\"church\" + 0.128*\"life\" + 0.087*\"ruin\" + 0.079*\"sight\" + 0.070*\"beauti\" + 0.067*\"sit\" + 0.039*\"year\" + 0.035*\"place\" + 0.034*\"explor\" + 0.034*\"build\"\n",
      "Topic: 6 \n",
      "Words: 0.231*\"island\" + 0.182*\"coast\" + 0.096*\"roman\" + 0.077*\"beach\" + 0.065*\"ruin\" + 0.040*\"mediev\" + 0.031*\"center\" + 0.030*\"explor\" + 0.027*\"countri\" + 0.025*\"cathedr\"\n",
      "Topic: 7 \n",
      "Words: 0.106*\"cathedr\" + 0.083*\"franc\" + 0.083*\"mile\" + 0.073*\"free\" + 0.063*\"north\" + 0.062*\"center\" + 0.062*\"travel\" + 0.048*\"explor\" + 0.048*\"visit\" + 0.039*\"build\"\n",
      "Topic: 8 \n",
      "Words: 0.311*\"mountain\" + 0.099*\"visit\" + 0.086*\"set\" + 0.056*\"romant\" + 0.050*\"franc\" + 0.045*\"beauti\" + 0.042*\"sight\" + 0.041*\"line\" + 0.040*\"ll\" + 0.036*\"ruin\"\n",
      "Topic: 9 \n",
      "Words: 0.252*\"romant\" + 0.178*\"visitor\" + 0.123*\"beauti\" + 0.103*\"beach\" + 0.048*\"experi\" + 0.047*\"mediev\" + 0.039*\"café\" + 0.028*\"line\" + 0.023*\"place\" + 0.019*\"north\"\n"
     ]
    }
   ],
   "source": [
    "for ind, topic in lda_model_tfidf.print_topics(-1):\n",
    "    print('Topic: {} \\nWords: {}'.format(ind, topic))"
   ]
  },
  {
   "cell_type": "code",
   "execution_count": 20,
   "metadata": {},
   "outputs": [
    {
     "data": {
      "text/plain": [
       "\"Ghent doesn't ooze with cobbles and charm, like its rival Bruges — this is a living city, with an urban grittiness and a welcome splash of creative hipster funkiness. Explore its historic quarter, ogle the Van Eyck altarpiece in its massive cathedral, tour its impressive art and design museums, stroll its picturesque embankments, bask in its finely decorated historic gables, and prowl its newly revitalized Patershol restaurant quarter. Ghent is the kind of town that you visit for a few hours…and find yourself wishing you had a few days.\""
      ]
     },
     "execution_count": 20,
     "metadata": {},
     "output_type": "execute_result"
    }
   ],
   "source": [
    "cities_df.iloc[8]['city_summary']"
   ]
  },
  {
   "cell_type": "code",
   "execution_count": 15,
   "metadata": {},
   "outputs": [
    {
     "name": "stdout",
     "output_type": "stream",
     "text": [
      "\n",
      "Score: 0.18688815832138062\t \n",
      "Topic: 0.304*\"visit\" + 0.230*\"ruin\" + 0.156*\"line\" + 0.147*\"mile\" + 0.066*\"experi\" + 0.037*\"explor\" + 0.010*\"year\" + 0.006*\"beauti\" + 0.005*\"north\" + 0.004*\"sit\"\n",
      "\n",
      "Score: 0.1737857460975647\t \n",
      "Topic: 0.191*\"today\" + 0.177*\"cathedr\" + 0.152*\"build\" + 0.135*\"year\" + 0.107*\"fun\" + 0.080*\"sit\" + 0.060*\"travel\" + 0.018*\"live\" + 0.017*\"surround\" + 0.016*\"feel\"\n",
      "\n",
      "Score: 0.159812793135643\t \n",
      "Topic: 0.296*\"peopl\" + 0.258*\"live\" + 0.202*\"shop\" + 0.071*\"experi\" + 0.057*\"life\" + 0.035*\"line\" + 0.024*\"café\" + 0.010*\"travel\" + 0.006*\"build\" + 0.005*\"fun\"\n",
      "\n",
      "Score: 0.14609326422214508\t \n",
      "Topic: 0.407*\"island\" + 0.208*\"explor\" + 0.162*\"surround\" + 0.087*\"sit\" + 0.085*\"beach\" + 0.010*\"set\" + 0.004*\"build\" + 0.001*\"mountain\" + 0.001*\"place\" + 0.001*\"local\"\n",
      "\n",
      "Score: 0.055608831346035004\t \n",
      "Topic: 0.239*\"local\" + 0.194*\"roman\" + 0.191*\"countri\" + 0.183*\"north\" + 0.097*\"ll\" + 0.035*\"travel\" + 0.019*\"year\" + 0.005*\"ruin\" + 0.004*\"visit\" + 0.004*\"peopl\"\n",
      "\n",
      "Score: 0.05558742582798004\t \n",
      "Topic: 0.314*\"sight\" + 0.205*\"free\" + 0.197*\"center\" + 0.132*\"beauti\" + 0.069*\"build\" + 0.026*\"shop\" + 0.007*\"life\" + 0.004*\"visit\" + 0.003*\"set\" + 0.003*\"surround\"\n",
      "\n",
      "Score: 0.05555621162056923\t \n",
      "Topic: 0.265*\"church\" + 0.230*\"mountain\" + 0.190*\"life\" + 0.108*\"ll\" + 0.042*\"experi\" + 0.029*\"surround\" + 0.026*\"build\" + 0.024*\"sight\" + 0.017*\"beauti\" + 0.013*\"mediev\"\n",
      "\n",
      "Score: 0.0555560328066349\t \n",
      "Topic: 0.303*\"place\" + 0.277*\"mediev\" + 0.186*\"café\" + 0.058*\"center\" + 0.046*\"fun\" + 0.034*\"line\" + 0.032*\"travel\" + 0.012*\"year\" + 0.009*\"experi\" + 0.006*\"free\"\n",
      "\n",
      "Score: 0.05555574968457222\t \n",
      "Topic: 0.252*\"coast\" + 0.217*\"beach\" + 0.202*\"franc\" + 0.115*\"mountain\" + 0.063*\"travel\" + 0.055*\"mile\" + 0.046*\"beauti\" + 0.006*\"ll\" + 0.005*\"north\" + 0.005*\"feel\"\n",
      "\n",
      "Score: 0.05555574968457222\t \n",
      "Topic: 0.261*\"feel\" + 0.260*\"visitor\" + 0.190*\"romant\" + 0.161*\"set\" + 0.071*\"beauti\" + 0.015*\"today\" + 0.009*\"experi\" + 0.003*\"local\" + 0.001*\"roman\" + 0.001*\"mountain\"\n"
     ]
    }
   ],
   "source": [
    "for ind, score in sorted(lda_model[bow_corpus[8]], key=lambda tup: -1*tup[1]):\n",
    "    print('\\nScore: {}\\t \\nTopic: {}'.format(score, lda_model.print_topic(ind, 10)))"
   ]
  },
  {
   "cell_type": "code",
   "execution_count": 16,
   "metadata": {},
   "outputs": [
    {
     "name": "stdout",
     "output_type": "stream",
     "text": [
      "\n",
      "Score: 0.8199813365936279\t \n",
      "Topic: 0.106*\"cathedr\" + 0.083*\"franc\" + 0.083*\"mile\" + 0.073*\"free\" + 0.063*\"north\" + 0.062*\"center\" + 0.062*\"travel\" + 0.048*\"explor\" + 0.048*\"visit\" + 0.039*\"build\"\n",
      "\n",
      "Score: 0.020008347928524017\t \n",
      "Topic: 0.153*\"café\" + 0.126*\"live\" + 0.110*\"peopl\" + 0.066*\"line\" + 0.056*\"build\" + 0.050*\"free\" + 0.050*\"shop\" + 0.049*\"fun\" + 0.046*\"local\" + 0.046*\"life\"\n",
      "\n",
      "Score: 0.020003924146294594\t \n",
      "Topic: 0.311*\"mountain\" + 0.099*\"visit\" + 0.086*\"set\" + 0.056*\"romant\" + 0.050*\"franc\" + 0.045*\"beauti\" + 0.042*\"sight\" + 0.041*\"line\" + 0.040*\"ll\" + 0.036*\"ruin\"\n",
      "\n",
      "Score: 0.02000175043940544\t \n",
      "Topic: 0.164*\"countri\" + 0.134*\"ll\" + 0.126*\"peopl\" + 0.083*\"north\" + 0.078*\"local\" + 0.071*\"fun\" + 0.070*\"today\" + 0.053*\"visitor\" + 0.040*\"visit\" + 0.033*\"year\"\n",
      "\n",
      "Score: 0.020001566037535667\t \n",
      "Topic: 0.231*\"island\" + 0.182*\"coast\" + 0.096*\"roman\" + 0.077*\"beach\" + 0.065*\"ruin\" + 0.040*\"mediev\" + 0.031*\"center\" + 0.030*\"explor\" + 0.027*\"countri\" + 0.025*\"cathedr\"\n",
      "\n",
      "Score: 0.0200013667345047\t \n",
      "Topic: 0.159*\"mediev\" + 0.138*\"sight\" + 0.130*\"shop\" + 0.063*\"surround\" + 0.059*\"center\" + 0.057*\"set\" + 0.053*\"local\" + 0.040*\"place\" + 0.035*\"explor\" + 0.034*\"today\"\n",
      "\n",
      "Score: 0.020000925287604332\t \n",
      "Topic: 0.196*\"church\" + 0.128*\"life\" + 0.087*\"ruin\" + 0.079*\"sight\" + 0.070*\"beauti\" + 0.067*\"sit\" + 0.039*\"year\" + 0.035*\"place\" + 0.034*\"explor\" + 0.034*\"build\"\n",
      "\n",
      "Score: 0.020000368356704712\t \n",
      "Topic: 0.164*\"feel\" + 0.111*\"experi\" + 0.104*\"surround\" + 0.078*\"build\" + 0.073*\"visitor\" + 0.068*\"church\" + 0.058*\"travel\" + 0.043*\"today\" + 0.037*\"shop\" + 0.037*\"mediev\"\n",
      "\n",
      "Score: 0.020000319927930832\t \n",
      "Topic: 0.170*\"place\" + 0.169*\"year\" + 0.128*\"today\" + 0.083*\"roman\" + 0.053*\"set\" + 0.047*\"franc\" + 0.038*\"sit\" + 0.037*\"visitor\" + 0.036*\"travel\" + 0.035*\"feel\"\n",
      "\n",
      "Score: 0.02000005543231964\t \n",
      "Topic: 0.252*\"romant\" + 0.178*\"visitor\" + 0.123*\"beauti\" + 0.103*\"beach\" + 0.048*\"experi\" + 0.047*\"mediev\" + 0.039*\"café\" + 0.028*\"line\" + 0.023*\"place\" + 0.019*\"north\"\n"
     ]
    }
   ],
   "source": [
    "for ind, score in sorted(lda_model_tfidf[bow_corpus[8]], key=lambda tup: -1*tup[1]):\n",
    "    print('\\nScore: {}\\t \\nTopic: {}'.format(score, lda_model_tfidf.print_topic(ind, 10)))"
   ]
  },
  {
   "cell_type": "code",
   "execution_count": 17,
   "metadata": {},
   "outputs": [],
   "source": [
    "train_vecs = []\n",
    "for i in range(len(bow_corpus)):\n",
    "    top_topics = lda_model.get_document_topics(bow_corpus[i], minimum_probability=0.0)\n",
    "    topic_vec = [top_topics[i][1] for i in range(10)]\n",
    "    train_vecs.append(topic_vec)"
   ]
  },
  {
   "cell_type": "code",
   "execution_count": 22,
   "metadata": {},
   "outputs": [
    {
     "data": {
      "text/plain": [
       "[0.25020847,\n",
       " 0.08957886,\n",
       " 0.06252645,\n",
       " 0.063820735,\n",
       " 0.08779522,\n",
       " 0.18664914,\n",
       " 0.06306091,\n",
       " 0.06254703,\n",
       " 0.07131286,\n",
       " 0.06250032]"
      ]
     },
     "execution_count": 22,
     "metadata": {},
     "output_type": "execute_result"
    }
   ],
   "source": [
    "train_vecs[210]"
   ]
  },
  {
   "cell_type": "code",
   "execution_count": null,
   "metadata": {},
   "outputs": [],
   "source": []
  }
 ],
 "metadata": {
  "kernelspec": {
   "display_name": "learn-env",
   "language": "python",
   "name": "learn-env"
  },
  "language_info": {
   "codemirror_mode": {
    "name": "ipython",
    "version": 3
   },
   "file_extension": ".py",
   "mimetype": "text/x-python",
   "name": "python",
   "nbconvert_exporter": "python",
   "pygments_lexer": "ipython3",
   "version": "3.6.6"
  }
 },
 "nbformat": 4,
 "nbformat_minor": 2
}
